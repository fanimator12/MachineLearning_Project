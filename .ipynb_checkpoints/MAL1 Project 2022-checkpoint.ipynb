{
 "cells": [
  {
   "cell_type": "markdown",
   "id": "d45f4f02",
   "metadata": {
    "pycharm": {
     "name": "#%% md\n"
    }
   },
   "source": [
    "# Machine Learning Project"
   ]
  },
  {
   "cell_type": "code",
   "execution_count": null,
   "id": "dfd6b5f7",
   "metadata": {
    "pycharm": {
     "name": "#%%\n"
    }
   },
   "outputs": [],
   "source": [
    "# João Bernardo Baptista Vieira Dias - 293133\n",
    "# Franciska-Leonóra Török - 293171"
   ]
  },
  {
   "cell_type": "markdown",
   "id": "600c286e",
   "metadata": {
    "pycharm": {
     "name": "#%% md\n"
    }
   },
   "source": [
    "The assignments below should be solved and documented as a project that will form the basis for the\n",
    "examination. When solving the exercises it is important that you\n",
    "\n",
    "  * document all relevant results and analyses that you have obtained/performed during the exercises.\n",
    "  * try to relate your results to the theoretical background of the methods being applied.\n",
    "\n",
    "Feel free to add cells if you need to.\n",
    "\n",
    "Please hand in assignment 1-6 in a _**single**_ Jupyter notebook where you retain the questions outlined below. You are welcome to adapt code from the web (e.g. Kaggle kernels), but you **_must_** reference the original source in your notebook. In addition to _clean, well-documented code_ (i.e. functions with <a href=\"https://www.geeksforgeeks.org/python-docstrings/\">docstrings</a>, etc), your notebook will be judged according to how well each step is explained (using Markdown). \n",
    "\n",
    "In general, direct questions regarding assignments 1, 4, 5 and 6 to Frederik, and questions regarding assignments 2, 3, and 7 to Richard. \n",
    "\n",
    "Last, but not least:\n",
    "* Looking for an overview of the markdown language? The cheat sheet <a href=\"https://medium.com/ibm-data-science-experience/markdown-for-jupyter-notebooks-cheatsheet-386c05aeebed\">here</a> might help.\n",
    "* For the Python specific components of the exercises, you should not need constructs beyond those that are already included in the notebooks on the course's web-page (still you should not feel constrained by these, so feel free to be adventurous). You may, however, need to consult the documentation for some of the methods supplied by `sklearn`.\n",
    "\n",
    "**Groups:** Create your own groups. May be across teams. 2-4 students per group. No one-person groups.\n",
    "\n",
    "\n",
    "**Submission deadline:** Thursday, December 15 before 13.00 CET (Notebooks + presentation recording)\n",
    "\n",
    "**Expected workload:** Each student is expected to spend around around 50 hours on the project.\n",
    "\n",
    "### Deliverables\n",
    "The teams have to submit three deliverables before the submission deadline: 1) a notebook of assignments 1-6, 2) a notebook of assignment 7, and 3) presentation video uploaded to some online platform e.g. YouTube, Vimeo, etc.\n",
    "\n",
    "#### Notebook\n",
    "The notebook contains all the code to explore the dataset, train the final model and documents each step clearly. If code is copied from another codebase such as Github or Stack Overflow it **_must_** be properly referenced.\n",
    "\n",
    "\n",
    "#### Presentation\n",
    "The presentation video should be 15 min long and should highlight the problem you are solving, interesting things you found in the data and the step involved in building up your model. At the exam we will discuss the presentation and ask questions about your project and submissions. A link to the video must be placed in the notebook for assignment 7.\n",
    "\n",
    "### Randomness\n",
    "For ALL random states, choose state = 69 so we can replicate your work.\n"
   ]
  },
  {
   "cell_type": "code",
   "execution_count": 1,
   "id": "3d1be05c",
   "metadata": {
    "pycharm": {
     "name": "#%%\n"
    }
   },
   "outputs": [
    {
     "ename": "ImportError",
     "evalue": "cannot import name 'plot_pca_illustration' from 'mglearn.plot_pca' (/home/fanimator/.local/lib/python3.8/site-packages/mglearn/plot_pca.py)",
     "output_type": "error",
     "traceback": [
      "\u001b[0;31m---------------------------------------------------------------------------\u001b[0m",
      "\u001b[0;31mImportError\u001b[0m                               Traceback (most recent call last)",
      "Input \u001b[0;32mIn [1]\u001b[0m, in \u001b[0;36m<cell line: 25>\u001b[0;34m()\u001b[0m\n\u001b[1;32m     22\u001b[0m \u001b[38;5;28;01mfrom\u001b[39;00m \u001b[38;5;21;01msklearn\u001b[39;00m\u001b[38;5;21;01m.\u001b[39;00m\u001b[38;5;21;01mneighbors\u001b[39;00m \u001b[38;5;28;01mimport\u001b[39;00m KNeighborsClassifier\n\u001b[1;32m     23\u001b[0m \u001b[38;5;28;01mfrom\u001b[39;00m \u001b[38;5;21;01mscipy\u001b[39;00m\u001b[38;5;21;01m.\u001b[39;00m\u001b[38;5;21;01mcluster\u001b[39;00m\u001b[38;5;21;01m.\u001b[39;00m\u001b[38;5;21;01mhierarchy\u001b[39;00m \u001b[38;5;28;01mimport\u001b[39;00m dendrogram\n\u001b[0;32m---> 25\u001b[0m \u001b[38;5;28;01mimport\u001b[39;00m \u001b[38;5;21;01mmglearn\u001b[39;00m\n\u001b[1;32m     26\u001b[0m \u001b[38;5;28;01mfrom\u001b[39;00m \u001b[38;5;21;01msklearn\u001b[39;00m \u001b[38;5;28;01mimport\u001b[39;00m metrics\n\u001b[1;32m     27\u001b[0m \u001b[38;5;28;01mfrom\u001b[39;00m \u001b[38;5;21;01msklearn\u001b[39;00m\u001b[38;5;21;01m.\u001b[39;00m\u001b[38;5;21;01mnaive_bayes\u001b[39;00m \u001b[38;5;28;01mimport\u001b[39;00m GaussianNB\n",
      "File \u001b[0;32m~/.local/lib/python3.8/site-packages/mglearn/__init__.py:1\u001b[0m, in \u001b[0;36m<module>\u001b[0;34m\u001b[0m\n\u001b[0;32m----> 1\u001b[0m \u001b[38;5;28;01mfrom\u001b[39;00m \u001b[38;5;21;01m.\u001b[39;00m \u001b[38;5;28;01mimport\u001b[39;00m plots\n\u001b[1;32m      2\u001b[0m \u001b[38;5;28;01mfrom\u001b[39;00m \u001b[38;5;21;01m.\u001b[39;00m \u001b[38;5;28;01mimport\u001b[39;00m tools\n\u001b[1;32m      3\u001b[0m \u001b[38;5;28;01mfrom\u001b[39;00m \u001b[38;5;21;01m.\u001b[39;00m\u001b[38;5;21;01mplots\u001b[39;00m \u001b[38;5;28;01mimport\u001b[39;00m cm3, cm2\n",
      "File \u001b[0;32m~/.local/lib/python3.8/site-packages/mglearn/plots.py:14\u001b[0m, in \u001b[0;36m<module>\u001b[0;34m\u001b[0m\n\u001b[1;32m     12\u001b[0m \u001b[38;5;28;01mfrom\u001b[39;00m \u001b[38;5;21;01m.\u001b[39;00m\u001b[38;5;21;01mplot_tree_nonmonotonous\u001b[39;00m \u001b[38;5;28;01mimport\u001b[39;00m plot_tree_not_monotone\n\u001b[1;32m     13\u001b[0m \u001b[38;5;28;01mfrom\u001b[39;00m \u001b[38;5;21;01m.\u001b[39;00m\u001b[38;5;21;01mplot_scaling\u001b[39;00m \u001b[38;5;28;01mimport\u001b[39;00m plot_scaling\n\u001b[0;32m---> 14\u001b[0m \u001b[38;5;28;01mfrom\u001b[39;00m \u001b[38;5;21;01m.\u001b[39;00m\u001b[38;5;21;01mplot_pca\u001b[39;00m \u001b[38;5;28;01mimport\u001b[39;00m plot_pca_illustration, plot_pca_whitening, plot_pca_faces\n\u001b[1;32m     15\u001b[0m \u001b[38;5;28;01mfrom\u001b[39;00m \u001b[38;5;21;01m.\u001b[39;00m\u001b[38;5;21;01mplot_decomposition\u001b[39;00m \u001b[38;5;28;01mimport\u001b[39;00m plot_decomposition\n\u001b[1;32m     16\u001b[0m \u001b[38;5;28;01mfrom\u001b[39;00m \u001b[38;5;21;01m.\u001b[39;00m\u001b[38;5;21;01mplot_nmf\u001b[39;00m \u001b[38;5;28;01mimport\u001b[39;00m plot_nmf_illustration, plot_nmf_faces\n",
      "\u001b[0;31mImportError\u001b[0m: cannot import name 'plot_pca_illustration' from 'mglearn.plot_pca' (/home/fanimator/.local/lib/python3.8/site-packages/mglearn/plot_pca.py)"
     ]
    }
   ],
   "source": [
    "# Import all necessary modules here:\n",
    "import pandas as pd\n",
    "import csv\n",
    "import re\n",
    "import os\n",
    "import ast\n",
    "import scipy.io\n",
    "import numpy as np\n",
    "import matplotlib.pyplot as plt\n",
    "import glob\n",
    "from PIL import Image\n",
    "from sklearn.svm import SVC\n",
    "from sklearn.feature_selection import SelectPercentile\n",
    "from sklearn.model_selection import train_test_split\n",
    "from sklearn.linear_model import LinearRegression, LassoCV, RidgeCV, ElasticNetCV\n",
    "from sklearn.cluster import KMeans, DBSCAN, AgglomerativeClustering\n",
    "from sklearn.utils import resample\n",
    "from sklearn.datasets import load_digits\n",
    "from sklearn.preprocessing import StandardScaler, LabelEncoder\n",
    "from sklearn.metrics import adjusted_rand_score, classification_report\n",
    "from sklearn.decomposition import PCA\n",
    "from sklearn.neighbors import KNeighborsClassifier\n",
    "from scipy.cluster.hierarchy import dendrogram\n",
    "\n",
    "import mglearn\n",
    "from sklearn import metrics\n",
    "from sklearn.naive_bayes import GaussianNB\n",
    "from sklearn.tree import DecisionTreeClassifier\n",
    "from sklearn.ensemble import RandomForestClassifier\n",
    "from keras.layers import Conv2D, MaxPooling2D, Flatten\n",
    "import tensorflow as tf\n",
    "import matplotlib.pyplot as plot\n",
    "from sklearn.feature_extraction.text import CountVectorizer\n",
    "from tensorflow import keras\n",
    "from keras.models import Sequential\n",
    "from keras.layers import Dense, Activation\n",
    "from keras.models import Model\n",
    "from sklearn.datasets import load_digits\n",
    "from sklearn.model_selection import train_test_split\n",
    "from tensorflow.keras.utils import to_categorical\n",
    "from tensorflow.keras import optimizers\n",
    "from numpy.random import seed, randint"
   ]
  },
  {
   "cell_type": "markdown",
   "id": "b93c919b",
   "metadata": {
    "pycharm": {
     "name": "#%% md\n"
    }
   },
   "source": [
    "## 1. The IceCat Dataset (Franciska)\n",
    "\n",
    "__You should be able to do this exercise after Lecture 3.__"
   ]
  },
  {
   "cell_type": "markdown",
   "id": "7daad0bb",
   "metadata": {
    "pycharm": {
     "name": "#%% md\n"
    }
   },
   "source": [
    "The IceCat Dataset, kindly provided to us by Stibo Systems, contains a large amount of data on different office products. As an example of \"real-world\" data, these data are imperfect and incomplete. As such, this exercise is not so much an exercise in creating a good machine learning model, but places a larger emphasis on \"cleaning the data\".\n",
    "\n",
    "We are going to work with a subset of the IceCat Dataset. In particular, you will be provided with a zip file of 5,854 images of office products, each with the name \"product ID\".jpg. You will also be provided with a list of colors, `colors.txt`, which, when imported using the code below, is a list of tuples of the form `[(\"product ID\", \"color\"), ...]`. (The code below assumes that `colors.txt` is in the same folder as the jupyter notebook. Feel free to change the code if you prefer a different organization of your files)."
   ]
  },
  {
   "cell_type": "code",
   "execution_count": null,
   "id": "0c5e06bc",
   "metadata": {
    "pycharm": {
     "name": "#%%\n"
    }
   },
   "outputs": [],
   "source": [
    "# Cleaning up the data\n",
    "\n",
    "colors = []\n",
    "\n",
    "# Read the data from the colors.txt file\n",
    "with open('1 The IceCat Dataset/colors.txt') as f:\n",
    "    for line in f:\n",
    "        # Use regular expressions to extract the product ID and color labels\n",
    "        # from each line in the file\n",
    "        matches = re.findall(r'\\((\\d+),([^)]+)\\)', line)\n",
    "        for match in matches:\n",
    "            product_id = int(match[0])\n",
    "            color_labels = match[1].strip().split(',')\n",
    "            colors.append((product_id, color_labels))"
   ]
  },
  {
   "cell_type": "code",
   "execution_count": null,
   "id": "a12dc343",
   "metadata": {
    "pycharm": {
     "name": "#%%\n"
    }
   },
   "outputs": [],
   "source": [
    "def select_features(X, y):\n",
    "    select = SelectPercentile(percentile=75) \n",
    "    result = select.fit_transform(X, y)\n",
    "    return result"
   ]
  },
  {
   "cell_type": "code",
   "execution_count": null,
   "id": "8a251148",
   "metadata": {
    "pycharm": {
     "name": "#%%\n"
    }
   },
   "outputs": [],
   "source": [
    "def load_color_labels():\n",
    "    with open(\"1 The IceCat Dataset/colors.txt\",\"r\") as file:\n",
    "        colors = ast.literal_eval(file.read())\n",
    "        result = pd.DataFrame(colors, columns = ['product_id', 'color'])\n",
    "        return result"
   ]
  },
  {
   "cell_type": "code",
   "execution_count": 4,
   "id": "3c76e806",
   "metadata": {
    "pycharm": {
     "name": "#%%\n"
    }
   },
   "outputs": [
    {
     "ename": "NameError",
     "evalue": "name 'load_color_labels' is not defined",
     "output_type": "error",
     "traceback": [
      "\u001b[0;31m---------------------------------------------------------------------------\u001b[0m",
      "\u001b[0;31mNameError\u001b[0m                                 Traceback (most recent call last)",
      "Input \u001b[0;32mIn [4]\u001b[0m, in \u001b[0;36m<cell line: 1>\u001b[0;34m()\u001b[0m\n\u001b[0;32m----> 1\u001b[0m color_labels \u001b[38;5;241m=\u001b[39m \u001b[43mload_color_labels\u001b[49m()\n\u001b[1;32m      2\u001b[0m image_list \u001b[38;5;241m=\u001b[39m os\u001b[38;5;241m.\u001b[39mlistdir(\u001b[38;5;124m\"\u001b[39m\u001b[38;5;124m1 The IceCat Dataset/images\u001b[39m\u001b[38;5;124m\"\u001b[39m)\n\u001b[1;32m      4\u001b[0m \u001b[38;5;28mprint\u001b[39m(color_labels, \u001b[38;5;28mlen\u001b[39m(image_list))\n",
      "\u001b[0;31mNameError\u001b[0m: name 'load_color_labels' is not defined"
     ]
    }
   ],
   "source": [
    "color_labels = load_color_labels()\n",
    "image_list = os.listdir(\"1 The IceCat Dataset/images\")\n",
    "\n",
    "print(color_labels, len(image_list))"
   ]
  },
  {
   "cell_type": "code",
   "execution_count": 2,
   "id": "64319ba3",
   "metadata": {
    "pycharm": {
     "name": "#%%\n"
    }
   },
   "outputs": [],
   "source": [
    "def remove_multi_labels(images, colors):\n",
    "    result_colors = colors[colors.apply(lambda row: len(row['color'].split(',')) == 1, axis=1)]\n",
    "    result_images = images.copy()\n",
    "    \n",
    "    for image in images:\n",
    "        if image.split('.')[0] not in str(result_colors.product_id.values.tolist()):\n",
    "            result_images.remove(image)\n",
    "    return (result_images, result_colors)"
   ]
  },
  {
   "cell_type": "code",
   "execution_count": 3,
   "id": "14f3f3f0",
   "metadata": {
    "pycharm": {
     "name": "#%%\n"
    }
   },
   "outputs": [
    {
     "ename": "NameError",
     "evalue": "name 'image_list' is not defined",
     "output_type": "error",
     "traceback": [
      "\u001b[0;31m---------------------------------------------------------------------------\u001b[0m",
      "\u001b[0;31mNameError\u001b[0m                                 Traceback (most recent call last)",
      "Input \u001b[0;32mIn [3]\u001b[0m, in \u001b[0;36m<cell line: 1>\u001b[0;34m()\u001b[0m\n\u001b[0;32m----> 1\u001b[0m image_list, color_labels \u001b[38;5;241m=\u001b[39m remove_multi_labels(\u001b[43mimage_list\u001b[49m, color_labels)\n\u001b[1;32m      2\u001b[0m \u001b[38;5;28mprint\u001b[39m(color_labels\u001b[38;5;241m.\u001b[39mshape, \u001b[38;5;28mlen\u001b[39m(image_list))\n\u001b[1;32m      3\u001b[0m \u001b[38;5;28mprint\u001b[39m(color_labels)\n",
      "\u001b[0;31mNameError\u001b[0m: name 'image_list' is not defined"
     ]
    }
   ],
   "source": [
    "image_list, color_labels = remove_multi_labels(image_list, color_labels)\n",
    "print(color_labels.shape, len(image_list))\n",
    "print(color_labels)"
   ]
  },
  {
   "cell_type": "code",
   "execution_count": null,
   "id": "dfa18641",
   "metadata": {
    "pycharm": {
     "name": "#%%\n"
    }
   },
   "outputs": [],
   "source": [
    "# Remove Multicolour rows\n",
    "\n",
    "def remove_multicolour(images, colors):\n",
    "    result_colors = colors.drop(colors[colors.color == \"Multicolour\"].index)\n",
    "    result_images = images.copy()\n",
    "    \n",
    "    for image in images:\n",
    "        if image.split('.')[0] not in str(result_colors.product_id.values.tolist()):\n",
    "            result_images.remove(image)\n",
    "    return (result_images, result_colors)"
   ]
  },
  {
   "cell_type": "code",
   "execution_count": null,
   "id": "3e7ab3b7",
   "metadata": {
    "pycharm": {
     "name": "#%%\n"
    }
   },
   "outputs": [],
   "source": [
    "single_color_image_list, single_color_labels = remove_multicolour(image_list, color_labels)\n",
    "print(len(single_color_image_list), len(single_color_labels))"
   ]
  },
  {
   "cell_type": "code",
   "execution_count": null,
   "id": "c2507215",
   "metadata": {
    "pycharm": {
     "name": "#%%\n"
    }
   },
   "outputs": [],
   "source": [
    "# The occurences each unique color has\n",
    "single_color_labels['color'].value_counts()"
   ]
  },
  {
   "cell_type": "code",
   "execution_count": null,
   "id": "355b1829",
   "metadata": {
    "pycharm": {
     "name": "#%%\n"
    }
   },
   "outputs": [],
   "source": [
    "# Group similar color labels\n",
    "\n",
    "def group_similar_labels(labels):\n",
    "    color_groups = {\n",
    "        'Multicolour': ['Assorted colours', 'Multi'],\n",
    "        'Silver': ['Metallic', 'Stainless steel', 'Aluminium', 'Platinum', 'Titanium', 'Chrome'],\n",
    "        'Purple': ['Violet'],\n",
    "        'Brown': ['Cappuccino', 'Wood', 'Oak colour', 'Beige'],\n",
    "        'Grey': ['Charcoal', 'Graphite', 'Light grey'],\n",
    "        'Black': ['Anthracite'],\n",
    "        'White': ['Ivory', 'Cream'],\n",
    "        'Pink': ['Magenta', 'Rose'],\n",
    "        'Red': ['Bordeaux'],\n",
    "        'Blue': ['Navy'],\n",
    "        'Transparent': ['Translucent']\n",
    "    }\n",
    "    \n",
    "    result = labels.copy()\n",
    "    for group_name, group_colors in color_groups.items():\n",
    "        result.loc[result['color'].isin(group_colors), 'color'] = group_name\n",
    "    \n",
    "    return result"
   ]
  },
  {
   "cell_type": "code",
   "execution_count": null,
   "id": "336272ce",
   "metadata": {
    "pycharm": {
     "name": "#%%\n"
    }
   },
   "outputs": [],
   "source": [
    "# Count the number of times each color occurs in the dataframe\n",
    "color_counts = single_color_labels['color'].value_counts()\n",
    "print(f'Number of times each color occurs: \\n{color_counts}')\n",
    "\n",
    "# Since there are many colors, let's select only the top-occurring color labels from the dataframe\n",
    "top_colors = single_color_labels.loc[single_color_labels['color'].isin(color_counts.index[:20])]\n",
    "\n",
    "# Create a bar chart to visualize the color counts\n",
    "top_colors['color'].value_counts().plot(kind='bar')\n",
    "\n",
    "# Show the chart\n",
    "plt.show()"
   ]
  },
  {
   "cell_type": "code",
   "execution_count": null,
   "id": "9943808d",
   "metadata": {
    "pycharm": {
     "name": "#%%\n"
    }
   },
   "outputs": [],
   "source": [
    "# Test grouping colors\n",
    "\n",
    "# Define test data\n",
    "# test_data = ['Assorted colours', 'Platinum', 'Oak colour', 'Navy']\n",
    "test_data = pd.DataFrame(data=test_data, columns=['color'])\n",
    "\n",
    "# Group the test data\n",
    "rs = group_similar_labels(test_data)\n",
    "\n",
    "# Print the result\n",
    "print(rs)"
   ]
  },
  {
   "cell_type": "code",
   "execution_count": null,
   "id": "45adb15f",
   "metadata": {
    "pycharm": {
     "name": "#%%\n"
    }
   },
   "outputs": [],
   "source": [
    "# Convert the list to a DataFrame\n",
    "colors = color_labels.copy()\n",
    "\n",
    "def remove_categories_with_small_sample_size(colors, images_dir_list):\n",
    "    # Remove categories with small sample size\n",
    "    colors_to_remove = colors[colors.groupby('color').color.transform('count')<=30].product_id.values\n",
    "    result_images = images_dir_list.copy()\n",
    "    \n",
    "    for image in images_dir_list:\n",
    "        if image.split('.')[0] in str(colors_to_remove):\n",
    "            result_images.remove(image)\n",
    "    \n",
    "    result_colors = colors[colors.groupby('color').color.transform('count')>17]\n",
    "    return (result_images, result_colors)"
   ]
  },
  {
   "cell_type": "code",
   "execution_count": null,
   "id": "828e9248",
   "metadata": {
    "pycharm": {
     "name": "#%%\n"
    }
   },
   "outputs": [],
   "source": [
    "# Create a list of images by removing multicolours\n",
    "single_color_image_list, single_color_labels = remove_multicolour(image_list, color_labels)\n",
    "\n",
    "# Group the data by single color labels\n",
    "grouped_labels = group_similar_labels(single_color_labels)\n",
    "\n",
    "# Remove categories with small sample size\n",
    "img, clrs = remove_categories_with_small_sample_size(grouped_labels, single_color_image_list)\n",
    "\n",
    "# Print the shape and length of the updated image list and labels\n",
    "print(clrs.shape, len(img))"
   ]
  },
  {
   "cell_type": "code",
   "execution_count": null,
   "id": "78251033",
   "metadata": {
    "pycharm": {
     "name": "#%%\n"
    }
   },
   "outputs": [],
   "source": [
    "# Load images\n",
    "\n",
    "def load_images_to_X(images):\n",
    "    result = []\n",
    "    \n",
    "    for i in range(len(images)):\n",
    "        try:\n",
    "            img = Image.open(\"1 The IceCat Dataset/images/\"+images[i]).convert(\"RGB\")\n",
    "            img_resize = img.resize((100,100))\n",
    "            row = np.asarray(img_resize).ravel()\n",
    "            result.append(row)\n",
    "            print(\"Image file \" + images[i] + \" succesfully read\")\n",
    "        except:\n",
    "            # Handle error\n",
    "            print(\"Error: could not open or read image file \" + images[i])\n",
    "    return result"
   ]
  },
  {
   "cell_type": "code",
   "execution_count": null,
   "id": "c55ca706",
   "metadata": {
    "pycharm": {
     "name": "#%%\n"
    }
   },
   "outputs": [],
   "source": [
    "def scale_features(images):\n",
    "    scaler = StandardScaler()\n",
    "    return scaler.fit_transform(images)"
   ]
  },
  {
   "cell_type": "code",
   "execution_count": null,
   "id": "e9aec8c5",
   "metadata": {
    "pycharm": {
     "name": "#%%\n"
    }
   },
   "outputs": [],
   "source": [
    "def remove_rejected_samples(images, colors):\n",
    "    result_images = images.copy()\n",
    "    result_colors = colors.copy()\n",
    "    \n",
    "    rejects = ['1898642', '1928867', '23245634', '23287294', '23295960', '24460676', '24780903', '25200863', '26284122', '26584085', '26909132', '26909222', '26911161', '26985264', '26985325', '26985327', '26985360', '26985370', '27206167', '276403', '28349924', '29728929', '43563816', '448792', '5181789', '6080609', '61048266', '6182276', '6248516', '65498543', '65587810', '65587894', '65587899', '65587904', '65587909', '65587935', '65588145', '65588259', '68278310', '699778', '70013114', '70559240', '71167111', '71480859', '71527338', '71537839', '71537997', '71538379', '71539924', '71539974', '71540611', '71541186', '71541187', '71541188', '71541454', '72508304', '72639045', '72648917', '72652672', '72677136', '72701093', '72730892', '72736565', '72736634', '72743801', '72743802', '72743863', '72752764', '72752814', '72752894', '72752907', '72752920', '72753000', '72753018', '72755653', '72767729', '72767731', '72767733', '72767734', '73073643', '73327791', '73340513', '73340539', '75031854', '76310340', '76310502', '77337176', '77338583', '77363824', '7878721', '78794198', '78794201', '78794216', '78794218', '78794219', '78794221', '7969721', '86199020', '86201758', '87633730', '87633735', '87633736', '87633773', '9492873', '9492880', '9492881', '9492883', '9492885']\n",
    "\n",
    "    for reject in rejects:\n",
    "        result_colors.drop(result_colors.loc[result_colors['product_id']==int(reject)].index, inplace=True)\n",
    "\n",
    "    for image in images:\n",
    "        if image.split('.')[0] in rejects:\n",
    "            result_images.remove(image)\n",
    "    \n",
    "    return (result_images, result_colors)\n",
    "\n",
    "images_without_rejects, colors_without_rejects =  remove_rejected_samples(img, clrs)\n",
    "print(len(images_without_rejects), colors_without_rejects.shape)"
   ]
  },
  {
   "cell_type": "code",
   "execution_count": null,
   "id": "e56386f0",
   "metadata": {
    "pycharm": {
     "name": "#%%\n"
    }
   },
   "outputs": [],
   "source": [
    "print(colors_without_rejects['color'].value_counts())"
   ]
  },
  {
   "cell_type": "code",
   "execution_count": null,
   "id": "8c87c796",
   "metadata": {
    "pycharm": {
     "name": "#%%\n"
    }
   },
   "outputs": [],
   "source": [
    "# Load the images into a numpy array\n",
    "X = load_images_to_X(images_without_rejects)\n",
    "\n",
    "# Scale features\n",
    "X_scaled = scale_features(X)\n",
    "print(X_scaled)"
   ]
  },
  {
   "cell_type": "code",
   "execution_count": null,
   "id": "6ba12f36",
   "metadata": {
    "pycharm": {
     "name": "#%%\n"
    }
   },
   "outputs": [],
   "source": [
    "# Split the data into training and test sets\n",
    "\n",
    "X_train, X_test, y_train, y_test = train_test_split(X_scaled, colors_without_rejects['color'], stratify=colors_without_rejects['color'], random_state=69)\n",
    "X_train.shape"
   ]
  },
  {
   "cell_type": "code",
   "execution_count": null,
   "id": "1ea2e010",
   "metadata": {
    "pycharm": {
     "name": "#%%\n"
    }
   },
   "outputs": [],
   "source": [
    "# Using K-Neighbors\n",
    "\n",
    "clf = KNeighborsClassifier(n_neighbors=75)\n",
    "clf.fit(X_train, y_train)\n",
    "test_score = clf.score(X_test, y_test)\n",
    "train_score = clf.score(X_train, y_train)\n",
    "print(train_score, test_score)"
   ]
  },
  {
   "cell_type": "code",
   "execution_count": null,
   "id": "584b0e39",
   "metadata": {
    "pycharm": {
     "name": "#%%\n"
    }
   },
   "outputs": [],
   "source": [
    "print(classification_report(clf.predict(X_test), y_test))"
   ]
  },
  {
   "cell_type": "code",
   "execution_count": null,
   "id": "b55afd75",
   "metadata": {
    "pycharm": {
     "name": "#%%\n"
    }
   },
   "outputs": [],
   "source": [
    "# Using SVC\n",
    "\n",
    "model_svc = SVC()\n",
    "model_svc.fit(X_train, y_train)\n",
    "test_score = model_svc.score(X_test, y_test)\n",
    "train_score = model_svc.score(X_train, y_train)\n",
    "print(train_score, test_score)"
   ]
  },
  {
   "cell_type": "code",
   "execution_count": null,
   "id": "62a6ac3a",
   "metadata": {
    "pycharm": {
     "name": "#%%\n"
    }
   },
   "outputs": [],
   "source": [
    "print(classification_report(model_svc.predict(X_test), y_test))"
   ]
  },
  {
   "cell_type": "markdown",
   "id": "b8e5ded7",
   "metadata": {
    "pycharm": {
     "name": "#%% md\n"
    }
   },
   "source": [
    "Your task is to clean up the data and construct a simple machine learning model (_e.g._, _k_-nearest neighbor) that can identify the color of a product. You have free hands - there is hardly any one \"correct answer\" - but you need to argue for your choices. Among other things, you probably need to think about the following as you work with the data:\n",
    "\n",
    "* All of the images have different sizes.\n",
    "\n",
    "* Some of the images are RGB images (3 layers), others are CMYK (4 layers), some might even be black-and-white (1 layer).\n",
    "\n",
    "* Some colors are only represented by very few products.\n",
    "\n",
    "* Some colors are very similar, such as \"Purple\" and \"Violet\".\n",
    "\n",
    "* A product may have a particular color, but a packaging of a different color. Similarly, the color of, say, a computer monitor may be black, while the image of it could show a monitor that is turned on with a green screensaver.\n",
    "\n",
    "* Many products are attributed to several colors, such as \"Black, Blue\" or even \"Blue, Green, Orange, Violet, Yellow\". Yet others are described as \"Multicolor\" or \"Assorted colors\".\n",
    "\n",
    "Again, you have free hands in how you are going to solve these (and other) challenges, but you must argue for and reflect on your choices as you progress."
   ]
  },
  {
   "cell_type": "markdown",
   "id": "68b87530",
   "metadata": {
    "pycharm": {
     "name": "#%% md\n"
    }
   },
   "source": [
    "## 2. Flights Departing from NYC (Franciska)\n",
    "\n",
    "__You should be able to do this exercise after Lecture 4.__"
   ]
  },
  {
   "cell_type": "markdown",
   "id": "9aa6e9e4",
   "metadata": {
    "pycharm": {
     "name": "#%% md\n"
    }
   },
   "source": [
    "For this exercise we will be using the famous nycflights13 data which contains the `airlines`, `airports`, `flights`, `planes`, and `weather` datasets. Please see the documentation (`nycflights13.pdf`) for further information."
   ]
  },
  {
   "cell_type": "markdown",
   "id": "1f375e64",
   "metadata": {
    "pycharm": {
     "name": "#%% md\n"
    }
   },
   "source": [
    "**(a)** Load all files as pandas dataframes and display the first 5 rows of each dataset."
   ]
  },
  {
   "cell_type": "code",
   "execution_count": null,
   "id": "00ae8cd5",
   "metadata": {
    "pycharm": {
     "name": "#%%\n"
    }
   },
   "outputs": [],
   "source": [
    "data_dir = '2 Flights Departing from NYC/'\n",
    "\n",
    "tables = {\n",
    "    'flights': 'flights.csv',\n",
    "    'airlines': 'airlines.csv',\n",
    "    'airports': 'airports.csv',\n",
    "    'planes': 'planes.csv',\n",
    "    'weather': 'weather.csv',\n",
    "}\n",
    "\n",
    "for table_name, filename in tables.items():\n",
    "    table = pd.read_csv('{}{}'.format(data_dir, filename))\n",
    "    display(table)"
   ]
  },
  {
   "cell_type": "markdown",
   "id": "f1735007",
   "metadata": {
    "pycharm": {
     "name": "#%% md\n"
    }
   },
   "source": [
    "**(b)** Convert all temperature attributes to degree Celsius. We will be using this in what follows."
   ]
  },
  {
   "cell_type": "code",
   "execution_count": null,
   "id": "537e367c",
   "metadata": {
    "pycharm": {
     "name": "#%%\n"
    }
   },
   "outputs": [],
   "source": [
    "print(\"Before conversion\")\n",
    "display(weather[0:5])\n",
    "\n",
    "# Define the temperature conversion formula\n",
    "def convert_temp(row):\n",
    "    row[\"temp\"] = (row[\"temp\"] - 32) * 5/9\n",
    "    row[\"dewp\"] = (row[\"dewp\"] - 32) * 5/9\n",
    "    return row\n",
    "\n",
    "# Apply the conversion formula to all rows in the dataframe\n",
    "weather = weather.apply(convert_temp, axis=1)\n",
    "\n",
    "print(\"After conversion\")\n",
    "display(weather[0:5])"
   ]
  },
  {
   "cell_type": "markdown",
   "id": "d8165796",
   "metadata": {
    "pycharm": {
     "name": "#%% md\n"
    }
   },
   "source": [
    "**(c)** Using OLS, investigate if flight distance is associated with arrival delay. You should be cautious regarding negative delays."
   ]
  },
  {
   "cell_type": "code",
   "execution_count": null,
   "id": "d736d24b",
   "metadata": {
    "pycharm": {
     "name": "#%%\n"
    }
   },
   "outputs": [],
   "source": [
    "# Load the datasets\n",
    "flights = pd.read_csv(\"{}{}\".format(data_dir, tables[\"flights\"]))\n",
    "\n",
    "# Select the relevant columns and drop missing values\n",
    "flightdata = flights[[\"distance\", \"dep_delay\", \"arr_delay\"]].dropna()\n",
    "\n",
    "# Create the predictor and outcome variables\n",
    "X = flightdata[[\"distance\", \"dep_delay\"]]\n",
    "y = flightdata[\"arr_delay\"]\n",
    "\n",
    "# Split the data into training and test sets\n",
    "X_train, X_test, y_train, y_test = train_test_split(X, y, random_state=1)\n",
    "\n",
    "# Fit the linear regression model\n",
    "ODS = LinearRegression()\n",
    "ODS.fit(X_train, y_train)\n",
    "\n",
    "# Print the results of the model\n",
    "print(\"Intercept:\", ODS.intercept_)\n",
    "print(\"Coefficients:\", ODS.coef_)\n",
    "print(\"Train data R-squared:\", ODS.score(X_train, y_train))\n",
    "print(\"Test data R-squared:\", ODS.score(X_test, y_test))"
   ]
  },
  {
   "cell_type": "markdown",
   "id": "4b97bfc3",
   "metadata": {
    "pycharm": {
     "name": "#%% md\n"
    }
   },
   "source": [
    "**(d)** Using OLS, investigate if departure delay is associated with arrival delay. Again,\n",
    "   consider what to do with negative delays."
   ]
  },
  {
   "cell_type": "code",
   "execution_count": null,
   "id": "f539e20f",
   "metadata": {
    "pycharm": {
     "name": "#%%\n"
    }
   },
   "outputs": [],
   "source": [
    "# Select the relevant columns and drop missing values\n",
    "flightdata = flights[[\"dep_delay\", \"arr_delay\"]].dropna()\n",
    "\n",
    "# Create the predictor and outcome variables\n",
    "X = flightdata[\"dep_delay\"]\n",
    "y = flightdata[\"arr_delay\"]\n",
    "\n",
    "# Split the data into training and test sets\n",
    "X_train, X_test, y_train, y_test = train_test_split(X, y, random_state=1)\n",
    "\n",
    "# Fit the linear regression model\n",
    "ODS = LinearRegression()\n",
    "ODS.fit(X_train.values.reshape(-1,1), y_train)\n",
    "\n",
    "# Print the results of the model\n",
    "print(\"Intercept:\", ODS.intercept_)\n",
    "print(\"Coefficient:\", ODS.coef_)\n",
    "print(\"Train data R-squared:\", ODS.score(X_train.values.reshape(-1,1), y_train))\n",
    "print(\"Test data R-squared:\", ODS.score(X_test.values.reshape(-1,1), y_test))"
   ]
  },
  {
   "cell_type": "markdown",
   "id": "2b482ff1",
   "metadata": {
    "pycharm": {
     "name": "#%% md\n"
    }
   },
   "source": [
    "**(e)** Investigate whether departure delay is associated with weather conditions\n",
    "   at the origin airport. This includes descriptives, plotting, regression modelling,\n",
    "   considering missing values etc. For regression, do OLS, Ridge, Lasso, and Elastic Net.\n",
    "   The analysis should also include seasonality trends as a \"weather condition\". You could,\n",
    "   for instance, plot the daily departure delay with the date (or monthly). What are the\n",
    "   three most important weather conditions when trying to predict departure delays?"
   ]
  },
  {
   "cell_type": "code",
   "execution_count": null,
   "id": "add3a39e",
   "metadata": {
    "pycharm": {
     "name": "#%%\n"
    }
   },
   "outputs": [],
   "source": [
    "# Merge the flights and weather data on the origin, year, month, day, and hour\n",
    "flightdata = pd.merge(\n",
    "    flights, weather, on=[\"origin\", \"year\", \"month\", \"day\", \"hour\"]\n",
    ")\n",
    "\n",
    "# Select the relevant columns and drop missing values\n",
    "flightdata = flightdata[\n",
    "    [\n",
    "        \"temp\",\n",
    "        \"dewp\",\n",
    "        \"humid\",\n",
    "        \"wind_dir\",\n",
    "        \"wind_speed\",\n",
    "        \"wind_gust\",\n",
    "        \"precip\",\n",
    "        \"pressure\",\n",
    "        \"visib\",\n",
    "        \"dep_delay\",\n",
    "        \"arr_delay\",\n",
    "    ]\n",
    "].dropna()\n",
    "\n",
    "# Create the predictor and outcome variables\n",
    "X = flightdata[\n",
    "    [\n",
    "        \"temp\",\n",
    "        \"dewp\",\n",
    "        \"humid\",\n",
    "        \"wind_dir\",\n",
    "        \"wind_speed\",\n",
    "        \"wind_gust\",\n",
    "        \"precip\",\n",
    "        \"pressure\",\n",
    "        \"visib\",\n",
    "    ]\n",
    "]\n",
    "y = flightdata[\"dep_delay\"]\n",
    "\n",
    "# Split the data into training and test sets\n",
    "X_train, X_test, y_train, y_test = train_test_split(X, y, random_state=69)\n",
    "\n",
    "# Fit the linear regression models\n",
    "OLS = LinearRegression()\n",
    "OLS.fit(X_train, y_train)\n",
    "\n",
    "lasso = LassoCV(alphas=None, cv=10, max_iter=100000)\n",
    "lasso.fit(X_train, y_train)\n",
    "\n",
    "ridge = RidgeCV()\n",
    "ridge.fit(X_train, y_train)\n",
    "\n",
    "elastic = ElasticNetCV(l1_ratio=0.5, cv=10, max_iter=100000)\n",
    "elastic.fit(X_train, y_train)\n",
    "\n",
    "# Plot the coefficients of the fitted models\n",
    "fig, axs = plt.subplots(2, 2, figsize=(10, 8))\n",
    "\n",
    "# OLS\n",
    "axs[0, 0].bar(X.columns, OLS.coef_)\n",
    "axs[0, 0].set_title(\"OLS\")\n",
    "\n",
    "# Lasso\n",
    "axs[0, 1].bar(X.columns, lasso.coef_)\n",
    "axs[0, 1].set_title(\"Lasso\")\n",
    "\n",
    "# Ridge\n",
    "axs[1, 0].bar(X.columns, ridge.coef_)\n",
    "axs[1, 0].set_title(\"Ridge\")\n",
    "\n",
    "# Elastic Net\n",
    "axs[1, 1].bar(X.columns, elastic.coef_)\n",
    "axs[1, 1].set_title(\"Elastic Net\")\n",
    "\n",
    "plt.show()"
   ]
  },
  {
   "cell_type": "code",
   "execution_count": null,
   "id": "30ea2cd8",
   "metadata": {
    "pycharm": {
     "name": "#%%\n"
    }
   },
   "outputs": [],
   "source": [
    "# Merge the flights and weather data on the origin, year, month, day, and hour\n",
    "flightdata = pd.merge(\n",
    "    flights, weather, on=[\"origin\", \"year\", \"month\", \"day\", \"hour\"]\n",
    ")\n",
    "\n",
    "# Convert the dep_delay column to a binary indicator of whether the flight was delayed\n",
    "flightdata[\"dep_delay\"] = flightdata[\"dep_delay\"].apply(\n",
    "    lambda value: 1 if value > 0 else 0\n",
    ")\n",
    "\n",
    "# Drop missing values\n",
    "flightdata = flightdata.dropna()\n",
    "\n",
    "# Get the names of the months\n",
    "months_names = [\"January\", \"February\", \"March\", \"April\", \"May\", \"June\", \"July\", \"August\", \"September\", \"October\",\"November\", \"December\"]\n",
    "\n",
    "# Create empty lists for the amount of delayed flights, total flights, and percentage of delayed flights\n",
    "amount_delayed = [0] * 12\n",
    "amount_total = [0] * 12\n",
    "amount_percent = [0] * 12\n",
    "\n",
    "# Iterate over the rows of the data\n",
    "for index, row in flightdata.iterrows():\n",
    "\n",
    "    # Increment the amount of delayed flights in the appropriate month\n",
    "    if row[\"dep_delay\"] == 1:\n",
    "        amount_delayed[row[\"month\"] - 1] += 1\n",
    "\n",
    "    # Increment the total amount of flights in the appropriate month\n",
    "    amount_total[row[\"month\"] - 1] += 1\n",
    "\n",
    "# Calculate the percentage of delayed flights for each month\n",
    "amount_percent = [d / t * 100 for d, t in zip(amount_delayed, amount_total)]"
   ]
  },
  {
   "cell_type": "code",
   "execution_count": null,
   "id": "4b18d006",
   "metadata": {
    "pycharm": {
     "name": "#%%\n"
    }
   },
   "outputs": [],
   "source": [
    "import numpy as np\n",
    "\n",
    "# Create a figure with the desired size\n",
    "fig = plt.figure(figsize=(10, 6))\n",
    "\n",
    "# Add a subplot to the figure\n",
    "ax = fig.add_subplot(1, 1, 1)\n",
    "\n",
    "# Plot the total and delayed flights as bar charts\n",
    "ax.bar(\n",
    "    np.arange(len(months_names)) - 0.25, amount_total,\n",
    "    width=0.25, label=\"Total\"\n",
    ")\n",
    "ax.bar(\n",
    "    np.arange(len(months_names)) + 0.25, amount_delayed,\n",
    "    width=0.25, label=\"Delayed\"\n",
    ")\n",
    "\n",
    "# Set the x-axis tick labels to the names of the months\n",
    "ax.set_xticks(np.arange(len(months_names)))\n",
    "ax.set_xticklabels(months_names)\n",
    "\n",
    "# Add a legend to the plot\n",
    "ax.legend()\n",
    "\n",
    "# Show the plot\n",
    "plt.show()"
   ]
  },
  {
   "cell_type": "code",
   "execution_count": null,
   "id": "baeea78f",
   "metadata": {
    "pycharm": {
     "name": "#%%\n"
    }
   },
   "outputs": [],
   "source": [
    "# Create a figure with the desired size\n",
    "fig = plt.figure(figsize=(10, 6))\n",
    "\n",
    "# Add a subplot to the figure\n",
    "ax = fig.add_subplot(1, 1, 1)\n",
    "\n",
    "# Plot the percentage of delayed flights as a bar chart\n",
    "ax.bar(\n",
    "    np.arange(len(months_names)), amount_percent, width=0.5,\n",
    "    label=\"Delayed\"\n",
    ")\n",
    "\n",
    "# Set the x-axis tick labels to the names of the months\n",
    "ax.set_xticks(np.arange(len(months_names)))\n",
    "ax.set_xticklabels(months_names)\n",
    "\n",
    "# Add a legend to the plot\n",
    "ax.legend()\n",
    "\n",
    "# Show the plot\n",
    "plt.show()"
   ]
  },
  {
   "cell_type": "markdown",
   "id": "f1fdc10a",
   "metadata": {
    "pycharm": {
     "name": "#%% md\n"
    }
   },
   "source": [
    "**(f)** Is the age of the plane associated with delay? Do OLS, Ridge, Lasso, and Elastic Net."
   ]
  },
  {
   "cell_type": "markdown",
   "id": "a658e710",
   "metadata": {
    "pycharm": {
     "name": "#%% md\n"
    }
   },
   "source": [
    "No, and here's why:"
   ]
  },
  {
   "cell_type": "code",
   "execution_count": null,
   "id": "0d3733a2",
   "metadata": {
    "pycharm": {
     "name": "#%%\n"
    }
   },
   "outputs": [],
   "source": [
    "# Merge the flights and planes datasets on the tailnum column\n",
    "flight_data = pd.merge(\n",
    "    flights.copy(deep=True), planes.copy(deep=True),\n",
    "    on=\"tailnum\"\n",
    ")\n",
    "\n",
    "# Calculate the age of the plane\n",
    "flight_data[\"plane_age\"] = flight_data[\"year_x\"] - flight_data[\"year_y\"]\n",
    "\n",
    "# Select the relevant columns\n",
    "flight_data = flight_data.loc[:, [\"plane_age\", \"dep_delay\", \"arr_delay\"]]\n",
    "\n",
    "# Drop rows with missing values\n",
    "flight_data = flight_data.dropna()\n",
    "\n",
    "# Split the data into training and test sets\n",
    "X_train, X_test, y_train, y_test = train_test_split(\n",
    "    flight_data[[\"plane_age\"]], flight_data[\"dep_delay\"],\n",
    "    random_state=69\n",
    ")\n",
    "\n",
    "# Fit a linear regression model to the data\n",
    "model = LinearRegression()\n",
    "model.fit(X_train, y_train)\n",
    "\n",
    "# Print the model's R-squared score on the training and test sets\n",
    "print(f\"OLS dep and plane age\\nTrain data: {model.score(X_train, y_train):.3f}\\nTest data: {model.score(X_test, y_test):.3f}\")"
   ]
  },
  {
   "cell_type": "code",
   "execution_count": null,
   "id": "ff06e499",
   "metadata": {
    "pycharm": {
     "name": "#%%\n"
    }
   },
   "outputs": [],
   "source": [
    "# Merge the flights and planes data\n",
    "flightdata = pd.merge(flights.copy(deep=True), planes.copy(deep=True), on=\"tailnum\")\n",
    "\n",
    "# Select the columns we need from the merged data\n",
    "flightdata = flightdata.loc[:,[\"year_x\", \"year_y\", \"dep_delay\", \"arr_delay\"]]\n",
    "\n",
    "# Calculate the age of each plane by subtracting its year of manufacture from the year of the flight\n",
    "flightdata[\"plane_age\"] = flightdata[\"year_x\"] - flightdata[\"year_y\"]\n",
    "\n",
    "# Calculate the arrival delay by subtracting the departure delay from the arrival delay\n",
    "flightdata[\"arr_delay\"] = flightdata[\"arr_delay\"] - flights[\"dep_delay\"] \n",
    "\n",
    "# Drop any rows with missing values\n",
    "flightdata = flightdata.dropna()\n",
    "\n",
    "# Select the plane age column as the input features\n",
    "X = flightdata.loc[:,[\"plane_age\"]]\n",
    "\n",
    "# Select the arrival delay column as the target variable\n",
    "y = flightdata.loc[:,[\"arr_delay\"]]\n",
    "\n",
    "# Split the data into training and test sets\n",
    "X_train, X_test , y_train, y_test = train_test_split(X, y, random_state=69)\n",
    "\n",
    "# Fit a linear regression model to the training data\n",
    "ODS = LinearRegression()\n",
    "ODS.fit(X_train, y_train)\n",
    "\n",
    "# Print the model's R-squared score on the training and test sets\n",
    "print(f\"OLS arr and plane age\\nTrain data: {ODS.score(X_train, y_train):.3f}\\nTest data: {ODS.score(X_test, y_test):.3f}\")"
   ]
  },
  {
   "cell_type": "code",
   "execution_count": null,
   "id": "f4a51471",
   "metadata": {
    "pycharm": {
     "name": "#%%\n"
    }
   },
   "outputs": [],
   "source": [
    "# Merge the flights and planes data on the 'tailnum' column\n",
    "flightdata = pd.merge(flights, planes, on='tailnum')\n",
    "\n",
    "# Select the columns to include in the model\n",
    "flightdata = flightdata[['year_x', 'year_y', 'dep_delay', 'arr_delay']]\n",
    "\n",
    "# Compute the plane's age\n",
    "flightdata['plane_age'] = flightdata['year_x'] - flightdata['year_y']\n",
    "\n",
    "# Remove rows with missing values\n",
    "flightdata = flightdata.dropna()\n",
    "\n",
    "# Define the features (predictors) and the target (response) variables\n",
    "X = flightdata[['plane_age']]\n",
    "y = flightdata['dep_delay']\n",
    "\n",
    "# Split the data into training and test sets\n",
    "X_train, X_test, y_train, y_test = train_test_split(X, y, random_state=69)"
   ]
  },
  {
   "cell_type": "code",
   "execution_count": null,
   "id": "10ea9182",
   "metadata": {
    "pycharm": {
     "name": "#%%\n"
    }
   },
   "outputs": [],
   "source": [
    "# Fit a Ridge regression model to the data\n",
    "alphas = 10 ** np.linspace(-10, 10, 100)\n",
    "ridgecv = make_pipeline(StandardScaler(), RidgeCV(alphas=alphas))\n",
    "ridgecv.fit(X_train, y_train)\n",
    "\n",
    "# Compute the model's R-squared score on the training and test sets\n",
    "train_score = ridgecv.score(X_train, y_train)\n",
    "test_score = ridgecv.score(X_test, y_test)\n",
    "\n",
    "# Print the R-squared scores\n",
    "print(f\"Ridge\\nTrain data: {train_score:.3f} \\nTest data: {test_score:.3f}\")\n",
    "\n",
    "# Get the optimal value of the regularization parameter\n",
    "alpha = model.named_steps[\"ridgecv\"].alpha_\n",
    "print(f\"Optimal regularization parameter: {alpha:.3f}\")"
   ]
  },
  {
   "cell_type": "code",
   "execution_count": null,
   "id": "ca83e6a0",
   "metadata": {
    "pycharm": {
     "name": "#%%\n"
    }
   },
   "outputs": [],
   "source": [
    "# Create a pipeline that scales the data, fits a LassoCV model, and computes the model's R-squared score\n",
    "model = make_pipeline(StandardScaler(), LassoCV(cv=10, max_iter=100000))\n",
    "model.fit(X_train, y_train)\n",
    "\n",
    "# Compute the model's R-squared score on the training and test sets\n",
    "train_score = model.score(X_train, y_train)\n",
    "test_score = model.score(X_test, y_test)\n",
    "\n",
    "# Print the R-squared scores\n",
    "print(f\"Lasso\\nTrain data: {train_score:.3f} \\nTest data: {test_score:.3f}\")\n",
    "\n",
    "# Print the optimal regularization parameter\n",
    "print(f\"Optimal regularization parameter: {model[1].alpha_:.3f}\")"
   ]
  },
  {
   "cell_type": "markdown",
   "id": "017df82c",
   "metadata": {
    "pycharm": {
     "name": "#%% md\n"
    }
   },
   "source": [
    "**(g)** Do a principal component analysis of the weather at JFK using the following columns:\n",
    "   temp, dewp, humid, wind_dir, wind_speed, precip, visib.\n",
    "   How many principal components should be used to capture the variability in the weather data?"
   ]
  },
  {
   "cell_type": "code",
   "execution_count": null,
   "id": "a00609c4",
   "metadata": {
    "pycharm": {
     "name": "#%%\n"
    }
   },
   "outputs": [],
   "source": [
    "# Copy the weather data\n",
    "weather_data = weather.copy(deep=True)\n",
    "\n",
    "# Filter the data to only include observations from JFK\n",
    "weather_data = weather_data[weather_data[\"origin\"] == \"JFK\"]\n",
    "\n",
    "# Select the columns of interest\n",
    "weather_data = weather_data[[\"temp\", \"dewp\", \"humid\", \"wind_dir\", \"wind_speed\", \"precip\", \"visib\"]]\n",
    "\n",
    "# Drop any missing values\n",
    "weather_data = weather_data.dropna()\n",
    "\n",
    "# Standardize the data\n",
    "scaler = StandardScaler()\n",
    "weather_data_standardized = scaler.fit_transform(weather_data)\n",
    "\n",
    "# Perform PCA using all columns\n",
    "pca = PCA()\n",
    "pca.fit(weather_data_standardized)\n",
    "\n",
    "# Transform the data using the fitted PCA model\n",
    "transformed_data = pca.transform(weather_data_standardized)\n",
    "\n",
    "# Get the explained variance ratio for each principal component\n",
    "per_var = np.round(pca.explained_variance_ratio_*100, decimals=1)\n",
    "\n",
    "# Create labels for the principal components\n",
    "labels = [\"PC\" + str(i) for i in range(1, len(per_var) + 1)]\n",
    "\n",
    "# Create a bar plot showing the percentage of variance explained by each principal component\n",
    "plt.bar(x=range(1, len(per_var)+1), height=per_var, tick_label=labels)\n",
    "plt.ylabel('% of variance')\n",
    "plt.xlabel(\"PC\")\n",
    "plt.show()\n",
    "\n",
    "# Print the number of principal components that explain at least 80% of the variance\n",
    "print(f\"Number of principal components that explain at least 80% of the variance: {(per_var >= 80).sum()}\")"
   ]
  },
  {
   "cell_type": "markdown",
   "id": "938b89f1",
   "metadata": {
    "pycharm": {
     "name": "#%% md\n"
    }
   },
   "source": [
    "**(h)** Build regression models (OLS, Ridge, Lasso, and Elastic Net) that associates\n",
    "   an airports lattitude with weather conditions (temp, dewp, humid, wind_dir, wind_speed,\n",
    "   precip, visib). Remove all but the three most significant whether conditions and redo\n",
    "   the analysis."
   ]
  },
  {
   "cell_type": "code",
   "execution_count": null,
   "id": "e59b168c",
   "metadata": {
    "pycharm": {
     "name": "#%%\n"
    }
   },
   "outputs": [],
   "source": [
    "# Merge the weather and airport data\n",
    "airportWeather = pd.merge(weather.copy(deep=True), airports.copy(deep=True), left_on='origin', right_on='faa')\n",
    "\n",
    "# Select the relevant columns from the merged data\n",
    "airportWeather = airportWeather[[\"temp\", \"dewp\", \"humid\", \"wind_dir\", \"wind_speed\", \"precip\", \"visib\", \"lat\"]]\n",
    "\n",
    "# Remove any missing values\n",
    "airportWeather = airportWeather.dropna()\n",
    "\n",
    "# Split the data into training and test sets\n",
    "X = airportWeather[[\"temp\", \"dewp\", \"humid\", \"wind_dir\", \"wind_speed\", \"precip\", \"visib\"]]\n",
    "y = airportWeather[[\"lat\"]]\n",
    "X_train, X_test, y_train, y_test = train_test_split(X, y, random_state=69)\n",
    "\n",
    "# Scale the data\n",
    "scaler = StandardScaler()\n",
    "X_train_scaled = scaler.fit_transform(X_train)\n",
    "X_test_scaled = scaler.transform(X_test)\n",
    "\n",
    "# Fit and evaluate an OLS model\n",
    "OLS = LinearRegression()\n",
    "OLS.fit(X_train_scaled, y_train)\n",
    "\n",
    "# Compute the model's R-squared score on the training and test sets\n",
    "train_score = OLS.score(X_train_scaled, y_train)\n",
    "test_score = OLS.score(X_test_scaled, y_test)\n",
    "\n",
    "# Print the R-squared scores\n",
    "print(f\"OLS\\nTrain data: {train_score} \\nTest data: {test_score}\")\n",
    "\n",
    "# Fit a Ridge regression model with default regularization parameter\n",
    "ridgecv = make_pipeline(StandardScaler(), RidgeCV(alphas=alphas))\n",
    "ridge.fit(X_train_scaled, y_train)\n",
    "\n",
    "# Compute the model's R-squared score on the training and test sets\n",
    "train_score = ridge.score(X_train_scaled, y_train)\n",
    "test_score = ridge.score(X_test_scaled, y_test)\n",
    "\n",
    "# Print the R-squared scores\n",
    "print(f\"Ridge\\nTrain data: {train_score} \\nTest data: {test_score}\")\n",
    "\n",
    "# Fit a Lasso regression model with default regularization parameter\n",
    "lasso = make_pipeline(StandardScaler(), LassoCV(alphas = None, cv = 10, max_iter = 100000))\n",
    "lasso.fit(X_train_scaled, y_train)\n",
    "\n",
    "# Compute the model's R-squared score on the training and test sets\n",
    "train_score = lasso.score(X_train_scaled, y_train)\n",
    "test_score = lasso.score(X_test_scaled, y_test)\n",
    "\n",
    "# Print the R-squared scores\n",
    "print(f\"Lasso\\nTrain data: {train_score} \\nTest data: {test_score}\")\n",
    "\n",
    "# Fit an Elastic Net regression model with default regularization parameter\n",
    "enet = ElasticNetCV()\n",
    "enet.fit(X_train_scaled, y_train)\n",
    "\n",
    "# Compute the model's R-squared score on the training and test sets\n",
    "train_score = enet.score(X_train_scaled, y_train)\n",
    "test_score = enet.score(X_test_scaled, y_test)\n",
    "\n",
    "# Print the R-squared scores\n",
    "print(f\"Elastic Net\\nTrain data: {train_score} \\nTest data: {test_score}\")"
   ]
  },
  {
   "cell_type": "code",
   "execution_count": null,
   "id": "c1718400",
   "metadata": {
    "pycharm": {
     "name": "#%%\n"
    }
   },
   "outputs": [],
   "source": [
    "# Get the column names and coefficients from the LassoCV model\n",
    "col_names = X.columns\n",
    "coefficients = lasso.coef_\n",
    "\n",
    "# Create a bar plot showing the coefficients of each variable\n",
    "fig, ax = plt.subplots()\n",
    "ax.bar(col_names, coefficients)\n",
    "ax.set_ylabel('Coefficient')\n",
    "ax.set_xlabel('Variable')\n",
    "plt.show()"
   ]
  },
  {
   "cell_type": "code",
   "execution_count": null,
   "id": "a12ba971",
   "metadata": {
    "pycharm": {
     "name": "#%%\n"
    }
   },
   "outputs": [],
   "source": [
    "# Merge the weather and airports dataframes\n",
    "airportWeather = weather.merge(airports, left_on='origin', right_on='faa')\n",
    "\n",
    "# Select the relevant columns\n",
    "airportWeather = airportWeather[[\"temp\", \"dewp\", \"humid\", \"wind_dir\", \"wind_speed\", \"precip\", \"visib\", \"lat\"]]\n",
    "\n",
    "# Drop rows with missing values\n",
    "airportWeather = airportWeather.dropna()\n",
    "\n",
    "# Split the data into features and target\n",
    "X = airportWeather[[\"temp\", \"dewp\", \"precip\"]]\n",
    "y = airportWeather[[\"lat\"]]\n",
    "\n",
    "# Split the data into training and testing sets\n",
    "X_train, X_test , y_train, y_test = train_test_split(X, y, random_state=69)"
   ]
  },
  {
   "cell_type": "code",
   "execution_count": null,
   "id": "8bb6e9ce",
   "metadata": {
    "pycharm": {
     "name": "#%%\n"
    }
   },
   "outputs": [],
   "source": [
    "# Create the linear regression model\n",
    "model = LinearRegression()\n",
    "\n",
    "# Fit the model to the training data\n",
    "model.fit(X_train, y_train)\n",
    "\n",
    "# Evaluate the model on the training and testing data\n",
    "train_score = model.score(X_train, y_train)\n",
    "test_score = model.score(X_test, y_test)\n",
    "\n",
    "# Print the results\n",
    "print(\"Linear Regression\\nTrain data: {} \\nTest data: {}\".format(train_score, test_score))"
   ]
  },
  {
   "cell_type": "code",
   "execution_count": null,
   "id": "7210dfde",
   "metadata": {
    "pycharm": {
     "name": "#%%\n"
    }
   },
   "outputs": [],
   "source": [
    "# Create an array of alpha values\n",
    "alphas = 10**np.linspace(-10, 10, 100)\n",
    "\n",
    "# Create a RidgeCV model with the given alpha values\n",
    "model = make_pipeline(StandardScaler(), RidgeCV(alphas=alphas))\n",
    "\n",
    "# Fit the model to the training data\n",
    "model.fit(X_train, y_train)\n",
    "\n",
    "# Evaluate the model on the training and testing data\n",
    "train_score = model.score(X_train, y_train)\n",
    "test_score = model.score(X_test, y_test)\n",
    "\n",
    "# Print the results\n",
    "print(\"Ridge Regression\\nTrain data: {} \\nTest data: {}\".format(train_score, test_score))"
   ]
  },
  {
   "cell_type": "code",
   "execution_count": null,
   "id": "12728fbd",
   "metadata": {
    "pycharm": {
     "name": "#%%\n"
    }
   },
   "outputs": [],
   "source": [
    "# Create a LassoCV model\n",
    "model = make_pipeline(StandardScaler(), LassoCV(cv=10, max_iter=100000))\n",
    "\n",
    "# Fit the model to the training data\n",
    "model.fit(X_train, y_train.values.ravel())\n",
    "\n",
    "# Evaluate the model on the training and testing data\n",
    "train_score = model.score(X_train, y_train)\n",
    "test_score = model.score(X_test, y_test)\n",
    "\n",
    "# Print the results\n",
    "print(\"Lasso Regression\\nTrain data: {} \\nTest data: {}\".format(train_score, test_score))"
   ]
  },
  {
   "cell_type": "markdown",
   "id": "b4383931",
   "metadata": {
    "pycharm": {
     "name": "#%% md\n"
    }
   },
   "source": [
    "**(i)** On a map, plot the airports that have flights to them where the points that represent\n",
    "   airports are relative in size to the average departure delay. You can see an example in \"airports.png\"."
   ]
  },
  {
   "cell_type": "markdown",
   "id": "7d9af939",
   "metadata": {
    "pycharm": {
     "name": "#%% md\n"
    }
   },
   "source": [
    " **(j)** These questions require no code.\n",
    " - Suppose you are using Ridge Regression and you notice that the training error and the validation error are almost equal and fairly high. Would you say that the model suffers from high bias or high variance? Should you increase the regularization hyperparameter or reduce it?\n",
    "\n",
    "- Why would you want to use:\n",
    "        > Ridge Regression instead of plain Linear Regression (i.e. without any regularization)?\n",
    "        > Lasso instead of Ridge Regression?\n",
    "        > Elastic Net instead of Lasso?"
   ]
  },
  {
   "cell_type": "markdown",
   "id": "e1223a58",
   "metadata": {
    "pycharm": {
     "name": "#%% md\n"
    }
   },
   "source": [
    "**Answer:**\n",
    "\n",
    "- If the training error and validation error are almost equal and fairly high when using Ridge Regression, it indicates that the model is **underfitting** the data, which is often caused by high bias. In this situation, it would be appropriate to decrease the regularization hyperparameter, as a lower regularization strength would allow the model to fit the data more closely and potentially reduce the bias.\n",
    "\n",
    "- **Ridge Regression** is a type of regularized linear regression that uses L2 regularization to **prevent overfitting** by adding a penalty on the coefficients of the model. This can help to improve the generalization performance of the model and prevent overfitting, especially when the number of features is large compared to the number of training examples.\n",
    "\n",
    "- **Lasso** is a type of regularized linear regression that uses L1 regularization to set some of the coefficients of the model to 0, effectively performing **feature selection** and **eliminating redundant or irrelevant features** from the model. This can make the model more interpretable and **reduce the complexity** of the model, which can improve its performance on unseen data.\n",
    "\n",
    "- **Elastic Net** is a type of regularized linear regression that combines L1 and L2 regularization, allowing the model to **eliminate irrelevant features** and **reduce the complexity** of the model, while also **avoiding overfitting** by adding a penalty on the coefficients. This can provide the benefits of both Lasso and Ridge Regression, and can be especially useful when there are multiple correlated features in the data."
   ]
  },
  {
   "cell_type": "markdown",
   "id": "06973dc9",
   "metadata": {
    "pycharm": {
     "name": "#%% md\n"
    }
   },
   "source": [
    "## 3. Clustering of Handwritten Digits (Franciska)\n",
    "\n",
    "__You should be able to do this exercise after Lecture 5.__"
   ]
  },
  {
   "cell_type": "markdown",
   "id": "d2fc64ce",
   "metadata": {
    "pycharm": {
     "name": "#%% md\n"
    }
   },
   "source": [
    "This exercise will depart from the famous MNIST dataset, and we are exploring several clustering techniques with it.. This is a \".mat\" file, in order to load this file in an ipynb you have to use loadmat() function from scipy.io. (replace my path)."
   ]
  },
  {
   "cell_type": "code",
   "execution_count": null,
   "id": "fe238740",
   "metadata": {
    "pycharm": {
     "name": "#%%\n"
    }
   },
   "outputs": [],
   "source": [
    "mnist = scipy.io.loadmat('3 Clustering of Handwritten Digits/mnist-original')\n",
    "mnist_data = mnist[\"data\"].T\n",
    "mnist_label = mnist[\"label\"][0]\n",
    "\n",
    "print(\"Number of datapoints: {}\\n\".format(mnist_data.shape[0]))\n",
    "print(\"Number of features: {}\\n\".format(mnist_data.shape[1]))\n",
    "print(\"List of labels: {}\\n\".format(np.unique(mnist_label)))"
   ]
  },
  {
   "cell_type": "markdown",
   "id": "b601264e",
   "metadata": {
    "pycharm": {
     "name": "#%% md\n"
    }
   },
   "source": [
    "There are 70,000 images, and each image has 784 features. This is because each image is 28×28 pixels,\n",
    "and each feature simply represents one pixel’s intensity, from 0 (white) to 255 (black). Let’s take a peek at one digit from the dataset. All you need to do is grab an instance’s feature vector, reshape it to a 28×28 array, and display it using Matplotlib’s `imshow()` function:"
   ]
  },
  {
   "cell_type": "code",
   "execution_count": null,
   "id": "28b7878c",
   "metadata": {
    "pycharm": {
     "name": "#%%\n"
    }
   },
   "outputs": [],
   "source": [
    "index = 4\n",
    "print(\"Value of datapoint no. {}:\\n{}\\n\".format(index, mnist_data[index]))\n",
    "print(\"As image:\\n\")\n",
    "\n",
    "# Use the reshape method to reshape the data into a 28x28 array\n",
    "image = mnist_data[index].reshape(28, 28)\n",
    "\n",
    "# Use imshow to display the image\n",
    "plt.imshow(image, cmap=plt.cm.gray_r)\n",
    "plt.show()\n",
    "\n",
    "# It first reshapes the data into a 28x28 array using the `reshape` method,\n",
    "# then uses the `imshow` function to display the image using\n",
    "# the grayscale color map `gray_r`."
   ]
  },
  {
   "cell_type": "markdown",
   "id": "911eee54",
   "metadata": {
    "pycharm": {
     "name": "#%% md\n"
    }
   },
   "source": [
    "**(a)** Perform k-means clustering with k=10 on this dataset."
   ]
  },
  {
   "cell_type": "code",
   "execution_count": null,
   "id": "b7e405d6",
   "metadata": {
    "pycharm": {
     "name": "#%%\n"
    }
   },
   "outputs": [],
   "source": [
    "# Scale the data from 0 to 1\n",
    "scaled_data = mnist_data/255.0\n",
    "\n",
    "# Create a kmeans model with 10 clusters\n",
    "kmeans = KMeans(n_clusters=10)\n",
    "\n",
    "# Fit the model to the data\n",
    "kmeans.fit(scaled_data)\n",
    "\n",
    "# KMeans class from the sklearn.cluster module uses it to perform \n",
    "# k-means clustering with k=10 on the MNIST dataset.\n",
    "\n",
    "# It first scales the data by dividing each value by 255,\n",
    "# then creates a KMeans model with k=10 and fits the model to the data."
   ]
  },
  {
   "cell_type": "markdown",
   "id": "ddf689b7",
   "metadata": {
    "pycharm": {
     "name": "#%% md\n"
    }
   },
   "source": [
    "**(b)** Using visualization techniques analogous to what we have done in the Clustering notebook\n",
    "   for the faces data, can you determine the 'nature' of the 10 constructed clusters?\n",
    "   Do the clusters (roughly) coincide with the 10 different actual digits?"
   ]
  },
  {
   "cell_type": "code",
   "execution_count": null,
   "id": "6cb39815",
   "metadata": {
    "pycharm": {
     "name": "#%%\n"
    }
   },
   "outputs": [],
   "source": [
    "# Loop through the 10 clusters\n",
    "for i in range(10):\n",
    "  # Get the cluster center\n",
    "  center = kmeans.cluster_centers_[i]\n",
    "\n",
    "  # Reshape the cluster center into a 28x28 array\n",
    "  image = center.reshape(28, 28)\n",
    "\n",
    "  # Use imshow to display the image\n",
    "  plt.imshow(image, cmap=plt.cm.gray)\n",
    "  plt.tight_layout()\n",
    "  plt.show()\n",
    "    \n",
    "# It loops through each cluster,\n",
    "# gets the cluster center,\n",
    "# reshapes it into a 28x28 array, \n",
    "# and displays the image using the `imshow` function with \n",
    "# the grayscale color map `gray`. \n",
    "\n",
    "# This allows us to visualize the \"nature\" of the 10 constructed \n",
    "# clusters and determine whether they roughly coincide with \n",
    "# the 10 different actual digits."
   ]
  },
  {
   "cell_type": "markdown",
   "id": "4fadf735",
   "metadata": {
    "pycharm": {
     "name": "#%% md\n"
    }
   },
   "source": [
    "**(c)** Perform a supervised clustering evaluation using adjusted rand index.\n",
    "   Are the results stable, when you perform several random restarts of k-means?"
   ]
  },
  {
   "cell_type": "code",
   "execution_count": null,
   "id": "570a3ec3",
   "metadata": {
    "pycharm": {
     "name": "#%%\n"
    }
   },
   "outputs": [],
   "source": [
    "# Resample the data to include 500 samples\n",
    "small_mnist_data, small_mnist_label = resample(mnist_data, mnist_label, n_samples=500, replace=False)\n",
    "\n",
    "# Standardize the data\n",
    "scaler = StandardScaler()\n",
    "scaler.fit(small_mnist_data)\n",
    "X_scaled = scaler.transform(small_mnist_data)\n",
    "\n",
    "# Create a kmeans model with 10 clusters\n",
    "kmeans = KMeans(n_clusters=10)\n",
    "\n",
    "# Perform 10 random restarts of kmeans and calculate the ARI for each\n",
    "for i in range(10):\n",
    "  # Fit the model to the scaled data and predict the labels\n",
    "  labels = kmeans.fit_predict(X_scaled)\n",
    "\n",
    "  # Calculate the adjusted rand index\n",
    "\n",
    "  # This allows us to determine whether the results of the clustering \n",
    "  # are stable when performing multiple random restarts of k-means.\n",
    "  ari = adjusted_rand_score(labels, small_mnist_label)\n",
    "  print(\"ARI of random restarts: {:.2f}\".format(ari))"
   ]
  },
  {
   "cell_type": "code",
   "execution_count": null,
   "id": "2784411b",
   "metadata": {
    "pycharm": {
     "name": "#%%\n"
    }
   },
   "outputs": [],
   "source": [
    "# The clusterings generated by the k-means algorithm \n",
    "# are only moderately similar to the original labels. => Moderately stable\n",
    "\n",
    "# This suggests that the k-means algorithm is not performing well \n",
    "# on this dataset."
   ]
  },
  {
   "cell_type": "markdown",
   "id": "fbc647d1",
   "metadata": {
    "pycharm": {
     "name": "#%% md\n"
    }
   },
   "source": [
    "**(d)** Now perform hierarchical clustering on the data.\n",
    "   (in order to improve visibility in the constructed dendrograms, you can also use a\n",
    "   much reduced dataset as constructed using sklearn.utils.resample shown below).\n",
    "   Does the visual analysis of the dendrogram indicate a natural number of clusters?"
   ]
  },
  {
   "cell_type": "code",
   "execution_count": null,
   "id": "e23c3e0a",
   "metadata": {
    "pycharm": {
     "name": "#%%\n"
    }
   },
   "outputs": [],
   "source": [
    "# Define a function to plot a dendrogram\n",
    "def plot_dendrogram(model, **kwargs):\n",
    "    # Create linkage matrix and then plot the dendrogram\n",
    "\n",
    "    # Create the counts of samples under each node\n",
    "    counts = np.zeros(model.children_.shape[0])\n",
    "    n_samples = len(model.labels_)\n",
    "    for i, merge in enumerate(model.children_):\n",
    "        current_count = 0\n",
    "        for child_idx in merge:\n",
    "            if child_idx < n_samples:\n",
    "                current_count += 1  # leaf node\n",
    "            else:\n",
    "                current_count += counts[child_idx - n_samples]\n",
    "        counts[i] = current_count\n",
    "\n",
    "    linkage_matrix = np.column_stack(\n",
    "        [model.children_, model.distances_, counts]\n",
    "    ).astype(float)\n",
    "\n",
    "    # Plot the corresponding dendrogram\n",
    "    dendrogram(linkage_matrix, **kwargs)"
   ]
  },
  {
   "cell_type": "code",
   "execution_count": null,
   "id": "355d765e",
   "metadata": {
    "pycharm": {
     "name": "#%%\n"
    }
   },
   "outputs": [],
   "source": [
    "# Resample the data to include 500 samples\n",
    "small_mnist_data, small_mnist_label = resample(mnist_data, mnist_label, n_samples=500, replace=False, random_state=69)\n",
    "\n",
    "# Standardize the data\n",
    "scaler = StandardScaler()\n",
    "scaler.fit(small_mnist_data)\n",
    "X_scaled = scaler.transform(small_mnist_data)\n",
    "\n",
    "# Perform hierarchical clustering with 10 clusters\n",
    "model = AgglomerativeClustering(n_clusters=10, compute_distances=True)\n",
    "model.fit(X_scaled)\n",
    "\n",
    "# Plot the dendrogram\n",
    "plt.figure(figsize=(10, 10))\n",
    "plot_dendrogram(model, labels=model.labels_)\n",
    "plt.show()"
   ]
  },
  {
   "cell_type": "markdown",
   "id": "e74cd890",
   "metadata": {
    "pycharm": {
     "name": "#%% md\n"
    }
   },
   "source": [
    "**(e)** Using different cluster distance metrics (ward,single,average, etc.),\n",
    "   what do the clusterings look like that are produced at the level of k=10 clusters?\n",
    "   See the Clustering notebook for the needed Python code, including the fcluster\n",
    "   method to retrieve 'plain' clusterings from the hierarchical clustering."
   ]
  },
  {
   "cell_type": "markdown",
   "id": "62600dc9",
   "metadata": {
    "pycharm": {
     "name": "#%% md\n"
    }
   },
   "source": [
    "**Ward's method minimizes the sum of squared differences within all clusters, while maximum or complete linkage minimizes the maximum distance between observations of pairs of clusters. Average linkage minimizes the average distance between all pairs of observations in different clusters, and single linkage minimizes the distance between the closest observations in pairs of clusters. These different distance metrics can produce very different clusterings, as they capture different aspects of the underlying structure of the data.**"
   ]
  },
  {
   "cell_type": "code",
   "execution_count": null,
   "id": "c23b5f2a",
   "metadata": {
    "pycharm": {
     "name": "#%%\n"
    }
   },
   "outputs": [],
   "source": [
    "# Load the MNIST data\n",
    "mnist = load_digits()\n",
    "\n",
    "# Sample 200 random data points from the MNIST data\n",
    "small_mnist_data, small_mnist_labels = resample(\n",
    "    mnist.data,\n",
    "    mnist.target,\n",
    "    n_samples=200,\n",
    "    replace=False\n",
    ")\n",
    "\n",
    "# Create an AgglomerativeClustering object with n_clusters=10 and linkage='ward'\n",
    "agglomerative = AgglomerativeClustering(\n",
    "    n_clusters=10,\n",
    "    linkage='ward',\n",
    "    compute_distances=True\n",
    ")\n",
    "\n",
    "# Fit the model to the data and generate a dendrogram\n",
    "agg = agglomerative.fit(small_mnist_data)\n",
    "plt.title(\"Hierarchical Clustering Dendrogram (linkage = 'ward')\")\n",
    "plot_dendrogram(agg)"
   ]
  },
  {
   "cell_type": "code",
   "execution_count": null,
   "id": "100d51cc",
   "metadata": {
    "pycharm": {
     "name": "#%%\n"
    }
   },
   "outputs": [],
   "source": [
    "# Repeat the process with linkage='single'\n",
    "agglomerative = AgglomerativeClustering(\n",
    "    n_clusters=10,\n",
    "    linkage='single',\n",
    "    compute_distances=True\n",
    ")\n",
    "agglomerative.fit(small_mnist_data)\n",
    "plt.title(\"Hierarchical Clustering Dendrogram (linkage = 'single')\")\n",
    "plot_dendrogram(agg)"
   ]
  },
  {
   "cell_type": "code",
   "execution_count": null,
   "id": "7de60b46",
   "metadata": {
    "pycharm": {
     "name": "#%%\n"
    }
   },
   "outputs": [],
   "source": [
    "# Repeat the process with linkage='average'\n",
    "agglomerative = AgglomerativeClustering(\n",
    "    n_clusters=10,\n",
    "    linkage='average',\n",
    "    compute_distances=True\n",
    ")\n",
    "agglomerative.fit(small_mnist_data)\n",
    "plt.title(\"Hierarchical Clustering Dendrogram (linkage = 'average')\")\n",
    "plot_dendrogram(agg)"
   ]
  },
  {
   "cell_type": "markdown",
   "id": "1f44503a",
   "metadata": {
    "pycharm": {
     "name": "#%% md\n"
    }
   },
   "source": [
    "**(f)** Do a DBSCAN clustering of the small dataset. Tweak the different parameters."
   ]
  },
  {
   "cell_type": "code",
   "execution_count": null,
   "id": "2e3465d5",
   "metadata": {
    "pycharm": {
     "name": "#%%\n"
    }
   },
   "outputs": [],
   "source": [
    "mnist = scipy.io.loadmat('3 Clustering of Handwritten Digits/mnist-original')\n",
    "mnist_data = mnist[\"data\"].T\n",
    "mnist_labels = mnist[\"label\"][0]"
   ]
  },
  {
   "cell_type": "code",
   "execution_count": null,
   "id": "dd8bfbb1",
   "metadata": {
    "pycharm": {
     "name": "#%%\n"
    }
   },
   "outputs": [],
   "source": [
    "# Sample 200 random data points from the MNIST data\n",
    "small_mnist_data, small_mnist_labels = resample(\n",
    "    mnist_data,\n",
    "    mnist_labels,\n",
    "    n_samples=200,\n",
    "    replace=False,\n",
    "    random_state=69\n",
    ")\n",
    "\n",
    "data_scaled = small_mnist_data/255.0"
   ]
  },
  {
   "cell_type": "code",
   "execution_count": null,
   "id": "e5a470e5",
   "metadata": {
    "pycharm": {
     "name": "#%%\n"
    }
   },
   "outputs": [],
   "source": [
    "for eps in range(1,15):\n",
    "    # Create an instance of the DBSCAN class with the desired parameters\n",
    "    dbscan = DBSCAN(eps=eps, min_samples=10)\n",
    "\n",
    "    # Fit the DBSCAN model to the data and predict the clusters for each data point\n",
    "    labels = dbscan.fit_predict(data_scaled)\n",
    "\n",
    "    # Print the results\n",
    "    print(\"\\n\".join([\"eps value: \" + str(eps), \"Clusters present: \" + str(np.unique(labels))]))\n",
    "    print(\", \".join([\"Cluster sizes:\"] + [str(x) for x in np.bincount(labels + 1)]))"
   ]
  },
  {
   "cell_type": "markdown",
   "id": "e64641f3",
   "metadata": {
    "pycharm": {
     "name": "#%% md\n"
    }
   },
   "source": [
    "**The eps parameter controls the maximum distance between two points in the same cluster, so a smaller eps value will result in fewer points being included in each cluster. This can be seen in the output, where the number of clusters and the sizes of the clusters change as the eps value is varied.**"
   ]
  },
  {
   "cell_type": "markdown",
   "id": "0f903977",
   "metadata": {
    "pycharm": {
     "name": "#%% md\n"
    }
   },
   "source": [
    "**(g)** Try to compare the different clustering methods on the MNIST dataset in the same way\n",
    "   the book does on the faces dataset on pp. 195-206."
   ]
  },
  {
   "cell_type": "code",
   "execution_count": null,
   "id": "1f3c33fa",
   "metadata": {
    "pycharm": {
     "name": "#%%\n"
    }
   },
   "outputs": [],
   "source": [
    "# Sample 200 random data points from the MNIST data\n",
    "small_mnist_data, small_mnist_labels = resample(\n",
    "    mnist_data,\n",
    "    mnist_labels,\n",
    "    n_samples=200,\n",
    "    replace=False,\n",
    "    random_state=69\n",
    ")\n",
    "\n",
    "X_scaled = small_mnist_data/255.0"
   ]
  },
  {
   "cell_type": "code",
   "execution_count": null,
   "id": "f1f8bc1e",
   "metadata": {
    "pycharm": {
     "name": "#%%\n"
    }
   },
   "outputs": [],
   "source": [
    "# Create a kmeans model with 10 clusters\n",
    "kmeans = KMeans(n_clusters=10)\n",
    "\n",
    "# Perform 10 random restarts of kmeans and calculate the ARI for each\n",
    "for i in range(10):\n",
    "  # Fit the model to the scaled data and predict the labels\n",
    "  kmeans_labels = kmeans.fit_predict(X_scaled)"
   ]
  },
  {
   "cell_type": "code",
   "execution_count": null,
   "id": "25ba3e99",
   "metadata": {
    "pycharm": {
     "name": "#%%\n"
    }
   },
   "outputs": [],
   "source": [
    "# Set a range of eps values to try\n",
    "eps_range = [1, 2, 3, 4, 5, 6, 7, 8, 9, 10]\n",
    "\n",
    "# Loop over the eps values\n",
    "for eps in eps_range:\n",
    "    # Create the DBSCAN model with the current eps value\n",
    "    dbscan = DBSCAN(eps=eps, min_samples=2)\n",
    "    \n",
    "    # Fit the model to the data and predict the clusters for each data point\n",
    "    dblabels = dbscan.fit_predict(X_scaled)\n",
    "\n",
    "    # Print the results\n",
    "    print(\"\\n\".join([\"eps value: \" + str(eps), \"Clusters present: \" + str(np.unique(dblabels))]))\n",
    "    print(\", \".join([\"Cluster sizes:\"] + [str(x) for x in np.bincount(dblabels + 1)]))\n",
    "    \n",
    "    # Calculate and print the ARI score for the current value of eps\n",
    "    print(\"ARI K-Means vs DBSCAN: {:.2f}\".format(adjusted_rand_score(kmeans_labels,dblabels)))"
   ]
  },
  {
   "cell_type": "code",
   "execution_count": null,
   "id": "27e9cf3a",
   "metadata": {
    "pycharm": {
     "name": "#%%\n"
    }
   },
   "outputs": [],
   "source": [
    "# Create an AgglomerativeClustering object with n_clusters=10\n",
    "agglomerative = AgglomerativeClustering(\n",
    "    n_clusters=10,\n",
    "    compute_distances=True\n",
    ")\n",
    "\n",
    "# Fit the model to the data\n",
    "agg_labels = agglomerative.fit(X_scaled)\n",
    "plot_dendrogram(agg)"
   ]
  },
  {
   "cell_type": "code",
   "execution_count": null,
   "id": "e5745f87",
   "metadata": {
    "pycharm": {
     "name": "#%%\n"
    }
   },
   "outputs": [],
   "source": [
    "# Define the different label lists\n",
    "label_lists = [    \n",
    "    {\"K-Means\": kmeans_labels},     \n",
    "    {\"Agglomerative\": agg_labels.labels_},     \n",
    "    {\"DBSCAN\": dblabels}\n",
    "]\n",
    "\n",
    "# Loop through the label lists and compute the ARI score with each other list\n",
    "for i, labels1 in enumerate(label_lists):\n",
    "    for labels2 in label_lists[i+1:]:\n",
    "        score = adjusted_rand_score(list(labels1.values())[0], list(labels2.values())[0])\n",
    "        print(\"ARI {} vs {}: {:.2f}\".format(list(labels1.keys())[0], list(labels2.keys())[0], score))"
   ]
  },
  {
   "cell_type": "markdown",
   "id": "5a5877ef",
   "metadata": {
    "pycharm": {
     "name": "#%% md\n"
    }
   },
   "source": [
    "**The scores indicate that the K-Means and Agglomerative clustering algorithms produced clusterings that are 38% similar, while the K-Means and DBSCAN clusterings and the Agglomerative and DBSCAN clusterings are 0% similar. This suggests that the clusterings produced by the different algorithms are quite different from each other.**"
   ]
  },
  {
   "cell_type": "code",
   "execution_count": null,
   "id": "f5ff02d1",
   "metadata": {
    "pycharm": {
     "name": "#%%\n"
    }
   },
   "outputs": [],
   "source": [
    "# Calculate and print the ARI score for small_mnist_labels vs kmeans_labels\n",
    "score = adjusted_rand_score(small_mnist_labels, kmeans_labels)\n",
    "print(\"ARI small_mnist_labels vs kmeans_labels: {:.2f}\".format(score))"
   ]
  },
  {
   "cell_type": "code",
   "execution_count": null,
   "id": "e6f2edbe",
   "metadata": {
    "pycharm": {
     "name": "#%%\n"
    }
   },
   "outputs": [],
   "source": [
    "# Calculate and print the ARI score for small_mnist_labels vs agg_labels\n",
    "score = adjusted_rand_score(small_mnist_labels, agg_labels.labels_)\n",
    "print(\"ARI small_mnist_labels vs agg_labels: {:.2f}\".format(score))"
   ]
  },
  {
   "cell_type": "code",
   "execution_count": null,
   "id": "8db090e6",
   "metadata": {
    "pycharm": {
     "name": "#%%\n"
    }
   },
   "outputs": [],
   "source": [
    "# Calculate and print the ARI score for small_mnist_labels vs dblabels\n",
    "score = adjusted_rand_score(small_mnist_labels, dblabels)\n",
    "print(\"ARI small_mnist_labels vs dblabels: {:.2f}\".format(score))"
   ]
  },
  {
   "cell_type": "markdown",
   "id": "3667023f",
   "metadata": {
    "pycharm": {
     "name": "#%% md\n"
    }
   },
   "source": [
    "For this exercise we will be using the famous nycflights13 data which contains the `airlines`, `airports`, `flights`, `planes`, and `weather` datasets. Please see the documentation (`nycflights13.pdf`) for further information."
   ]
  },
  {
   "cell_type": "markdown",
   "id": "72323f32",
   "metadata": {
    "pycharm": {
     "name": "#%% md\n"
    }
   },
   "source": [
    "**(a)** Load all files as pandas dataframes and display the first 5 rows of each dataset."
   ]
  },
  {
   "cell_type": "code",
   "execution_count": 5,
   "id": "997c6287",
   "metadata": {
    "pycharm": {
     "name": "#%%\n"
    }
   },
   "outputs": [
    {
     "data": {
      "text/html": [
       "<div>\n",
       "<style scoped>\n",
       "    .dataframe tbody tr th:only-of-type {\n",
       "        vertical-align: middle;\n",
       "    }\n",
       "\n",
       "    .dataframe tbody tr th {\n",
       "        vertical-align: top;\n",
       "    }\n",
       "\n",
       "    .dataframe thead th {\n",
       "        text-align: right;\n",
       "    }\n",
       "</style>\n",
       "<table border=\"1\" class=\"dataframe\">\n",
       "  <thead>\n",
       "    <tr style=\"text-align: right;\">\n",
       "      <th></th>\n",
       "      <th>year</th>\n",
       "      <th>month</th>\n",
       "      <th>day</th>\n",
       "      <th>dep_time</th>\n",
       "      <th>dep_delay</th>\n",
       "      <th>arr_time</th>\n",
       "      <th>arr_delay</th>\n",
       "      <th>carrier</th>\n",
       "      <th>tailnum</th>\n",
       "      <th>flight</th>\n",
       "      <th>origin</th>\n",
       "      <th>dest</th>\n",
       "      <th>air_time</th>\n",
       "      <th>distance</th>\n",
       "      <th>hour</th>\n",
       "      <th>minute</th>\n",
       "    </tr>\n",
       "  </thead>\n",
       "  <tbody>\n",
       "    <tr>\n",
       "      <th>0</th>\n",
       "      <td>2013</td>\n",
       "      <td>1</td>\n",
       "      <td>1</td>\n",
       "      <td>517.0</td>\n",
       "      <td>2.0</td>\n",
       "      <td>830.0</td>\n",
       "      <td>11.0</td>\n",
       "      <td>UA</td>\n",
       "      <td>N14228</td>\n",
       "      <td>1545</td>\n",
       "      <td>EWR</td>\n",
       "      <td>IAH</td>\n",
       "      <td>227.0</td>\n",
       "      <td>1400</td>\n",
       "      <td>5.0</td>\n",
       "      <td>17.0</td>\n",
       "    </tr>\n",
       "    <tr>\n",
       "      <th>1</th>\n",
       "      <td>2013</td>\n",
       "      <td>1</td>\n",
       "      <td>1</td>\n",
       "      <td>533.0</td>\n",
       "      <td>4.0</td>\n",
       "      <td>850.0</td>\n",
       "      <td>20.0</td>\n",
       "      <td>UA</td>\n",
       "      <td>N24211</td>\n",
       "      <td>1714</td>\n",
       "      <td>LGA</td>\n",
       "      <td>IAH</td>\n",
       "      <td>227.0</td>\n",
       "      <td>1416</td>\n",
       "      <td>5.0</td>\n",
       "      <td>33.0</td>\n",
       "    </tr>\n",
       "    <tr>\n",
       "      <th>2</th>\n",
       "      <td>2013</td>\n",
       "      <td>1</td>\n",
       "      <td>1</td>\n",
       "      <td>542.0</td>\n",
       "      <td>2.0</td>\n",
       "      <td>923.0</td>\n",
       "      <td>33.0</td>\n",
       "      <td>AA</td>\n",
       "      <td>N619AA</td>\n",
       "      <td>1141</td>\n",
       "      <td>JFK</td>\n",
       "      <td>MIA</td>\n",
       "      <td>160.0</td>\n",
       "      <td>1089</td>\n",
       "      <td>5.0</td>\n",
       "      <td>42.0</td>\n",
       "    </tr>\n",
       "    <tr>\n",
       "      <th>3</th>\n",
       "      <td>2013</td>\n",
       "      <td>1</td>\n",
       "      <td>1</td>\n",
       "      <td>554.0</td>\n",
       "      <td>-6.0</td>\n",
       "      <td>812.0</td>\n",
       "      <td>-25.0</td>\n",
       "      <td>DL</td>\n",
       "      <td>N668DN</td>\n",
       "      <td>461</td>\n",
       "      <td>LGA</td>\n",
       "      <td>ATL</td>\n",
       "      <td>116.0</td>\n",
       "      <td>762</td>\n",
       "      <td>5.0</td>\n",
       "      <td>54.0</td>\n",
       "    </tr>\n",
       "    <tr>\n",
       "      <th>4</th>\n",
       "      <td>2013</td>\n",
       "      <td>1</td>\n",
       "      <td>1</td>\n",
       "      <td>554.0</td>\n",
       "      <td>-4.0</td>\n",
       "      <td>740.0</td>\n",
       "      <td>12.0</td>\n",
       "      <td>UA</td>\n",
       "      <td>N39463</td>\n",
       "      <td>1696</td>\n",
       "      <td>EWR</td>\n",
       "      <td>ORD</td>\n",
       "      <td>150.0</td>\n",
       "      <td>719</td>\n",
       "      <td>5.0</td>\n",
       "      <td>54.0</td>\n",
       "    </tr>\n",
       "    <tr>\n",
       "      <th>...</th>\n",
       "      <td>...</td>\n",
       "      <td>...</td>\n",
       "      <td>...</td>\n",
       "      <td>...</td>\n",
       "      <td>...</td>\n",
       "      <td>...</td>\n",
       "      <td>...</td>\n",
       "      <td>...</td>\n",
       "      <td>...</td>\n",
       "      <td>...</td>\n",
       "      <td>...</td>\n",
       "      <td>...</td>\n",
       "      <td>...</td>\n",
       "      <td>...</td>\n",
       "      <td>...</td>\n",
       "      <td>...</td>\n",
       "    </tr>\n",
       "    <tr>\n",
       "      <th>160749</th>\n",
       "      <td>2013</td>\n",
       "      <td>9</td>\n",
       "      <td>30</td>\n",
       "      <td>2105.0</td>\n",
       "      <td>-1.0</td>\n",
       "      <td>2329.0</td>\n",
       "      <td>-25.0</td>\n",
       "      <td>UA</td>\n",
       "      <td>N477UA</td>\n",
       "      <td>475</td>\n",
       "      <td>EWR</td>\n",
       "      <td>IAH</td>\n",
       "      <td>175.0</td>\n",
       "      <td>1400</td>\n",
       "      <td>21.0</td>\n",
       "      <td>5.0</td>\n",
       "    </tr>\n",
       "    <tr>\n",
       "      <th>160750</th>\n",
       "      <td>2013</td>\n",
       "      <td>9</td>\n",
       "      <td>30</td>\n",
       "      <td>2121.0</td>\n",
       "      <td>21.0</td>\n",
       "      <td>2349.0</td>\n",
       "      <td>-25.0</td>\n",
       "      <td>DL</td>\n",
       "      <td>N193DN</td>\n",
       "      <td>2363</td>\n",
       "      <td>JFK</td>\n",
       "      <td>LAX</td>\n",
       "      <td>296.0</td>\n",
       "      <td>2475</td>\n",
       "      <td>21.0</td>\n",
       "      <td>21.0</td>\n",
       "    </tr>\n",
       "    <tr>\n",
       "      <th>160751</th>\n",
       "      <td>2013</td>\n",
       "      <td>9</td>\n",
       "      <td>30</td>\n",
       "      <td>2140.0</td>\n",
       "      <td>0.0</td>\n",
       "      <td>10.0</td>\n",
       "      <td>-30.0</td>\n",
       "      <td>AA</td>\n",
       "      <td>N335AA</td>\n",
       "      <td>185</td>\n",
       "      <td>JFK</td>\n",
       "      <td>LAX</td>\n",
       "      <td>298.0</td>\n",
       "      <td>2475</td>\n",
       "      <td>21.0</td>\n",
       "      <td>40.0</td>\n",
       "    </tr>\n",
       "    <tr>\n",
       "      <th>160752</th>\n",
       "      <td>2013</td>\n",
       "      <td>9</td>\n",
       "      <td>30</td>\n",
       "      <td>2149.0</td>\n",
       "      <td>-7.0</td>\n",
       "      <td>2245.0</td>\n",
       "      <td>-23.0</td>\n",
       "      <td>UA</td>\n",
       "      <td>N813UA</td>\n",
       "      <td>523</td>\n",
       "      <td>EWR</td>\n",
       "      <td>BOS</td>\n",
       "      <td>37.0</td>\n",
       "      <td>200</td>\n",
       "      <td>21.0</td>\n",
       "      <td>49.0</td>\n",
       "    </tr>\n",
       "    <tr>\n",
       "      <th>160753</th>\n",
       "      <td>2013</td>\n",
       "      <td>9</td>\n",
       "      <td>30</td>\n",
       "      <td>2233.0</td>\n",
       "      <td>80.0</td>\n",
       "      <td>112.0</td>\n",
       "      <td>42.0</td>\n",
       "      <td>UA</td>\n",
       "      <td>N578UA</td>\n",
       "      <td>471</td>\n",
       "      <td>EWR</td>\n",
       "      <td>SFO</td>\n",
       "      <td>318.0</td>\n",
       "      <td>2565</td>\n",
       "      <td>22.0</td>\n",
       "      <td>33.0</td>\n",
       "    </tr>\n",
       "  </tbody>\n",
       "</table>\n",
       "<p>160754 rows × 16 columns</p>\n",
       "</div>"
      ],
      "text/plain": [
       "        year  month  day  dep_time  dep_delay  arr_time  arr_delay carrier  \\\n",
       "0       2013      1    1     517.0        2.0     830.0       11.0      UA   \n",
       "1       2013      1    1     533.0        4.0     850.0       20.0      UA   \n",
       "2       2013      1    1     542.0        2.0     923.0       33.0      AA   \n",
       "3       2013      1    1     554.0       -6.0     812.0      -25.0      DL   \n",
       "4       2013      1    1     554.0       -4.0     740.0       12.0      UA   \n",
       "...      ...    ...  ...       ...        ...       ...        ...     ...   \n",
       "160749  2013      9   30    2105.0       -1.0    2329.0      -25.0      UA   \n",
       "160750  2013      9   30    2121.0       21.0    2349.0      -25.0      DL   \n",
       "160751  2013      9   30    2140.0        0.0      10.0      -30.0      AA   \n",
       "160752  2013      9   30    2149.0       -7.0    2245.0      -23.0      UA   \n",
       "160753  2013      9   30    2233.0       80.0     112.0       42.0      UA   \n",
       "\n",
       "       tailnum  flight origin dest  air_time  distance  hour  minute  \n",
       "0       N14228    1545    EWR  IAH     227.0      1400   5.0    17.0  \n",
       "1       N24211    1714    LGA  IAH     227.0      1416   5.0    33.0  \n",
       "2       N619AA    1141    JFK  MIA     160.0      1089   5.0    42.0  \n",
       "3       N668DN     461    LGA  ATL     116.0       762   5.0    54.0  \n",
       "4       N39463    1696    EWR  ORD     150.0       719   5.0    54.0  \n",
       "...        ...     ...    ...  ...       ...       ...   ...     ...  \n",
       "160749  N477UA     475    EWR  IAH     175.0      1400  21.0     5.0  \n",
       "160750  N193DN    2363    JFK  LAX     296.0      2475  21.0    21.0  \n",
       "160751  N335AA     185    JFK  LAX     298.0      2475  21.0    40.0  \n",
       "160752  N813UA     523    EWR  BOS      37.0       200  21.0    49.0  \n",
       "160753  N578UA     471    EWR  SFO     318.0      2565  22.0    33.0  \n",
       "\n",
       "[160754 rows x 16 columns]"
      ]
     },
     "metadata": {},
     "output_type": "display_data"
    },
    {
     "data": {
      "text/html": [
       "<div>\n",
       "<style scoped>\n",
       "    .dataframe tbody tr th:only-of-type {\n",
       "        vertical-align: middle;\n",
       "    }\n",
       "\n",
       "    .dataframe tbody tr th {\n",
       "        vertical-align: top;\n",
       "    }\n",
       "\n",
       "    .dataframe thead th {\n",
       "        text-align: right;\n",
       "    }\n",
       "</style>\n",
       "<table border=\"1\" class=\"dataframe\">\n",
       "  <thead>\n",
       "    <tr style=\"text-align: right;\">\n",
       "      <th></th>\n",
       "      <th>carrier</th>\n",
       "      <th>name</th>\n",
       "    </tr>\n",
       "  </thead>\n",
       "  <tbody>\n",
       "    <tr>\n",
       "      <th>0</th>\n",
       "      <td>9E</td>\n",
       "      <td>Endeavor Air Inc.</td>\n",
       "    </tr>\n",
       "    <tr>\n",
       "      <th>1</th>\n",
       "      <td>AA</td>\n",
       "      <td>American Airlines Inc.</td>\n",
       "    </tr>\n",
       "    <tr>\n",
       "      <th>2</th>\n",
       "      <td>AS</td>\n",
       "      <td>Alaska Airlines Inc.</td>\n",
       "    </tr>\n",
       "    <tr>\n",
       "      <th>3</th>\n",
       "      <td>B6</td>\n",
       "      <td>JetBlue Airways</td>\n",
       "    </tr>\n",
       "    <tr>\n",
       "      <th>4</th>\n",
       "      <td>DL</td>\n",
       "      <td>Delta Air Lines Inc.</td>\n",
       "    </tr>\n",
       "    <tr>\n",
       "      <th>5</th>\n",
       "      <td>EV</td>\n",
       "      <td>ExpressJet Airlines Inc.</td>\n",
       "    </tr>\n",
       "    <tr>\n",
       "      <th>6</th>\n",
       "      <td>F9</td>\n",
       "      <td>Frontier Airlines Inc.</td>\n",
       "    </tr>\n",
       "    <tr>\n",
       "      <th>7</th>\n",
       "      <td>FL</td>\n",
       "      <td>AirTran Airways Corporation</td>\n",
       "    </tr>\n",
       "    <tr>\n",
       "      <th>8</th>\n",
       "      <td>HA</td>\n",
       "      <td>Hawaiian Airlines Inc.</td>\n",
       "    </tr>\n",
       "    <tr>\n",
       "      <th>9</th>\n",
       "      <td>MQ</td>\n",
       "      <td>Envoy Air</td>\n",
       "    </tr>\n",
       "    <tr>\n",
       "      <th>10</th>\n",
       "      <td>OO</td>\n",
       "      <td>SkyWest Airlines Inc.</td>\n",
       "    </tr>\n",
       "    <tr>\n",
       "      <th>11</th>\n",
       "      <td>UA</td>\n",
       "      <td>United Air Lines Inc.</td>\n",
       "    </tr>\n",
       "    <tr>\n",
       "      <th>12</th>\n",
       "      <td>US</td>\n",
       "      <td>US Airways Inc.</td>\n",
       "    </tr>\n",
       "    <tr>\n",
       "      <th>13</th>\n",
       "      <td>VX</td>\n",
       "      <td>Virgin America</td>\n",
       "    </tr>\n",
       "    <tr>\n",
       "      <th>14</th>\n",
       "      <td>WN</td>\n",
       "      <td>Southwest Airlines Co.</td>\n",
       "    </tr>\n",
       "    <tr>\n",
       "      <th>15</th>\n",
       "      <td>YV</td>\n",
       "      <td>Mesa Airlines Inc.</td>\n",
       "    </tr>\n",
       "  </tbody>\n",
       "</table>\n",
       "</div>"
      ],
      "text/plain": [
       "   carrier                         name\n",
       "0       9E            Endeavor Air Inc.\n",
       "1       AA       American Airlines Inc.\n",
       "2       AS         Alaska Airlines Inc.\n",
       "3       B6              JetBlue Airways\n",
       "4       DL         Delta Air Lines Inc.\n",
       "5       EV     ExpressJet Airlines Inc.\n",
       "6       F9       Frontier Airlines Inc.\n",
       "7       FL  AirTran Airways Corporation\n",
       "8       HA       Hawaiian Airlines Inc.\n",
       "9       MQ                    Envoy Air\n",
       "10      OO        SkyWest Airlines Inc.\n",
       "11      UA        United Air Lines Inc.\n",
       "12      US              US Airways Inc.\n",
       "13      VX               Virgin America\n",
       "14      WN       Southwest Airlines Co.\n",
       "15      YV           Mesa Airlines Inc."
      ]
     },
     "metadata": {},
     "output_type": "display_data"
    },
    {
     "data": {
      "text/html": [
       "<div>\n",
       "<style scoped>\n",
       "    .dataframe tbody tr th:only-of-type {\n",
       "        vertical-align: middle;\n",
       "    }\n",
       "\n",
       "    .dataframe tbody tr th {\n",
       "        vertical-align: top;\n",
       "    }\n",
       "\n",
       "    .dataframe thead th {\n",
       "        text-align: right;\n",
       "    }\n",
       "</style>\n",
       "<table border=\"1\" class=\"dataframe\">\n",
       "  <thead>\n",
       "    <tr style=\"text-align: right;\">\n",
       "      <th></th>\n",
       "      <th>faa</th>\n",
       "      <th>name</th>\n",
       "      <th>lat</th>\n",
       "      <th>lon</th>\n",
       "      <th>alt</th>\n",
       "      <th>tz</th>\n",
       "      <th>dst</th>\n",
       "      <th>tzone</th>\n",
       "    </tr>\n",
       "  </thead>\n",
       "  <tbody>\n",
       "    <tr>\n",
       "      <th>0</th>\n",
       "      <td>04G</td>\n",
       "      <td>Lansdowne Airport</td>\n",
       "      <td>41.130472</td>\n",
       "      <td>-80.619583</td>\n",
       "      <td>1044</td>\n",
       "      <td>-5.0</td>\n",
       "      <td>A</td>\n",
       "      <td>America/New_York</td>\n",
       "    </tr>\n",
       "    <tr>\n",
       "      <th>1</th>\n",
       "      <td>06A</td>\n",
       "      <td>Moton Field Municipal Airport</td>\n",
       "      <td>32.460572</td>\n",
       "      <td>-85.680028</td>\n",
       "      <td>264</td>\n",
       "      <td>-6.0</td>\n",
       "      <td>A</td>\n",
       "      <td>America/Chicago</td>\n",
       "    </tr>\n",
       "    <tr>\n",
       "      <th>2</th>\n",
       "      <td>06C</td>\n",
       "      <td>Schaumburg Regional</td>\n",
       "      <td>41.989341</td>\n",
       "      <td>-88.101243</td>\n",
       "      <td>801</td>\n",
       "      <td>-6.0</td>\n",
       "      <td>A</td>\n",
       "      <td>America/Chicago</td>\n",
       "    </tr>\n",
       "    <tr>\n",
       "      <th>3</th>\n",
       "      <td>06N</td>\n",
       "      <td>Randall Airport</td>\n",
       "      <td>41.431912</td>\n",
       "      <td>-74.391561</td>\n",
       "      <td>523</td>\n",
       "      <td>-5.0</td>\n",
       "      <td>A</td>\n",
       "      <td>America/New_York</td>\n",
       "    </tr>\n",
       "    <tr>\n",
       "      <th>4</th>\n",
       "      <td>09J</td>\n",
       "      <td>Jekyll Island Airport</td>\n",
       "      <td>31.074472</td>\n",
       "      <td>-81.427778</td>\n",
       "      <td>11</td>\n",
       "      <td>-5.0</td>\n",
       "      <td>A</td>\n",
       "      <td>America/New_York</td>\n",
       "    </tr>\n",
       "    <tr>\n",
       "      <th>...</th>\n",
       "      <td>...</td>\n",
       "      <td>...</td>\n",
       "      <td>...</td>\n",
       "      <td>...</td>\n",
       "      <td>...</td>\n",
       "      <td>...</td>\n",
       "      <td>...</td>\n",
       "      <td>...</td>\n",
       "    </tr>\n",
       "    <tr>\n",
       "      <th>1453</th>\n",
       "      <td>ZUN</td>\n",
       "      <td>Black Rock</td>\n",
       "      <td>35.083228</td>\n",
       "      <td>-108.791778</td>\n",
       "      <td>6454</td>\n",
       "      <td>-7.0</td>\n",
       "      <td>A</td>\n",
       "      <td>America/Denver</td>\n",
       "    </tr>\n",
       "    <tr>\n",
       "      <th>1454</th>\n",
       "      <td>ZVE</td>\n",
       "      <td>New Haven Rail Station</td>\n",
       "      <td>41.298669</td>\n",
       "      <td>-72.925992</td>\n",
       "      <td>7</td>\n",
       "      <td>-5.0</td>\n",
       "      <td>A</td>\n",
       "      <td>America/New_York</td>\n",
       "    </tr>\n",
       "    <tr>\n",
       "      <th>1455</th>\n",
       "      <td>ZWI</td>\n",
       "      <td>Wilmington Amtrak Station</td>\n",
       "      <td>39.736667</td>\n",
       "      <td>-75.551667</td>\n",
       "      <td>0</td>\n",
       "      <td>-5.0</td>\n",
       "      <td>A</td>\n",
       "      <td>America/New_York</td>\n",
       "    </tr>\n",
       "    <tr>\n",
       "      <th>1456</th>\n",
       "      <td>ZWU</td>\n",
       "      <td>Washington Union Station</td>\n",
       "      <td>38.897460</td>\n",
       "      <td>-77.006430</td>\n",
       "      <td>76</td>\n",
       "      <td>-5.0</td>\n",
       "      <td>A</td>\n",
       "      <td>America/New_York</td>\n",
       "    </tr>\n",
       "    <tr>\n",
       "      <th>1457</th>\n",
       "      <td>ZYP</td>\n",
       "      <td>Penn Station</td>\n",
       "      <td>40.750500</td>\n",
       "      <td>-73.993500</td>\n",
       "      <td>35</td>\n",
       "      <td>-5.0</td>\n",
       "      <td>A</td>\n",
       "      <td>America/New_York</td>\n",
       "    </tr>\n",
       "  </tbody>\n",
       "</table>\n",
       "<p>1458 rows × 8 columns</p>\n",
       "</div>"
      ],
      "text/plain": [
       "      faa                           name        lat         lon   alt   tz  \\\n",
       "0     04G              Lansdowne Airport  41.130472  -80.619583  1044 -5.0   \n",
       "1     06A  Moton Field Municipal Airport  32.460572  -85.680028   264 -6.0   \n",
       "2     06C            Schaumburg Regional  41.989341  -88.101243   801 -6.0   \n",
       "3     06N                Randall Airport  41.431912  -74.391561   523 -5.0   \n",
       "4     09J          Jekyll Island Airport  31.074472  -81.427778    11 -5.0   \n",
       "...   ...                            ...        ...         ...   ...  ...   \n",
       "1453  ZUN                     Black Rock  35.083228 -108.791778  6454 -7.0   \n",
       "1454  ZVE         New Haven Rail Station  41.298669  -72.925992     7 -5.0   \n",
       "1455  ZWI      Wilmington Amtrak Station  39.736667  -75.551667     0 -5.0   \n",
       "1456  ZWU       Washington Union Station  38.897460  -77.006430    76 -5.0   \n",
       "1457  ZYP                   Penn Station  40.750500  -73.993500    35 -5.0   \n",
       "\n",
       "     dst             tzone  \n",
       "0      A  America/New_York  \n",
       "1      A   America/Chicago  \n",
       "2      A   America/Chicago  \n",
       "3      A  America/New_York  \n",
       "4      A  America/New_York  \n",
       "...   ..               ...  \n",
       "1453   A    America/Denver  \n",
       "1454   A  America/New_York  \n",
       "1455   A  America/New_York  \n",
       "1456   A  America/New_York  \n",
       "1457   A  America/New_York  \n",
       "\n",
       "[1458 rows x 8 columns]"
      ]
     },
     "metadata": {},
     "output_type": "display_data"
    },
    {
     "data": {
      "text/html": [
       "<div>\n",
       "<style scoped>\n",
       "    .dataframe tbody tr th:only-of-type {\n",
       "        vertical-align: middle;\n",
       "    }\n",
       "\n",
       "    .dataframe tbody tr th {\n",
       "        vertical-align: top;\n",
       "    }\n",
       "\n",
       "    .dataframe thead th {\n",
       "        text-align: right;\n",
       "    }\n",
       "</style>\n",
       "<table border=\"1\" class=\"dataframe\">\n",
       "  <thead>\n",
       "    <tr style=\"text-align: right;\">\n",
       "      <th></th>\n",
       "      <th>tailnum</th>\n",
       "      <th>year</th>\n",
       "      <th>type</th>\n",
       "      <th>manufacturer</th>\n",
       "      <th>model</th>\n",
       "      <th>engines</th>\n",
       "      <th>seats</th>\n",
       "      <th>speed</th>\n",
       "      <th>engine</th>\n",
       "    </tr>\n",
       "  </thead>\n",
       "  <tbody>\n",
       "    <tr>\n",
       "      <th>0</th>\n",
       "      <td>N10156</td>\n",
       "      <td>2004.0</td>\n",
       "      <td>Fixed wing multi engine</td>\n",
       "      <td>EMBRAER</td>\n",
       "      <td>EMB-145XR</td>\n",
       "      <td>2</td>\n",
       "      <td>55</td>\n",
       "      <td>NaN</td>\n",
       "      <td>Turbo-fan</td>\n",
       "    </tr>\n",
       "    <tr>\n",
       "      <th>1</th>\n",
       "      <td>N102UW</td>\n",
       "      <td>1998.0</td>\n",
       "      <td>Fixed wing multi engine</td>\n",
       "      <td>AIRBUS INDUSTRIE</td>\n",
       "      <td>A320-214</td>\n",
       "      <td>2</td>\n",
       "      <td>182</td>\n",
       "      <td>NaN</td>\n",
       "      <td>Turbo-fan</td>\n",
       "    </tr>\n",
       "    <tr>\n",
       "      <th>2</th>\n",
       "      <td>N103US</td>\n",
       "      <td>1999.0</td>\n",
       "      <td>Fixed wing multi engine</td>\n",
       "      <td>AIRBUS INDUSTRIE</td>\n",
       "      <td>A320-214</td>\n",
       "      <td>2</td>\n",
       "      <td>182</td>\n",
       "      <td>NaN</td>\n",
       "      <td>Turbo-fan</td>\n",
       "    </tr>\n",
       "    <tr>\n",
       "      <th>3</th>\n",
       "      <td>N104UW</td>\n",
       "      <td>1999.0</td>\n",
       "      <td>Fixed wing multi engine</td>\n",
       "      <td>AIRBUS INDUSTRIE</td>\n",
       "      <td>A320-214</td>\n",
       "      <td>2</td>\n",
       "      <td>182</td>\n",
       "      <td>NaN</td>\n",
       "      <td>Turbo-fan</td>\n",
       "    </tr>\n",
       "    <tr>\n",
       "      <th>4</th>\n",
       "      <td>N10575</td>\n",
       "      <td>2002.0</td>\n",
       "      <td>Fixed wing multi engine</td>\n",
       "      <td>EMBRAER</td>\n",
       "      <td>EMB-145LR</td>\n",
       "      <td>2</td>\n",
       "      <td>55</td>\n",
       "      <td>NaN</td>\n",
       "      <td>Turbo-fan</td>\n",
       "    </tr>\n",
       "    <tr>\n",
       "      <th>...</th>\n",
       "      <td>...</td>\n",
       "      <td>...</td>\n",
       "      <td>...</td>\n",
       "      <td>...</td>\n",
       "      <td>...</td>\n",
       "      <td>...</td>\n",
       "      <td>...</td>\n",
       "      <td>...</td>\n",
       "      <td>...</td>\n",
       "    </tr>\n",
       "    <tr>\n",
       "      <th>3317</th>\n",
       "      <td>N997AT</td>\n",
       "      <td>2002.0</td>\n",
       "      <td>Fixed wing multi engine</td>\n",
       "      <td>BOEING</td>\n",
       "      <td>717-200</td>\n",
       "      <td>2</td>\n",
       "      <td>100</td>\n",
       "      <td>NaN</td>\n",
       "      <td>Turbo-fan</td>\n",
       "    </tr>\n",
       "    <tr>\n",
       "      <th>3318</th>\n",
       "      <td>N997DL</td>\n",
       "      <td>1992.0</td>\n",
       "      <td>Fixed wing multi engine</td>\n",
       "      <td>MCDONNELL DOUGLAS AIRCRAFT CO</td>\n",
       "      <td>MD-88</td>\n",
       "      <td>2</td>\n",
       "      <td>142</td>\n",
       "      <td>NaN</td>\n",
       "      <td>Turbo-fan</td>\n",
       "    </tr>\n",
       "    <tr>\n",
       "      <th>3319</th>\n",
       "      <td>N998AT</td>\n",
       "      <td>2002.0</td>\n",
       "      <td>Fixed wing multi engine</td>\n",
       "      <td>BOEING</td>\n",
       "      <td>717-200</td>\n",
       "      <td>2</td>\n",
       "      <td>100</td>\n",
       "      <td>NaN</td>\n",
       "      <td>Turbo-fan</td>\n",
       "    </tr>\n",
       "    <tr>\n",
       "      <th>3320</th>\n",
       "      <td>N998DL</td>\n",
       "      <td>1992.0</td>\n",
       "      <td>Fixed wing multi engine</td>\n",
       "      <td>MCDONNELL DOUGLAS CORPORATION</td>\n",
       "      <td>MD-88</td>\n",
       "      <td>2</td>\n",
       "      <td>142</td>\n",
       "      <td>NaN</td>\n",
       "      <td>Turbo-jet</td>\n",
       "    </tr>\n",
       "    <tr>\n",
       "      <th>3321</th>\n",
       "      <td>N999DN</td>\n",
       "      <td>1992.0</td>\n",
       "      <td>Fixed wing multi engine</td>\n",
       "      <td>MCDONNELL DOUGLAS CORPORATION</td>\n",
       "      <td>MD-88</td>\n",
       "      <td>2</td>\n",
       "      <td>142</td>\n",
       "      <td>NaN</td>\n",
       "      <td>Turbo-jet</td>\n",
       "    </tr>\n",
       "  </tbody>\n",
       "</table>\n",
       "<p>3322 rows × 9 columns</p>\n",
       "</div>"
      ],
      "text/plain": [
       "     tailnum    year                     type                   manufacturer  \\\n",
       "0     N10156  2004.0  Fixed wing multi engine                        EMBRAER   \n",
       "1     N102UW  1998.0  Fixed wing multi engine               AIRBUS INDUSTRIE   \n",
       "2     N103US  1999.0  Fixed wing multi engine               AIRBUS INDUSTRIE   \n",
       "3     N104UW  1999.0  Fixed wing multi engine               AIRBUS INDUSTRIE   \n",
       "4     N10575  2002.0  Fixed wing multi engine                        EMBRAER   \n",
       "...      ...     ...                      ...                            ...   \n",
       "3317  N997AT  2002.0  Fixed wing multi engine                         BOEING   \n",
       "3318  N997DL  1992.0  Fixed wing multi engine  MCDONNELL DOUGLAS AIRCRAFT CO   \n",
       "3319  N998AT  2002.0  Fixed wing multi engine                         BOEING   \n",
       "3320  N998DL  1992.0  Fixed wing multi engine  MCDONNELL DOUGLAS CORPORATION   \n",
       "3321  N999DN  1992.0  Fixed wing multi engine  MCDONNELL DOUGLAS CORPORATION   \n",
       "\n",
       "          model  engines  seats  speed     engine  \n",
       "0     EMB-145XR        2     55    NaN  Turbo-fan  \n",
       "1      A320-214        2    182    NaN  Turbo-fan  \n",
       "2      A320-214        2    182    NaN  Turbo-fan  \n",
       "3      A320-214        2    182    NaN  Turbo-fan  \n",
       "4     EMB-145LR        2     55    NaN  Turbo-fan  \n",
       "...         ...      ...    ...    ...        ...  \n",
       "3317    717-200        2    100    NaN  Turbo-fan  \n",
       "3318      MD-88        2    142    NaN  Turbo-fan  \n",
       "3319    717-200        2    100    NaN  Turbo-fan  \n",
       "3320      MD-88        2    142    NaN  Turbo-jet  \n",
       "3321      MD-88        2    142    NaN  Turbo-jet  \n",
       "\n",
       "[3322 rows x 9 columns]"
      ]
     },
     "metadata": {},
     "output_type": "display_data"
    },
    {
     "data": {
      "text/html": [
       "<div>\n",
       "<style scoped>\n",
       "    .dataframe tbody tr th:only-of-type {\n",
       "        vertical-align: middle;\n",
       "    }\n",
       "\n",
       "    .dataframe tbody tr th {\n",
       "        vertical-align: top;\n",
       "    }\n",
       "\n",
       "    .dataframe thead th {\n",
       "        text-align: right;\n",
       "    }\n",
       "</style>\n",
       "<table border=\"1\" class=\"dataframe\">\n",
       "  <thead>\n",
       "    <tr style=\"text-align: right;\">\n",
       "      <th></th>\n",
       "      <th>origin</th>\n",
       "      <th>year</th>\n",
       "      <th>month</th>\n",
       "      <th>day</th>\n",
       "      <th>hour</th>\n",
       "      <th>temp</th>\n",
       "      <th>dewp</th>\n",
       "      <th>humid</th>\n",
       "      <th>wind_dir</th>\n",
       "      <th>wind_speed</th>\n",
       "      <th>wind_gust</th>\n",
       "      <th>precip</th>\n",
       "      <th>pressure</th>\n",
       "      <th>visib</th>\n",
       "      <th>time_hour</th>\n",
       "    </tr>\n",
       "  </thead>\n",
       "  <tbody>\n",
       "    <tr>\n",
       "      <th>0</th>\n",
       "      <td>EWR</td>\n",
       "      <td>2013</td>\n",
       "      <td>1</td>\n",
       "      <td>1</td>\n",
       "      <td>0</td>\n",
       "      <td>37.04</td>\n",
       "      <td>21.92</td>\n",
       "      <td>53.97</td>\n",
       "      <td>230.0</td>\n",
       "      <td>10.35702</td>\n",
       "      <td>11.918651</td>\n",
       "      <td>0.0</td>\n",
       "      <td>1013.9</td>\n",
       "      <td>10.0</td>\n",
       "      <td>2013-01-01T00:00:00Z</td>\n",
       "    </tr>\n",
       "    <tr>\n",
       "      <th>1</th>\n",
       "      <td>EWR</td>\n",
       "      <td>2013</td>\n",
       "      <td>1</td>\n",
       "      <td>1</td>\n",
       "      <td>1</td>\n",
       "      <td>37.04</td>\n",
       "      <td>21.92</td>\n",
       "      <td>53.97</td>\n",
       "      <td>230.0</td>\n",
       "      <td>13.80936</td>\n",
       "      <td>15.891535</td>\n",
       "      <td>0.0</td>\n",
       "      <td>1013.0</td>\n",
       "      <td>10.0</td>\n",
       "      <td>2013-01-01T01:00:00Z</td>\n",
       "    </tr>\n",
       "    <tr>\n",
       "      <th>2</th>\n",
       "      <td>EWR</td>\n",
       "      <td>2013</td>\n",
       "      <td>1</td>\n",
       "      <td>1</td>\n",
       "      <td>2</td>\n",
       "      <td>37.94</td>\n",
       "      <td>21.92</td>\n",
       "      <td>52.09</td>\n",
       "      <td>230.0</td>\n",
       "      <td>12.65858</td>\n",
       "      <td>14.567241</td>\n",
       "      <td>0.0</td>\n",
       "      <td>1012.6</td>\n",
       "      <td>10.0</td>\n",
       "      <td>2013-01-01T02:00:00Z</td>\n",
       "    </tr>\n",
       "    <tr>\n",
       "      <th>3</th>\n",
       "      <td>EWR</td>\n",
       "      <td>2013</td>\n",
       "      <td>1</td>\n",
       "      <td>1</td>\n",
       "      <td>3</td>\n",
       "      <td>37.94</td>\n",
       "      <td>23.00</td>\n",
       "      <td>54.51</td>\n",
       "      <td>230.0</td>\n",
       "      <td>13.80936</td>\n",
       "      <td>15.891535</td>\n",
       "      <td>0.0</td>\n",
       "      <td>1012.7</td>\n",
       "      <td>10.0</td>\n",
       "      <td>2013-01-01T03:00:00Z</td>\n",
       "    </tr>\n",
       "    <tr>\n",
       "      <th>4</th>\n",
       "      <td>EWR</td>\n",
       "      <td>2013</td>\n",
       "      <td>1</td>\n",
       "      <td>1</td>\n",
       "      <td>4</td>\n",
       "      <td>37.94</td>\n",
       "      <td>24.08</td>\n",
       "      <td>57.04</td>\n",
       "      <td>240.0</td>\n",
       "      <td>14.96014</td>\n",
       "      <td>17.215830</td>\n",
       "      <td>0.0</td>\n",
       "      <td>1012.8</td>\n",
       "      <td>10.0</td>\n",
       "      <td>2013-01-01T04:00:00Z</td>\n",
       "    </tr>\n",
       "    <tr>\n",
       "      <th>...</th>\n",
       "      <td>...</td>\n",
       "      <td>...</td>\n",
       "      <td>...</td>\n",
       "      <td>...</td>\n",
       "      <td>...</td>\n",
       "      <td>...</td>\n",
       "      <td>...</td>\n",
       "      <td>...</td>\n",
       "      <td>...</td>\n",
       "      <td>...</td>\n",
       "      <td>...</td>\n",
       "      <td>...</td>\n",
       "      <td>...</td>\n",
       "      <td>...</td>\n",
       "      <td>...</td>\n",
       "    </tr>\n",
       "    <tr>\n",
       "      <th>26125</th>\n",
       "      <td>LGA</td>\n",
       "      <td>2013</td>\n",
       "      <td>12</td>\n",
       "      <td>30</td>\n",
       "      <td>19</td>\n",
       "      <td>35.96</td>\n",
       "      <td>19.94</td>\n",
       "      <td>51.78</td>\n",
       "      <td>340.0</td>\n",
       "      <td>13.80936</td>\n",
       "      <td>15.891535</td>\n",
       "      <td>0.0</td>\n",
       "      <td>1017.1</td>\n",
       "      <td>10.0</td>\n",
       "      <td>2013-12-30T19:00:00Z</td>\n",
       "    </tr>\n",
       "    <tr>\n",
       "      <th>26126</th>\n",
       "      <td>LGA</td>\n",
       "      <td>2013</td>\n",
       "      <td>12</td>\n",
       "      <td>30</td>\n",
       "      <td>20</td>\n",
       "      <td>33.98</td>\n",
       "      <td>17.06</td>\n",
       "      <td>49.51</td>\n",
       "      <td>330.0</td>\n",
       "      <td>17.26170</td>\n",
       "      <td>19.864419</td>\n",
       "      <td>0.0</td>\n",
       "      <td>1018.8</td>\n",
       "      <td>10.0</td>\n",
       "      <td>2013-12-30T20:00:00Z</td>\n",
       "    </tr>\n",
       "    <tr>\n",
       "      <th>26127</th>\n",
       "      <td>LGA</td>\n",
       "      <td>2013</td>\n",
       "      <td>12</td>\n",
       "      <td>30</td>\n",
       "      <td>21</td>\n",
       "      <td>32.00</td>\n",
       "      <td>15.08</td>\n",
       "      <td>49.19</td>\n",
       "      <td>340.0</td>\n",
       "      <td>14.96014</td>\n",
       "      <td>17.215830</td>\n",
       "      <td>0.0</td>\n",
       "      <td>1019.5</td>\n",
       "      <td>10.0</td>\n",
       "      <td>2013-12-30T21:00:00Z</td>\n",
       "    </tr>\n",
       "    <tr>\n",
       "      <th>26128</th>\n",
       "      <td>LGA</td>\n",
       "      <td>2013</td>\n",
       "      <td>12</td>\n",
       "      <td>30</td>\n",
       "      <td>22</td>\n",
       "      <td>30.92</td>\n",
       "      <td>12.92</td>\n",
       "      <td>46.74</td>\n",
       "      <td>320.0</td>\n",
       "      <td>17.26170</td>\n",
       "      <td>19.864419</td>\n",
       "      <td>0.0</td>\n",
       "      <td>1019.9</td>\n",
       "      <td>10.0</td>\n",
       "      <td>2013-12-30T22:00:00Z</td>\n",
       "    </tr>\n",
       "    <tr>\n",
       "      <th>26129</th>\n",
       "      <td>LGA</td>\n",
       "      <td>2013</td>\n",
       "      <td>12</td>\n",
       "      <td>30</td>\n",
       "      <td>23</td>\n",
       "      <td>28.94</td>\n",
       "      <td>10.94</td>\n",
       "      <td>46.41</td>\n",
       "      <td>330.0</td>\n",
       "      <td>18.41248</td>\n",
       "      <td>21.188714</td>\n",
       "      <td>0.0</td>\n",
       "      <td>1020.9</td>\n",
       "      <td>10.0</td>\n",
       "      <td>2013-12-30T23:00:00Z</td>\n",
       "    </tr>\n",
       "  </tbody>\n",
       "</table>\n",
       "<p>26130 rows × 15 columns</p>\n",
       "</div>"
      ],
      "text/plain": [
       "      origin  year  month  day  hour   temp   dewp  humid  wind_dir  \\\n",
       "0        EWR  2013      1    1     0  37.04  21.92  53.97     230.0   \n",
       "1        EWR  2013      1    1     1  37.04  21.92  53.97     230.0   \n",
       "2        EWR  2013      1    1     2  37.94  21.92  52.09     230.0   \n",
       "3        EWR  2013      1    1     3  37.94  23.00  54.51     230.0   \n",
       "4        EWR  2013      1    1     4  37.94  24.08  57.04     240.0   \n",
       "...      ...   ...    ...  ...   ...    ...    ...    ...       ...   \n",
       "26125    LGA  2013     12   30    19  35.96  19.94  51.78     340.0   \n",
       "26126    LGA  2013     12   30    20  33.98  17.06  49.51     330.0   \n",
       "26127    LGA  2013     12   30    21  32.00  15.08  49.19     340.0   \n",
       "26128    LGA  2013     12   30    22  30.92  12.92  46.74     320.0   \n",
       "26129    LGA  2013     12   30    23  28.94  10.94  46.41     330.0   \n",
       "\n",
       "       wind_speed  wind_gust  precip  pressure  visib             time_hour  \n",
       "0        10.35702  11.918651     0.0    1013.9   10.0  2013-01-01T00:00:00Z  \n",
       "1        13.80936  15.891535     0.0    1013.0   10.0  2013-01-01T01:00:00Z  \n",
       "2        12.65858  14.567241     0.0    1012.6   10.0  2013-01-01T02:00:00Z  \n",
       "3        13.80936  15.891535     0.0    1012.7   10.0  2013-01-01T03:00:00Z  \n",
       "4        14.96014  17.215830     0.0    1012.8   10.0  2013-01-01T04:00:00Z  \n",
       "...           ...        ...     ...       ...    ...                   ...  \n",
       "26125    13.80936  15.891535     0.0    1017.1   10.0  2013-12-30T19:00:00Z  \n",
       "26126    17.26170  19.864419     0.0    1018.8   10.0  2013-12-30T20:00:00Z  \n",
       "26127    14.96014  17.215830     0.0    1019.5   10.0  2013-12-30T21:00:00Z  \n",
       "26128    17.26170  19.864419     0.0    1019.9   10.0  2013-12-30T22:00:00Z  \n",
       "26129    18.41248  21.188714     0.0    1020.9   10.0  2013-12-30T23:00:00Z  \n",
       "\n",
       "[26130 rows x 15 columns]"
      ]
     },
     "metadata": {},
     "output_type": "display_data"
    }
   ],
   "source": [
    "data_dir = '2 Flights Departing from NYC/'\n",
    "\n",
    "tables = {\n",
    "    'flights': 'flights.csv',\n",
    "    'airlines': 'airlines.csv',\n",
    "    'airports': 'airports.csv',\n",
    "    'planes': 'planes.csv',\n",
    "    'weather': 'weather.csv',\n",
    "}\n",
    "\n",
    "for table_name, filename in tables.items():\n",
    "    table = pd.read_csv('{}{}'.format(data_dir, filename))\n",
    "    display(table)"
   ]
  },
  {
   "cell_type": "markdown",
   "id": "a1a0489c",
   "metadata": {
    "pycharm": {
     "name": "#%% md\n"
    }
   },
   "source": [
    "**(b)** Convert all temperature attributes to degree Celsius. We will be using this in what follows."
   ]
  },
  {
   "cell_type": "code",
   "execution_count": 6,
   "id": "4b5ad84b",
   "metadata": {
    "pycharm": {
     "name": "#%%\n"
    }
   },
   "outputs": [
    {
     "name": "stdout",
     "output_type": "stream",
     "text": [
      "Before conversion\n"
     ]
    },
    {
     "data": {
      "text/html": [
       "<div>\n",
       "<style scoped>\n",
       "    .dataframe tbody tr th:only-of-type {\n",
       "        vertical-align: middle;\n",
       "    }\n",
       "\n",
       "    .dataframe tbody tr th {\n",
       "        vertical-align: top;\n",
       "    }\n",
       "\n",
       "    .dataframe thead th {\n",
       "        text-align: right;\n",
       "    }\n",
       "</style>\n",
       "<table border=\"1\" class=\"dataframe\">\n",
       "  <thead>\n",
       "    <tr style=\"text-align: right;\">\n",
       "      <th></th>\n",
       "      <th>origin</th>\n",
       "      <th>year</th>\n",
       "      <th>month</th>\n",
       "      <th>day</th>\n",
       "      <th>hour</th>\n",
       "      <th>temp</th>\n",
       "      <th>dewp</th>\n",
       "      <th>humid</th>\n",
       "      <th>wind_dir</th>\n",
       "      <th>wind_speed</th>\n",
       "      <th>wind_gust</th>\n",
       "      <th>precip</th>\n",
       "      <th>pressure</th>\n",
       "      <th>visib</th>\n",
       "      <th>time_hour</th>\n",
       "    </tr>\n",
       "  </thead>\n",
       "  <tbody>\n",
       "    <tr>\n",
       "      <th>0</th>\n",
       "      <td>EWR</td>\n",
       "      <td>2013</td>\n",
       "      <td>1</td>\n",
       "      <td>1</td>\n",
       "      <td>0</td>\n",
       "      <td>37.04</td>\n",
       "      <td>21.92</td>\n",
       "      <td>53.97</td>\n",
       "      <td>230.0</td>\n",
       "      <td>10.35702</td>\n",
       "      <td>11.918651</td>\n",
       "      <td>0.0</td>\n",
       "      <td>1013.9</td>\n",
       "      <td>10.0</td>\n",
       "      <td>2013-01-01T00:00:00Z</td>\n",
       "    </tr>\n",
       "    <tr>\n",
       "      <th>1</th>\n",
       "      <td>EWR</td>\n",
       "      <td>2013</td>\n",
       "      <td>1</td>\n",
       "      <td>1</td>\n",
       "      <td>1</td>\n",
       "      <td>37.04</td>\n",
       "      <td>21.92</td>\n",
       "      <td>53.97</td>\n",
       "      <td>230.0</td>\n",
       "      <td>13.80936</td>\n",
       "      <td>15.891535</td>\n",
       "      <td>0.0</td>\n",
       "      <td>1013.0</td>\n",
       "      <td>10.0</td>\n",
       "      <td>2013-01-01T01:00:00Z</td>\n",
       "    </tr>\n",
       "    <tr>\n",
       "      <th>2</th>\n",
       "      <td>EWR</td>\n",
       "      <td>2013</td>\n",
       "      <td>1</td>\n",
       "      <td>1</td>\n",
       "      <td>2</td>\n",
       "      <td>37.94</td>\n",
       "      <td>21.92</td>\n",
       "      <td>52.09</td>\n",
       "      <td>230.0</td>\n",
       "      <td>12.65858</td>\n",
       "      <td>14.567241</td>\n",
       "      <td>0.0</td>\n",
       "      <td>1012.6</td>\n",
       "      <td>10.0</td>\n",
       "      <td>2013-01-01T02:00:00Z</td>\n",
       "    </tr>\n",
       "    <tr>\n",
       "      <th>3</th>\n",
       "      <td>EWR</td>\n",
       "      <td>2013</td>\n",
       "      <td>1</td>\n",
       "      <td>1</td>\n",
       "      <td>3</td>\n",
       "      <td>37.94</td>\n",
       "      <td>23.00</td>\n",
       "      <td>54.51</td>\n",
       "      <td>230.0</td>\n",
       "      <td>13.80936</td>\n",
       "      <td>15.891535</td>\n",
       "      <td>0.0</td>\n",
       "      <td>1012.7</td>\n",
       "      <td>10.0</td>\n",
       "      <td>2013-01-01T03:00:00Z</td>\n",
       "    </tr>\n",
       "    <tr>\n",
       "      <th>4</th>\n",
       "      <td>EWR</td>\n",
       "      <td>2013</td>\n",
       "      <td>1</td>\n",
       "      <td>1</td>\n",
       "      <td>4</td>\n",
       "      <td>37.94</td>\n",
       "      <td>24.08</td>\n",
       "      <td>57.04</td>\n",
       "      <td>240.0</td>\n",
       "      <td>14.96014</td>\n",
       "      <td>17.215830</td>\n",
       "      <td>0.0</td>\n",
       "      <td>1012.8</td>\n",
       "      <td>10.0</td>\n",
       "      <td>2013-01-01T04:00:00Z</td>\n",
       "    </tr>\n",
       "  </tbody>\n",
       "</table>\n",
       "</div>"
      ],
      "text/plain": [
       "  origin  year  month  day  hour   temp   dewp  humid  wind_dir  wind_speed  \\\n",
       "0    EWR  2013      1    1     0  37.04  21.92  53.97     230.0    10.35702   \n",
       "1    EWR  2013      1    1     1  37.04  21.92  53.97     230.0    13.80936   \n",
       "2    EWR  2013      1    1     2  37.94  21.92  52.09     230.0    12.65858   \n",
       "3    EWR  2013      1    1     3  37.94  23.00  54.51     230.0    13.80936   \n",
       "4    EWR  2013      1    1     4  37.94  24.08  57.04     240.0    14.96014   \n",
       "\n",
       "   wind_gust  precip  pressure  visib             time_hour  \n",
       "0  11.918651     0.0    1013.9   10.0  2013-01-01T00:00:00Z  \n",
       "1  15.891535     0.0    1013.0   10.0  2013-01-01T01:00:00Z  \n",
       "2  14.567241     0.0    1012.6   10.0  2013-01-01T02:00:00Z  \n",
       "3  15.891535     0.0    1012.7   10.0  2013-01-01T03:00:00Z  \n",
       "4  17.215830     0.0    1012.8   10.0  2013-01-01T04:00:00Z  "
      ]
     },
     "metadata": {},
     "output_type": "display_data"
    },
    {
     "name": "stdout",
     "output_type": "stream",
     "text": [
      "After conversion\n"
     ]
    },
    {
     "data": {
      "text/html": [
       "<div>\n",
       "<style scoped>\n",
       "    .dataframe tbody tr th:only-of-type {\n",
       "        vertical-align: middle;\n",
       "    }\n",
       "\n",
       "    .dataframe tbody tr th {\n",
       "        vertical-align: top;\n",
       "    }\n",
       "\n",
       "    .dataframe thead th {\n",
       "        text-align: right;\n",
       "    }\n",
       "</style>\n",
       "<table border=\"1\" class=\"dataframe\">\n",
       "  <thead>\n",
       "    <tr style=\"text-align: right;\">\n",
       "      <th></th>\n",
       "      <th>origin</th>\n",
       "      <th>year</th>\n",
       "      <th>month</th>\n",
       "      <th>day</th>\n",
       "      <th>hour</th>\n",
       "      <th>temp</th>\n",
       "      <th>dewp</th>\n",
       "      <th>humid</th>\n",
       "      <th>wind_dir</th>\n",
       "      <th>wind_speed</th>\n",
       "      <th>wind_gust</th>\n",
       "      <th>precip</th>\n",
       "      <th>pressure</th>\n",
       "      <th>visib</th>\n",
       "      <th>time_hour</th>\n",
       "    </tr>\n",
       "  </thead>\n",
       "  <tbody>\n",
       "    <tr>\n",
       "      <th>0</th>\n",
       "      <td>EWR</td>\n",
       "      <td>2013</td>\n",
       "      <td>1</td>\n",
       "      <td>1</td>\n",
       "      <td>0</td>\n",
       "      <td>2.8</td>\n",
       "      <td>-5.6</td>\n",
       "      <td>53.97</td>\n",
       "      <td>230.0</td>\n",
       "      <td>10.35702</td>\n",
       "      <td>11.918651</td>\n",
       "      <td>0.0</td>\n",
       "      <td>1013.9</td>\n",
       "      <td>10.0</td>\n",
       "      <td>2013-01-01T00:00:00Z</td>\n",
       "    </tr>\n",
       "    <tr>\n",
       "      <th>1</th>\n",
       "      <td>EWR</td>\n",
       "      <td>2013</td>\n",
       "      <td>1</td>\n",
       "      <td>1</td>\n",
       "      <td>1</td>\n",
       "      <td>2.8</td>\n",
       "      <td>-5.6</td>\n",
       "      <td>53.97</td>\n",
       "      <td>230.0</td>\n",
       "      <td>13.80936</td>\n",
       "      <td>15.891535</td>\n",
       "      <td>0.0</td>\n",
       "      <td>1013.0</td>\n",
       "      <td>10.0</td>\n",
       "      <td>2013-01-01T01:00:00Z</td>\n",
       "    </tr>\n",
       "    <tr>\n",
       "      <th>2</th>\n",
       "      <td>EWR</td>\n",
       "      <td>2013</td>\n",
       "      <td>1</td>\n",
       "      <td>1</td>\n",
       "      <td>2</td>\n",
       "      <td>3.3</td>\n",
       "      <td>-5.6</td>\n",
       "      <td>52.09</td>\n",
       "      <td>230.0</td>\n",
       "      <td>12.65858</td>\n",
       "      <td>14.567241</td>\n",
       "      <td>0.0</td>\n",
       "      <td>1012.6</td>\n",
       "      <td>10.0</td>\n",
       "      <td>2013-01-01T02:00:00Z</td>\n",
       "    </tr>\n",
       "    <tr>\n",
       "      <th>3</th>\n",
       "      <td>EWR</td>\n",
       "      <td>2013</td>\n",
       "      <td>1</td>\n",
       "      <td>1</td>\n",
       "      <td>3</td>\n",
       "      <td>3.3</td>\n",
       "      <td>-5.0</td>\n",
       "      <td>54.51</td>\n",
       "      <td>230.0</td>\n",
       "      <td>13.80936</td>\n",
       "      <td>15.891535</td>\n",
       "      <td>0.0</td>\n",
       "      <td>1012.7</td>\n",
       "      <td>10.0</td>\n",
       "      <td>2013-01-01T03:00:00Z</td>\n",
       "    </tr>\n",
       "    <tr>\n",
       "      <th>4</th>\n",
       "      <td>EWR</td>\n",
       "      <td>2013</td>\n",
       "      <td>1</td>\n",
       "      <td>1</td>\n",
       "      <td>4</td>\n",
       "      <td>3.3</td>\n",
       "      <td>-4.4</td>\n",
       "      <td>57.04</td>\n",
       "      <td>240.0</td>\n",
       "      <td>14.96014</td>\n",
       "      <td>17.215830</td>\n",
       "      <td>0.0</td>\n",
       "      <td>1012.8</td>\n",
       "      <td>10.0</td>\n",
       "      <td>2013-01-01T04:00:00Z</td>\n",
       "    </tr>\n",
       "  </tbody>\n",
       "</table>\n",
       "</div>"
      ],
      "text/plain": [
       "  origin  year  month  day  hour  temp  dewp  humid  wind_dir  wind_speed  \\\n",
       "0    EWR  2013      1    1     0   2.8  -5.6  53.97     230.0    10.35702   \n",
       "1    EWR  2013      1    1     1   2.8  -5.6  53.97     230.0    13.80936   \n",
       "2    EWR  2013      1    1     2   3.3  -5.6  52.09     230.0    12.65858   \n",
       "3    EWR  2013      1    1     3   3.3  -5.0  54.51     230.0    13.80936   \n",
       "4    EWR  2013      1    1     4   3.3  -4.4  57.04     240.0    14.96014   \n",
       "\n",
       "   wind_gust  precip  pressure  visib             time_hour  \n",
       "0  11.918651     0.0    1013.9   10.0  2013-01-01T00:00:00Z  \n",
       "1  15.891535     0.0    1013.0   10.0  2013-01-01T01:00:00Z  \n",
       "2  14.567241     0.0    1012.6   10.0  2013-01-01T02:00:00Z  \n",
       "3  15.891535     0.0    1012.7   10.0  2013-01-01T03:00:00Z  \n",
       "4  17.215830     0.0    1012.8   10.0  2013-01-01T04:00:00Z  "
      ]
     },
     "metadata": {},
     "output_type": "display_data"
    }
   ],
   "source": [
    "print(\"Before conversion\")\n",
    "display(weather[0:5])\n",
    "\n",
    "# Define the temperature conversion formula\n",
    "def convert_temp(row):\n",
    "    row[\"temp\"] = (row[\"temp\"] - 32) * 5/9\n",
    "    row[\"dewp\"] = (row[\"dewp\"] - 32) * 5/9\n",
    "    return row\n",
    "\n",
    "# Apply the conversion formula to all rows in the dataframe\n",
    "weather = weather.apply(convert_temp, axis=1)\n",
    "\n",
    "print(\"After conversion\")\n",
    "display(weather[0:5])"
   ]
  },
  {
   "cell_type": "markdown",
   "id": "80797596",
   "metadata": {
    "pycharm": {
     "name": "#%% md\n"
    }
   },
   "source": [
    "**(c)** Using OLS, investigate if flight distance is associated with arrival delay. You should be cautious regarding negative delays."
   ]
  },
  {
   "cell_type": "code",
   "execution_count": 8,
   "id": "25f9baef",
   "metadata": {
    "pycharm": {
     "name": "#%%\n"
    }
   },
   "outputs": [
    {
     "name": "stdout",
     "output_type": "stream",
     "text": [
      "Intercept: -4.430274435744957\n",
      "Coefficients: [-0.00237749  1.01535333]\n",
      "Train data R-squared: 0.7990257528821415\n",
      "Test data R-squared: 0.7845648926110058\n"
     ]
    }
   ],
   "source": [
    "# Load the datasets\n",
    "flights = pd.read_csv(\"{}{}\".format(data_dir, tables[\"flights\"]))\n",
    "\n",
    "# Select the relevant columns and drop missing values\n",
    "flightdata = flights[[\"distance\", \"dep_delay\", \"arr_delay\"]].dropna()\n",
    "\n",
    "# Create the predictor and outcome variables\n",
    "X = flightdata[[\"distance\", \"dep_delay\"]]\n",
    "y = flightdata[\"arr_delay\"]\n",
    "\n",
    "# Split the data into training and test sets\n",
    "X_train, X_test, y_train, y_test = train_test_split(X, y, random_state=1)\n",
    "\n",
    "# Fit the linear regression model\n",
    "ODS = LinearRegression()\n",
    "ODS.fit(X_train, y_train)\n",
    "\n",
    "# Print the results of the model\n",
    "print(\"Intercept:\", ODS.intercept_)\n",
    "print(\"Coefficients:\", ODS.coef_)\n",
    "print(\"Train data R-squared:\", ODS.score(X_train, y_train))\n",
    "print(\"Test data R-squared:\", ODS.score(X_test, y_test))"
   ]
  },
  {
   "cell_type": "markdown",
   "id": "c89f9677",
   "metadata": {
    "pycharm": {
     "name": "#%% md\n"
    }
   },
   "source": [
    "**(d)** Using OLS, investigate if departure delay is associated with arrival delay. Again,\n",
    "   consider what to do with negative delays."
   ]
  },
  {
   "cell_type": "code",
   "execution_count": 9,
   "id": "65dafbed",
   "metadata": {
    "pycharm": {
     "name": "#%%\n"
    }
   },
   "outputs": [
    {
     "name": "stdout",
     "output_type": "stream",
     "text": [
      "Intercept: -7.477943010781493\n",
      "Coefficient: [1.0142036]\n",
      "Train data R-squared: 0.7971250867807199\n",
      "Test data R-squared: 0.7826321891385306\n"
     ]
    }
   ],
   "source": [
    "# Select the relevant columns and drop missing values\n",
    "flightdata = flights[[\"dep_delay\", \"arr_delay\"]].dropna()\n",
    "\n",
    "# Create the predictor and outcome variables\n",
    "X = flightdata[\"dep_delay\"]\n",
    "y = flightdata[\"arr_delay\"]\n",
    "\n",
    "# Split the data into training and test sets\n",
    "X_train, X_test, y_train, y_test = train_test_split(X, y, random_state=1)\n",
    "\n",
    "# Fit the linear regression model\n",
    "ODS = LinearRegression()\n",
    "ODS.fit(X_train.values.reshape(-1,1), y_train)\n",
    "\n",
    "# Print the results of the model\n",
    "print(\"Intercept:\", ODS.intercept_)\n",
    "print(\"Coefficient:\", ODS.coef_)\n",
    "print(\"Train data R-squared:\", ODS.score(X_train.values.reshape(-1,1), y_train))\n",
    "print(\"Test data R-squared:\", ODS.score(X_test.values.reshape(-1,1), y_test))"
   ]
  },
  {
   "cell_type": "markdown",
   "id": "4c99a28a",
   "metadata": {
    "pycharm": {
     "name": "#%% md\n"
    }
   },
   "source": [
    "**(e)** Investigate whether departure delay is associated with weather conditions\n",
    "   at the origin airport. This includes descriptives, plotting, regression modelling,\n",
    "   considering missing values etc. For regression, do OLS, Ridge, Lasso, and Elastic Net.\n",
    "   The analysis should also include seasonality trends as a \"weather condition\". You could,\n",
    "   for instance, plot the daily departure delay with the date (or monthly). What are the\n",
    "   three most important weather conditions when trying to predict departure delays?"
   ]
  },
  {
   "cell_type": "code",
   "execution_count": 11,
   "id": "bf76d743",
   "metadata": {
    "pycharm": {
     "name": "#%%\n"
    }
   },
   "outputs": [
    {
     "data": {
      "image/png": "[encoded data removed]",
      "text/plain": [
       "<Figure size 720x576 with 4 Axes>"
      ]
     },
     "metadata": {
      "needs_background": "light"
     },
     "output_type": "display_data"
    }
   ],
   "source": [
    "# Merge the flights and weather data on the origin, year, month, day, and hour\n",
    "flightdata = pd.merge(\n",
    "    flights, weather, on=[\"origin\", \"year\", \"month\", \"day\", \"hour\"]\n",
    ")\n",
    "\n",
    "# Select the relevant columns and drop missing values\n",
    "flightdata = flightdata[\n",
    "    [\n",
    "        \"temp\",\n",
    "        \"dewp\",\n",
    "        \"humid\",\n",
    "        \"wind_dir\",\n",
    "        \"wind_speed\",\n",
    "        \"wind_gust\",\n",
    "        \"precip\",\n",
    "        \"pressure\",\n",
    "        \"visib\",\n",
    "        \"dep_delay\",\n",
    "        \"arr_delay\",\n",
    "    ]\n",
    "].dropna()\n",
    "\n",
    "# Create the predictor and outcome variables\n",
    "X = flightdata[\n",
    "    [\n",
    "        \"temp\",\n",
    "        \"dewp\",\n",
    "        \"humid\",\n",
    "        \"wind_dir\",\n",
    "        \"wind_speed\",\n",
    "        \"wind_gust\",\n",
    "        \"precip\",\n",
    "        \"pressure\",\n",
    "        \"visib\",\n",
    "    ]\n",
    "]\n",
    "y = flightdata[\"dep_delay\"]\n",
    "\n",
    "# Split the data into training and test sets\n",
    "X_train, X_test, y_train, y_test = train_test_split(X, y, random_state=69)\n",
    "\n",
    "# Fit the linear regression models\n",
    "OLS = LinearRegression()\n",
    "OLS.fit(X_train, y_train)\n",
    "\n",
    "lasso = LassoCV(alphas=None, cv=10, max_iter=100000)\n",
    "lasso.fit(X_train, y_train)\n",
    "\n",
    "ridge = RidgeCV()\n",
    "ridge.fit(X_train, y_train)\n",
    "\n",
    "elastic = ElasticNetCV(l1_ratio=0.5, cv=10, max_iter=100000)\n",
    "elastic.fit(X_train, y_train)\n",
    "\n",
    "# Plot the coefficients of the fitted models\n",
    "fig, axs = plt.subplots(2, 2, figsize=(10, 8))\n",
    "\n",
    "# OLS\n",
    "axs[0, 0].bar(X.columns, OLS.coef_)\n",
    "axs[0, 0].set_title(\"OLS\")\n",
    "\n",
    "# Lasso\n",
    "axs[0, 1].bar(X.columns, lasso.coef_)\n",
    "axs[0, 1].set_title(\"Lasso\")\n",
    "\n",
    "# Ridge\n",
    "axs[1, 0].bar(X.columns, ridge.coef_)\n",
    "axs[1, 0].set_title(\"Ridge\")\n",
    "\n",
    "# Elastic Net\n",
    "axs[1, 1].bar(X.columns, elastic.coef_)\n",
    "axs[1, 1].set_title(\"Elastic Net\")\n",
    "\n",
    "plt.show()"
   ]
  },
  {
   "cell_type": "code",
   "execution_count": 12,
   "id": "2aa76a30",
   "metadata": {
    "pycharm": {
     "name": "#%%\n"
    }
   },
   "outputs": [],
   "source": [
    "# Merge the flights and weather data on the origin, year, month, day, and hour\n",
    "flightdata = pd.merge(\n",
    "    flights, weather, on=[\"origin\", \"year\", \"month\", \"day\", \"hour\"]\n",
    ")\n",
    "\n",
    "# Convert the dep_delay column to a binary indicator of whether the flight was delayed\n",
    "flightdata[\"dep_delay\"] = flightdata[\"dep_delay\"].apply(\n",
    "    lambda value: 1 if value > 0 else 0\n",
    ")\n",
    "\n",
    "# Drop missing values\n",
    "flightdata = flightdata.dropna()\n",
    "\n",
    "# Get the names of the months\n",
    "months_names = [\"January\", \"February\", \"March\", \"April\", \"May\", \"June\", \"July\", \"August\", \"September\", \"October\",\"November\", \"December\"]\n",
    "\n",
    "# Create empty lists for the amount of delayed flights, total flights, and percentage of delayed flights\n",
    "amount_delayed = [0] * 12\n",
    "amount_total = [0] * 12\n",
    "amount_percent = [0] * 12\n",
    "\n",
    "# Iterate over the rows of the data\n",
    "for index, row in flightdata.iterrows():\n",
    "\n",
    "    # Increment the amount of delayed flights in the appropriate month\n",
    "    if row[\"dep_delay\"] == 1:\n",
    "        amount_delayed[row[\"month\"] - 1] += 1\n",
    "\n",
    "    # Increment the total amount of flights in the appropriate month\n",
    "    amount_total[row[\"month\"] - 1] += 1\n",
    "\n",
    "# Calculate the percentage of delayed flights for each month\n",
    "amount_percent = [d / t * 100 for d, t in zip(amount_delayed, amount_total)]"
   ]
  },
  {
   "cell_type": "code",
   "execution_count": 15,
   "id": "aa364718",
   "metadata": {
    "pycharm": {
     "name": "#%%\n"
    }
   },
   "outputs": [
    {
     "data": {
      "image/png": "[encoded data removed]",
      "text/plain": [
       "<Figure size 720x432 with 1 Axes>"
      ]
     },
     "metadata": {
      "needs_background": "light"
     },
     "output_type": "display_data"
    }
   ],
   "source": [
    "import numpy as np\n",
    "\n",
    "# Create a figure with the desired size\n",
    "fig = plt.figure(figsize=(10, 6))\n",
    "\n",
    "# Add a subplot to the figure\n",
    "ax = fig.add_subplot(1, 1, 1)\n",
    "\n",
    "# Plot the total and delayed flights as bar charts\n",
    "ax.bar(\n",
    "    np.arange(len(months_names)) - 0.25, amount_total,\n",
    "    width=0.25, label=\"Total\"\n",
    ")\n",
    "ax.bar(\n",
    "    np.arange(len(months_names)) + 0.25, amount_delayed,\n",
    "    width=0.25, label=\"Delayed\"\n",
    ")\n",
    "\n",
    "# Set the x-axis tick labels to the names of the months\n",
    "ax.set_xticks(np.arange(len(months_names)))\n",
    "ax.set_xticklabels(months_names)\n",
    "\n",
    "# Add a legend to the plot\n",
    "ax.legend()\n",
    "\n",
    "# Show the plot\n",
    "plt.show()"
   ]
  },
  {
   "cell_type": "code",
   "execution_count": 16,
   "id": "7ee9273b",
   "metadata": {
    "pycharm": {
     "name": "#%%\n"
    }
   },
   "outputs": [
    {
     "data": {
      "image/png": "[encoded data removed]",
      "text/plain": [
       "<Figure size 720x432 with 1 Axes>"
      ]
     },
     "metadata": {
      "needs_background": "light"
     },
     "output_type": "display_data"
    }
   ],
   "source": [
    "# Create a figure with the desired size\n",
    "fig = plt.figure(figsize=(10, 6))\n",
    "\n",
    "# Add a subplot to the figure\n",
    "ax = fig.add_subplot(1, 1, 1)\n",
    "\n",
    "# Plot the percentage of delayed flights as a bar chart\n",
    "ax.bar(\n",
    "    np.arange(len(months_names)), amount_percent, width=0.5,\n",
    "    label=\"Delayed\"\n",
    ")\n",
    "\n",
    "# Set the x-axis tick labels to the names of the months\n",
    "ax.set_xticks(np.arange(len(months_names)))\n",
    "ax.set_xticklabels(months_names)\n",
    "\n",
    "# Add a legend to the plot\n",
    "ax.legend()\n",
    "\n",
    "# Show the plot\n",
    "plt.show()"
   ]
  },
  {
   "cell_type": "markdown",
   "id": "1fb3b46f",
   "metadata": {
    "pycharm": {
     "name": "#%% md\n"
    }
   },
   "source": [
    "**(f)** Is the age of the plane associated with delay? Do OLS, Ridge, Lasso, and Elastic Net."
   ]
  },
  {
   "cell_type": "markdown",
   "id": "d4707ebb",
   "metadata": {
    "pycharm": {
     "name": "#%% md\n"
    }
   },
   "source": [
    "No, and here's why:"
   ]
  },
  {
   "cell_type": "code",
   "execution_count": 19,
   "id": "4ef38073",
   "metadata": {
    "pycharm": {
     "name": "#%%\n"
    }
   },
   "outputs": [
    {
     "name": "stdout",
     "output_type": "stream",
     "text": [
      "OLS dep and plane age\n",
      "Train data: 0.000\n",
      "Test data: 0.001\n"
     ]
    }
   ],
   "source": [
    "# Merge the flights and planes datasets on the tailnum column\n",
    "flight_data = pd.merge(\n",
    "    flights.copy(deep=True), planes.copy(deep=True),\n",
    "    on=\"tailnum\"\n",
    ")\n",
    "\n",
    "# Calculate the age of the plane\n",
    "flight_data[\"plane_age\"] = flight_data[\"year_x\"] - flight_data[\"year_y\"]\n",
    "\n",
    "# Select the relevant columns\n",
    "flight_data = flight_data.loc[:, [\"plane_age\", \"dep_delay\", \"arr_delay\"]]\n",
    "\n",
    "# Drop rows with missing values\n",
    "flight_data = flight_data.dropna()\n",
    "\n",
    "# Split the data into training and test sets\n",
    "X_train, X_test, y_train, y_test = train_test_split(\n",
    "    flight_data[[\"plane_age\"]], flight_data[\"dep_delay\"],\n",
    "    random_state=69\n",
    ")\n",
    "\n",
    "# Fit a linear regression model to the data\n",
    "model = LinearRegression()\n",
    "model.fit(X_train, y_train)\n",
    "\n",
    "# Print the model's R-squared score on the training and test sets\n",
    "print(f\"OLS dep and plane age\\nTrain data: {model.score(X_train, y_train):.3f}\\nTest data: {model.score(X_test, y_test):.3f}\")"
   ]
  },
  {
   "cell_type": "code",
   "execution_count": 20,
   "id": "36de88aa",
   "metadata": {
    "pycharm": {
     "name": "#%%\n"
    }
   },
   "outputs": [
    {
     "name": "stdout",
     "output_type": "stream",
     "text": [
      "OLS arr and plane age\n",
      "Train data: 0.000\n",
      "Test data: 0.000\n"
     ]
    }
   ],
   "source": [
    "# Merge the flights and planes data\n",
    "flightdata = pd.merge(flights.copy(deep=True), planes.copy(deep=True), on=\"tailnum\")\n",
    "\n",
    "# Select the columns we need from the merged data\n",
    "flightdata = flightdata.loc[:,[\"year_x\", \"year_y\", \"dep_delay\", \"arr_delay\"]]\n",
    "\n",
    "# Calculate the age of each plane by subtracting its year of manufacture from the year of the flight\n",
    "flightdata[\"plane_age\"] = flightdata[\"year_x\"] - flightdata[\"year_y\"]\n",
    "\n",
    "# Calculate the arrival delay by subtracting the departure delay from the arrival delay\n",
    "flightdata[\"arr_delay\"] = flightdata[\"arr_delay\"] - flights[\"dep_delay\"] \n",
    "\n",
    "# Drop any rows with missing values\n",
    "flightdata = flightdata.dropna()\n",
    "\n",
    "# Select the plane age column as the input features\n",
    "X = flightdata.loc[:,[\"plane_age\"]]\n",
    "\n",
    "# Select the arrival delay column as the target variable\n",
    "y = flightdata.loc[:,[\"arr_delay\"]]\n",
    "\n",
    "# Split the data into training and test sets\n",
    "X_train, X_test , y_train, y_test = train_test_split(X, y, random_state=69)\n",
    "\n",
    "# Fit a linear regression model to the training data\n",
    "ODS = LinearRegression()\n",
    "ODS.fit(X_train, y_train)\n",
    "\n",
    "# Print the model's R-squared score on the training and test sets\n",
    "print(f\"OLS arr and plane age\\nTrain data: {ODS.score(X_train, y_train):.3f}\\nTest data: {ODS.score(X_test, y_test):.3f}\")"
   ]
  },
  {
   "cell_type": "code",
   "execution_count": 21,
   "id": "de6da989",
   "metadata": {
    "pycharm": {
     "name": "#%%\n"
    }
   },
   "outputs": [],
   "source": [
    "# Merge the flights and planes data on the 'tailnum' column\n",
    "flightdata = pd.merge(flights, planes, on='tailnum')\n",
    "\n",
    "# Select the columns to include in the model\n",
    "flightdata = flightdata[['year_x', 'year_y', 'dep_delay', 'arr_delay']]\n",
    "\n",
    "# Compute the plane's age\n",
    "flightdata['plane_age'] = flightdata['year_x'] - flightdata['year_y']\n",
    "\n",
    "# Remove rows with missing values\n",
    "flightdata = flightdata.dropna()\n",
    "\n",
    "# Define the features (predictors) and the target (response) variables\n",
    "X = flightdata[['plane_age']]\n",
    "y = flightdata['dep_delay']\n",
    "\n",
    "# Split the data into training and test sets\n",
    "X_train, X_test, y_train, y_test = train_test_split(X, y, random_state=69)"
   ]
  },
  {
   "cell_type": "code",
   "execution_count": 67,
   "id": "1dd7b9c2",
   "metadata": {
    "pycharm": {
     "name": "#%%\n"
    }
   },
   "outputs": [
    {
     "name": "stdout",
     "output_type": "stream",
     "text": [
      "Ridge\n",
      "Train data: 0.034 \n",
      "Test data: 0.008\n",
      "Optimal regularization parameter: 8.111\n"
     ]
    }
   ],
   "source": [
    "# Fit a Ridge regression model to the data\n",
    "alphas = 10 ** np.linspace(-10, 10, 100)\n",
    "ridgecv = make_pipeline(StandardScaler(), RidgeCV(alphas=alphas))\n",
    "ridgecv.fit(X_train, y_train)\n",
    "\n",
    "# Compute the model's R-squared score on the training and test sets\n",
    "train_score = ridgecv.score(X_train, y_train)\n",
    "test_score = ridgecv.score(X_test, y_test)\n",
    "\n",
    "# Print the R-squared scores\n",
    "print(f\"Ridge\\nTrain data: {train_score:.3f} \\nTest data: {test_score:.3f}\")\n",
    "\n",
    "# Get the optimal value of the regularization parameter\n",
    "alpha = model.named_steps[\"ridgecv\"].alpha_\n",
    "print(f\"Optimal regularization parameter: {alpha:.3f}\")"
   ]
  },
  {
   "cell_type": "code",
   "execution_count": 29,
   "id": "daf19a75",
   "metadata": {
    "pycharm": {
     "name": "#%%\n"
    }
   },
   "outputs": [
    {
     "name": "stdout",
     "output_type": "stream",
     "text": [
      "Lasso\n",
      "Train data: 0.000 \n",
      "Test data: 0.001\n",
      "Optimal regularization parameter: 0.001\n"
     ]
    }
   ],
   "source": [
    "# Create a pipeline that scales the data, fits a LassoCV model, and computes the model's R-squared score\n",
    "model = make_pipeline(StandardScaler(), LassoCV(cv=10, max_iter=100000))\n",
    "model.fit(X_train, y_train)\n",
    "\n",
    "# Compute the model's R-squared score on the training and test sets\n",
    "train_score = model.score(X_train, y_train)\n",
    "test_score = model.score(X_test, y_test)\n",
    "\n",
    "# Print the R-squared scores\n",
    "print(f\"Lasso\\nTrain data: {train_score:.3f} \\nTest data: {test_score:.3f}\")\n",
    "\n",
    "# Print the optimal regularization parameter\n",
    "print(f\"Optimal regularization parameter: {model[1].alpha_:.3f}\")"
   ]
  },
  {
   "cell_type": "markdown",
   "id": "027b0c00",
   "metadata": {
    "pycharm": {
     "name": "#%% md\n"
    }
   },
   "source": [
    "**(g)** Do a principal component analysis of the weather at JFK using the following columns:\n",
    "   temp, dewp, humid, wind_dir, wind_speed, precip, visib.\n",
    "   How many principal components should be used to capture the variability in the weather data?"
   ]
  },
  {
   "cell_type": "code",
   "execution_count": 37,
   "id": "3bc9335f",
   "metadata": {
    "pycharm": {
     "name": "#%%\n"
    }
   },
   "outputs": [
    {
     "data": {
      "image/png": "[encoded data removed]",
      "text/plain": [
       "<Figure size 432x288 with 1 Axes>"
      ]
     },
     "metadata": {
      "needs_background": "light"
     },
     "output_type": "display_data"
    },
    {
     "name": "stdout",
     "output_type": "stream",
     "text": [
      "Number of principal components that explain at least 80% of the variance: 0\n"
     ]
    }
   ],
   "source": [
    "# Copy the weather data\n",
    "weather_data = weather.copy(deep=True)\n",
    "\n",
    "# Filter the data to only include observations from JFK\n",
    "weather_data = weather_data[weather_data[\"origin\"] == \"JFK\"]\n",
    "\n",
    "# Select the columns of interest\n",
    "weather_data = weather_data[[\"temp\", \"dewp\", \"humid\", \"wind_dir\", \"wind_speed\", \"precip\", \"visib\"]]\n",
    "\n",
    "# Drop any missing values\n",
    "weather_data = weather_data.dropna()\n",
    "\n",
    "# Standardize the data\n",
    "scaler = StandardScaler()\n",
    "weather_data_standardized = scaler.fit_transform(weather_data)\n",
    "\n",
    "# Perform PCA using all columns\n",
    "pca = PCA()\n",
    "pca.fit(weather_data_standardized)\n",
    "\n",
    "# Transform the data using the fitted PCA model\n",
    "transformed_data = pca.transform(weather_data_standardized)\n",
    "\n",
    "# Get the explained variance ratio for each principal component\n",
    "per_var = np.round(pca.explained_variance_ratio_*100, decimals=1)\n",
    "\n",
    "# Create labels for the principal components\n",
    "labels = [\"PC\" + str(i) for i in range(1, len(per_var) + 1)]\n",
    "\n",
    "# Create a bar plot showing the percentage of variance explained by each principal component\n",
    "plt.bar(x=range(1, len(per_var)+1), height=per_var, tick_label=labels)\n",
    "plt.ylabel('% of variance')\n",
    "plt.xlabel(\"PC\")\n",
    "plt.show()\n",
    "\n",
    "# Print the number of principal components that explain at least 80% of the variance\n",
    "print(f\"Number of principal components that explain at least 80% of the variance: {(per_var >= 80).sum()}\")"
   ]
  },
  {
   "cell_type": "markdown",
   "id": "db63c4a8",
   "metadata": {
    "pycharm": {
     "name": "#%% md\n"
    }
   },
   "source": [
    "**(h)** Build regression models (OLS, Ridge, Lasso, and Elastic Net) that associates\n",
    "   an airports lattitude with weather conditions (temp, dewp, humid, wind_dir, wind_speed,\n",
    "   precip, visib). Remove all but the three most significant whether conditions and redo\n",
    "   the analysis."
   ]
  },
  {
   "cell_type": "code",
   "execution_count": 73,
   "id": "eb2869b8",
   "metadata": {
    "pycharm": {
     "name": "#%%\n"
    }
   },
   "outputs": [
    {
     "name": "stdout",
     "output_type": "stream",
     "text": [
      "OLS\n",
      "Train data: 0.03449208496831058 \n",
      "Test data: 0.008142857862870057\n",
      "Ridge\n",
      "Train data: 0.034492055927547005 \n",
      "Test data: 0.0081478231944907\n"
     ]
    },
    {
     "name": "stderr",
     "output_type": "stream",
     "text": [
      "/home/fanimator/.local/lib/python3.8/site-packages/sklearn/linear_model/_coordinate_descent.py:1614: DataConversionWarning: A column-vector y was passed when a 1d array was expected. Please change the shape of y to (n_samples, ), for example using ravel().\n",
      "  y = column_or_1d(y, warn=True)\n"
     ]
    },
    {
     "name": "stdout",
     "output_type": "stream",
     "text": [
      "Lasso\n",
      "Train data: 0.03447529766507962 \n",
      "Test data: 0.008352541351916765\n"
     ]
    },
    {
     "name": "stderr",
     "output_type": "stream",
     "text": [
      "/home/fanimator/.local/lib/python3.8/site-packages/sklearn/linear_model/_coordinate_descent.py:1614: DataConversionWarning: A column-vector y was passed when a 1d array was expected. Please change the shape of y to (n_samples, ), for example using ravel().\n",
      "  y = column_or_1d(y, warn=True)\n"
     ]
    },
    {
     "name": "stdout",
     "output_type": "stream",
     "text": [
      "Elastic Net\n",
      "Train data: 0.034470525010813824 \n",
      "Test data: 0.008362493623633727\n"
     ]
    },
    {
     "name": "stderr",
     "output_type": "stream",
     "text": [
      "/home/fanimator/.local/lib/python3.8/site-packages/sklearn/linear_model/_coordinate_descent.py:648: ConvergenceWarning: Objective did not converge. You might want to increase the number of iterations, check the scale of the features or consider increasing regularisation. Duality gap: 7.009e-01, tolerance: 6.194e-03\n",
      "  model = cd_fast.enet_coordinate_descent(\n"
     ]
    }
   ],
   "source": [
    "# Merge the weather and airport data\n",
    "airportWeather = pd.merge(weather.copy(deep=True), airports.copy(deep=True), left_on='origin', right_on='faa')\n",
    "\n",
    "# Select the relevant columns from the merged data\n",
    "airportWeather = airportWeather[[\"temp\", \"dewp\", \"humid\", \"wind_dir\", \"wind_speed\", \"precip\", \"visib\", \"lat\"]]\n",
    "\n",
    "# Remove any missing values\n",
    "airportWeather = airportWeather.dropna()\n",
    "\n",
    "# Split the data into training and test sets\n",
    "X = airportWeather[[\"temp\", \"dewp\", \"humid\", \"wind_dir\", \"wind_speed\", \"precip\", \"visib\"]]\n",
    "y = airportWeather[[\"lat\"]]\n",
    "X_train, X_test, y_train, y_test = train_test_split(X, y, random_state=69)\n",
    "\n",
    "# Scale the data\n",
    "scaler = StandardScaler()\n",
    "X_train_scaled = scaler.fit_transform(X_train)\n",
    "X_test_scaled = scaler.transform(X_test)\n",
    "\n",
    "# Fit and evaluate an OLS model\n",
    "OLS = LinearRegression()\n",
    "OLS.fit(X_train_scaled, y_train)\n",
    "\n",
    "# Compute the model's R-squared score on the training and test sets\n",
    "train_score = OLS.score(X_train_scaled, y_train)\n",
    "test_score = OLS.score(X_test_scaled, y_test)\n",
    "\n",
    "# Print the R-squared scores\n",
    "print(f\"OLS\\nTrain data: {train_score} \\nTest data: {test_score}\")\n",
    "\n",
    "# Fit a Ridge regression model with default regularization parameter\n",
    "ridgecv = make_pipeline(StandardScaler(), RidgeCV(alphas=alphas))\n",
    "ridge.fit(X_train_scaled, y_train)\n",
    "\n",
    "# Compute the model's R-squared score on the training and test sets\n",
    "train_score = ridge.score(X_train_scaled, y_train)\n",
    "test_score = ridge.score(X_test_scaled, y_test)\n",
    "\n",
    "# Print the R-squared scores\n",
    "print(f\"Ridge\\nTrain data: {train_score} \\nTest data: {test_score}\")\n",
    "\n",
    "# Fit a Lasso regression model with default regularization parameter\n",
    "lasso = make_pipeline(StandardScaler(), LassoCV(alphas = None, cv = 10, max_iter = 100000))\n",
    "lasso.fit(X_train_scaled, y_train)\n",
    "\n",
    "# Compute the model's R-squared score on the training and test sets\n",
    "train_score = lasso.score(X_train_scaled, y_train)\n",
    "test_score = lasso.score(X_test_scaled, y_test)\n",
    "\n",
    "# Print the R-squared scores\n",
    "print(f\"Lasso\\nTrain data: {train_score} \\nTest data: {test_score}\")\n",
    "\n",
    "# Fit an Elastic Net regression model with default regularization parameter\n",
    "enet = ElasticNetCV()\n",
    "enet.fit(X_train_scaled, y_train)\n",
    "\n",
    "# Compute the model's R-squared score on the training and test sets\n",
    "train_score = enet.score(X_train_scaled, y_train)\n",
    "test_score = enet.score(X_test_scaled, y_test)\n",
    "\n",
    "# Print the R-squared scores\n",
    "print(f\"Elastic Net\\nTrain data: {train_score} \\nTest data: {test_score}\")"
   ]
  },
  {
   "cell_type": "code",
   "execution_count": 60,
   "id": "73d3ea81",
   "metadata": {
    "pycharm": {
     "name": "#%%\n"
    }
   },
   "outputs": [
    {
     "data": {
      "image/png": "[encoded data removed]",
      "text/plain": [
       "<Figure size 432x288 with 1 Axes>"
      ]
     },
     "metadata": {
      "needs_background": "light"
     },
     "output_type": "display_data"
    }
   ],
   "source": [
    "# Get the column names and coefficients from the LassoCV model\n",
    "col_names = X.columns\n",
    "coefficients = lasso.coef_\n",
    "\n",
    "# Create a bar plot showing the coefficients of each variable\n",
    "fig, ax = plt.subplots()\n",
    "ax.bar(col_names, coefficients)\n",
    "ax.set_ylabel('Coefficient')\n",
    "ax.set_xlabel('Variable')\n",
    "plt.show()"
   ]
  },
  {
   "cell_type": "code",
   "execution_count": 61,
   "id": "6adf3c85",
   "metadata": {
    "pycharm": {
     "name": "#%%\n"
    }
   },
   "outputs": [],
   "source": [
    "# Merge the weather and airports dataframes\n",
    "airportWeather = weather.merge(airports, left_on='origin', right_on='faa')\n",
    "\n",
    "# Select the relevant columns\n",
    "airportWeather = airportWeather[[\"temp\", \"dewp\", \"humid\", \"wind_dir\", \"wind_speed\", \"precip\", \"visib\", \"lat\"]]\n",
    "\n",
    "# Drop rows with missing values\n",
    "airportWeather = airportWeather.dropna()\n",
    "\n",
    "# Split the data into features and target\n",
    "X = airportWeather[[\"temp\", \"dewp\", \"precip\"]]\n",
    "y = airportWeather[[\"lat\"]]\n",
    "\n",
    "# Split the data into training and testing sets\n",
    "X_train, X_test , y_train, y_test = train_test_split(X, y, random_state=69)"
   ]
  },
  {
   "cell_type": "code",
   "execution_count": 62,
   "id": "42d8cd5a",
   "metadata": {
    "pycharm": {
     "name": "#%%\n"
    }
   },
   "outputs": [
    {
     "name": "stdout",
     "output_type": "stream",
     "text": [
      "Linear Regression\n",
      "Train data: 0.014707683282433437 \n",
      "Test data: 0.014889853484747695\n"
     ]
    }
   ],
   "source": [
    "# Create the linear regression model\n",
    "model = LinearRegression()\n",
    "\n",
    "# Fit the model to the training data\n",
    "model.fit(X_train, y_train)\n",
    "\n",
    "# Evaluate the model on the training and testing data\n",
    "train_score = model.score(X_train, y_train)\n",
    "test_score = model.score(X_test, y_test)\n",
    "\n",
    "# Print the results\n",
    "print(\"Linear Regression\\nTrain data: {} \\nTest data: {}\".format(train_score, test_score))"
   ]
  },
  {
   "cell_type": "code",
   "execution_count": 65,
   "id": "ee3305a1",
   "metadata": {
    "pycharm": {
     "name": "#%%\n"
    }
   },
   "outputs": [
    {
     "name": "stdout",
     "output_type": "stream",
     "text": [
      "Ridge Regression\n",
      "Train data: 0.014707430204193295 \n",
      "Test data: 0.014889508332237122\n"
     ]
    }
   ],
   "source": [
    "# Create an array of alpha values\n",
    "alphas = 10**np.linspace(-10, 10, 100)\n",
    "\n",
    "# Create a RidgeCV model with the given alpha values\n",
    "model = make_pipeline(StandardScaler(), RidgeCV(alphas=alphas))\n",
    "\n",
    "# Fit the model to the training data\n",
    "model.fit(X_train, y_train)\n",
    "\n",
    "# Evaluate the model on the training and testing data\n",
    "train_score = model.score(X_train, y_train)\n",
    "test_score = model.score(X_test, y_test)\n",
    "\n",
    "# Print the results\n",
    "print(\"Ridge Regression\\nTrain data: {} \\nTest data: {}\".format(train_score, test_score))"
   ]
  },
  {
   "cell_type": "code",
   "execution_count": 71,
   "id": "7a44898f",
   "metadata": {
    "pycharm": {
     "name": "#%%\n"
    }
   },
   "outputs": [
    {
     "name": "stdout",
     "output_type": "stream",
     "text": [
      "Lasso Regression\n",
      "Train data: 0.03447529766507962 \n",
      "Test data: 0.008352541351916876\n"
     ]
    }
   ],
   "source": [
    "# Create a LassoCV model\n",
    "model = make_pipeline(StandardScaler(), LassoCV(cv=10, max_iter=100000))\n",
    "\n",
    "# Fit the model to the training data\n",
    "model.fit(X_train, y_train.values.ravel())\n",
    "\n",
    "# Evaluate the model on the training and testing data\n",
    "train_score = model.score(X_train, y_train)\n",
    "test_score = model.score(X_test, y_test)\n",
    "\n",
    "# Print the results\n",
    "print(\"Lasso Regression\\nTrain data: {} \\nTest data: {}\".format(train_score, test_score))"
   ]
  },
  {
   "cell_type": "markdown",
   "id": "084b1a4a",
   "metadata": {
    "pycharm": {
     "name": "#%% md\n"
    }
   },
   "source": [
    "**(i)** On a map, plot the airports that have flights to them where the points that represent\n",
    "   airports are relative in size to the average departure delay. You can see an example in \"airports.png\"."
   ]
  },
  {
   "cell_type": "markdown",
   "id": "e56deff8",
   "metadata": {
    "pycharm": {
     "name": "#%% md\n"
    }
   },
   "source": [
    " **(j)** These questions require no code.\n",
    " - Suppose you are using Ridge Regression and you notice that the training error and the validation error are almost equal and fairly high. Would you say that the model suffers from high bias or high variance? Should you increase the regularization hyperparameter or reduce it?\n",
    "\n",
    "- Why would you want to use:\n",
    "        > Ridge Regression instead of plain Linear Regression (i.e. without any regularization)?\n",
    "        > Lasso instead of Ridge Regression?\n",
    "        > Elastic Net instead of Lasso?"
   ]
  },
  {
   "cell_type": "markdown",
   "id": "546b5873",
   "metadata": {
    "pycharm": {
     "name": "#%% md\n"
    }
   },
   "source": [
    "**Answer:**\n",
    "\n",
    "- If the training error and validation error are almost equal and fairly high when using Ridge Regression, it indicates that the model is **underfitting** the data, which is often caused by high bias. In this situation, it would be appropriate to decrease the regularization hyperparameter, as a lower regularization strength would allow the model to fit the data more closely and potentially reduce the bias.\n",
    "\n",
    "- **Ridge Regression** is a type of regularized linear regression that uses L2 regularization to **prevent overfitting** by adding a penalty on the coefficients of the model. This can help to improve the generalization performance of the model and prevent overfitting, especially when the number of features is large compared to the number of training examples.\n",
    "\n",
    "- **Lasso** is a type of regularized linear regression that uses L1 regularization to set some of the coefficients of the model to 0, effectively performing **feature selection** and **eliminating redundant or irrelevant features** from the model. This can make the model more interpretable and **reduce the complexity** of the model, which can improve its performance on unseen data.\n",
    "\n",
    "- **Elastic Net** is a type of regularized linear regression that combines L1 and L2 regularization, allowing the model to **eliminate irrelevant features** and **reduce the complexity** of the model, while also **avoiding overfitting** by adding a penalty on the coefficients. This can provide the benefits of both Lasso and Ridge Regression, and can be especially useful when there are multiple correlated features in the data."
   ]
  },
  {
   "cell_type": "markdown",
   "id": "136220d9",
   "metadata": {
    "pycharm": {
     "name": "#%% md\n"
    }
   },
   "source": [
    "## 3. Clustering of Handwritten Digits (Franciska)\n",
    "\n",
    "__You should be able to do this exercise after Lecture 5.__"
   ]
  },
  {
   "cell_type": "markdown",
   "id": "18ff2d30",
   "metadata": {
    "pycharm": {
     "name": "#%% md\n"
    }
   },
   "source": [
    "This exercise will depart from the famous MNIST dataset, and we are exploring several clustering techniques with it.. This is a \".mat\" file, in order to load this file in an ipynb you have to use loadmat() function from scipy.io. (replace my path)."
   ]
  },
  {
   "cell_type": "code",
   "execution_count": 74,
   "id": "457a61fe",
   "metadata": {
    "pycharm": {
     "name": "#%%\n"
    }
   },
   "outputs": [
    {
     "name": "stdout",
     "output_type": "stream",
     "text": [
      "Number of datapoints: 70000\n",
      "\n",
      "Number of features: 784\n",
      "\n",
      "List of labels: [0. 1. 2. 3. 4. 5. 6. 7. 8. 9.]\n",
      "\n"
     ]
    }
   ],
   "source": [
    "mnist = scipy.io.loadmat('3 Clustering of Handwritten Digits/mnist-original')\n",
    "mnist_data = mnist[\"data\"].T\n",
    "mnist_label = mnist[\"label\"][0]\n",
    "\n",
    "print(\"Number of datapoints: {}\\n\".format(mnist_data.shape[0]))\n",
    "print(\"Number of features: {}\\n\".format(mnist_data.shape[1]))\n",
    "print(\"List of labels: {}\\n\".format(np.unique(mnist_label)))"
   ]
  },
  {
   "cell_type": "markdown",
   "id": "260b8654",
   "metadata": {
    "pycharm": {
     "name": "#%% md\n"
    }
   },
   "source": [
    "There are 70,000 images, and each image has 784 features. This is because each image is 28×28 pixels,\n",
    "and each feature simply represents one pixel’s intensity, from 0 (white) to 255 (black). Let’s take a peek at one digit from the dataset. All you need to do is grab an instance’s feature vector, reshape it to a 28×28 array, and display it using Matplotlib’s `imshow()` function:"
   ]
  },
  {
   "cell_type": "code",
   "execution_count": 76,
   "id": "402db0c5",
   "metadata": {
    "pycharm": {
     "name": "#%%\n"
    }
   },
   "outputs": [
    {
     "name": "stdout",
     "output_type": "stream",
     "text": [
      "Value of datapoint no. 4:\n",
      "[  0   0   0   0   0   0   0   0   0   0   0   0   0   0   0   0   0   0\n",
      "   0   0   0   0   0   0   0   0   0   0   0   0   0   0   0   0   0   0\n",
      "   0   0   0   0   0   0   0   0   0   0   0   0   0   0   0   0   0   0\n",
      "   0   0   0   0   0   0   0   0   0   0   0   0   0   0   0   0   0   0\n",
      "   0   0   0   0   0   0   0   0   0   0   0   0   0   0   0   0   0   0\n",
      "   0   0   0   0   0   0   0   0   0   0   0   0   0   0   0   0   0   0\n",
      "   0   0   0   0   0   0   0   0   0   0   0   0   0   0   0   0   0   0\n",
      "   0   0   0   0   0   0   0   0   0   0   0   0   0   0   0   0   0   0\n",
      "   0   0   0   0   0   0   0   0   0  46 105 254 254 254 254 255 239  41\n",
      "   0   0   0   0   0   0   0   0   0   0   0   0   0   0   0   0   0  37\n",
      " 118 222 254 253 253 253 253 253 253 211  54   0   0   0   0   0   0   0\n",
      "   0   0   0   0   0   0   0   0  14 200 253 253 254 253 253 253 253 253\n",
      " 253 253 116   0   0   0   0   0   0   0   0   0   0   0   0   0  16 160\n",
      " 236 253 253 253 254 253 253 246 229 253 253 253 116   0   0   0   0   0\n",
      "   0   0   0   0   0   0   0   0  99 253 253 253 253 253 254 253 253 213\n",
      "  99 253 253 253 116   0   0   0   0   0   0   0   0   0   0   0   0  25\n",
      " 194 253 253 253 253 131  97 169 253  93  99 253 253 253 116   0   0   0\n",
      "   0   0   0   0   0   0   0   0   0 206 253 253 251 233 127   9   0  18\n",
      "  38   3  15 171 253 253 116   0   0   0   0   0   0   0   0   0   0   0\n",
      "  55 240 253 253 233   0   0   0   0   0   0   0  31 186 253 253 116   0\n",
      "   0   0   0   0   0   0   0   0   0   0 176 253 253 253 127   0   0   0\n",
      "   0   0   0   0  99 253 253 253 116   0   0   0   0   0   0   0   0   0\n",
      "   0   0 176 253 253 131   9   0   0   0   0   0   0   0  99 253 253 253\n",
      " 116   0   0   0   0   0   0   0   0   0   0 119 254 254 232  75   0   0\n",
      "   0   0   0   0   0   0   0 158 254 254 117   0   0   0   0   0   0   0\n",
      "   0   0   0 118 253 253 154   0   0   0   0   0   0   0   0   0   0 156\n",
      " 253 253 116   0   0   0   0   0   0   0   0   0   0 118 253 253 154   0\n",
      "   0   0   0   0   0   0   0   0   0 156 253 253 116   0   0   0   0   0\n",
      "   0   0   0   0  46 222 253 253 154   0   0   0   0   0   0   0   0   7\n",
      " 116 246 253 180   9   0   0   0   0   0   0   0   0   0   0 118 253 253\n",
      " 154   0   0   0   0   0   0   0   0 116 253 253 253 174   0   0   0   0\n",
      "   0   0   0   0   0   0   0 118 253 253 154   0   0   0   0   0   0   0\n",
      " 110 246 253 253 240  67   0   0   0   0   0   0   0   0   0   0   0 118\n",
      " 253 253 238 215  49  20  20  20  66 215 241 253 245 233  64   0   0   0\n",
      "   0   0   0   0   0   0   0   0   0  82 229 253 253 253 253 253 253 253\n",
      " 254 253 253 240 107   0   0   0   0   0   0   0   0   0   0   0   0   0\n",
      "   0   0 176 253 253 253 253 253 253 253 254 253 253 108   0   0   0   0\n",
      "   0   0   0   0   0   0   0   0   0   0   0   0  40 239 253 253 253 253\n",
      " 253 253 254 161  57   4   0   0   0   0   0   0   0   0   0   0   0   0\n",
      "   0   0   0   0   0   0   0   0   0   0   0   0   0   0   0   0   0   0\n",
      "   0   0   0   0   0   0   0   0   0   0   0   0   0   0   0   0   0   0\n",
      "   0   0   0   0   0   0   0   0   0   0   0   0   0   0   0   0   0   0\n",
      "   0   0   0   0   0   0   0   0   0   0   0   0   0   0   0   0   0   0\n",
      "   0   0   0   0   0   0   0   0   0   0]\n",
      "\n",
      "As image:\n",
      "\n"
     ]
    },
    {
     "data": {
      "image/png": "[encoded data removed]",
      "text/plain": [
       "<Figure size 432x288 with 1 Axes>"
      ]
     },
     "metadata": {
      "needs_background": "light"
     },
     "output_type": "display_data"
    }
   ],
   "source": [
    "index = 4\n",
    "print(\"Value of datapoint no. {}:\\n{}\\n\".format(index, mnist_data[index]))\n",
    "print(\"As image:\\n\")\n",
    "\n",
    "# Use the reshape method to reshape the data into a 28x28 array\n",
    "image = mnist_data[index].reshape(28, 28)\n",
    "\n",
    "# Use imshow to display the image\n",
    "plt.imshow(image, cmap=plt.cm.gray_r)\n",
    "plt.show()\n",
    "\n",
    "# It first reshapes the data into a 28x28 array using the `reshape` method,\n",
    "# then uses the `imshow` function to display the image using\n",
    "# the grayscale color map `gray_r`."
   ]
  },
  {
   "cell_type": "markdown",
   "id": "3431c4bf",
   "metadata": {
    "pycharm": {
     "name": "#%% md\n"
    }
   },
   "source": [
    "**(a)** Perform k-means clustering with k=10 on this dataset."
   ]
  },
  {
   "cell_type": "code",
   "execution_count": 78,
   "id": "62fcc696",
   "metadata": {
    "pycharm": {
     "name": "#%%\n"
    }
   },
   "outputs": [
    {
     "data": {
      "text/html": [
       "<style>#sk-container-id-2 {color: black;background-color: white;}#sk-container-id-2 pre{padding: 0;}#sk-container-id-2 div.sk-toggleable {background-color: white;}#sk-container-id-2 label.sk-toggleable__label {cursor: pointer;display: block;width: 100%;margin-bottom: 0;padding: 0.3em;box-sizing: border-box;text-align: center;}#sk-container-id-2 label.sk-toggleable__label-arrow:before {content: \"▸\";float: left;margin-right: 0.25em;color: #696969;}#sk-container-id-2 label.sk-toggleable__label-arrow:hover:before {color: black;}#sk-container-id-2 div.sk-estimator:hover label.sk-toggleable__label-arrow:before {color: black;}#sk-container-id-2 div.sk-toggleable__content {max-height: 0;max-width: 0;overflow: hidden;text-align: left;background-color: #f0f8ff;}#sk-container-id-2 div.sk-toggleable__content pre {margin: 0.2em;color: black;border-radius: 0.25em;background-color: #f0f8ff;}#sk-container-id-2 input.sk-toggleable__control:checked~div.sk-toggleable__content {max-height: 200px;max-width: 100%;overflow: auto;}#sk-container-id-2 input.sk-toggleable__control:checked~label.sk-toggleable__label-arrow:before {content: \"▾\";}#sk-container-id-2 div.sk-estimator input.sk-toggleable__control:checked~label.sk-toggleable__label {background-color: #d4ebff;}#sk-container-id-2 div.sk-label input.sk-toggleable__control:checked~label.sk-toggleable__label {background-color: #d4ebff;}#sk-container-id-2 input.sk-hidden--visually {border: 0;clip: rect(1px 1px 1px 1px);clip: rect(1px, 1px, 1px, 1px);height: 1px;margin: -1px;overflow: hidden;padding: 0;position: absolute;width: 1px;}#sk-container-id-2 div.sk-estimator {font-family: monospace;background-color: #f0f8ff;border: 1px dotted black;border-radius: 0.25em;box-sizing: border-box;margin-bottom: 0.5em;}#sk-container-id-2 div.sk-estimator:hover {background-color: #d4ebff;}#sk-container-id-2 div.sk-parallel-item::after {content: \"\";width: 100%;border-bottom: 1px solid gray;flex-grow: 1;}#sk-container-id-2 div.sk-label:hover label.sk-toggleable__label {background-color: #d4ebff;}#sk-container-id-2 div.sk-serial::before {content: \"\";position: absolute;border-left: 1px solid gray;box-sizing: border-box;top: 0;bottom: 0;left: 50%;z-index: 0;}#sk-container-id-2 div.sk-serial {display: flex;flex-direction: column;align-items: center;background-color: white;padding-right: 0.2em;padding-left: 0.2em;position: relative;}#sk-container-id-2 div.sk-item {position: relative;z-index: 1;}#sk-container-id-2 div.sk-parallel {display: flex;align-items: stretch;justify-content: center;background-color: white;position: relative;}#sk-container-id-2 div.sk-item::before, #sk-container-id-2 div.sk-parallel-item::before {content: \"\";position: absolute;border-left: 1px solid gray;box-sizing: border-box;top: 0;bottom: 0;left: 50%;z-index: -1;}#sk-container-id-2 div.sk-parallel-item {display: flex;flex-direction: column;z-index: 1;position: relative;background-color: white;}#sk-container-id-2 div.sk-parallel-item:first-child::after {align-self: flex-end;width: 50%;}#sk-container-id-2 div.sk-parallel-item:last-child::after {align-self: flex-start;width: 50%;}#sk-container-id-2 div.sk-parallel-item:only-child::after {width: 0;}#sk-container-id-2 div.sk-dashed-wrapped {border: 1px dashed gray;margin: 0 0.4em 0.5em 0.4em;box-sizing: border-box;padding-bottom: 0.4em;background-color: white;}#sk-container-id-2 div.sk-label label {font-family: monospace;font-weight: bold;display: inline-block;line-height: 1.2em;}#sk-container-id-2 div.sk-label-container {text-align: center;}#sk-container-id-2 div.sk-container {/* jupyter's `normalize.less` sets `[hidden] { display: none; }` but bootstrap.min.css set `[hidden] { display: none !important; }` so we also need the `!important` here to be able to override the default hidden behavior on the sphinx rendered scikit-learn.org. See: https://github.com/scikit-learn/scikit-learn/issues/21755 */display: inline-block !important;position: relative;}#sk-container-id-2 div.sk-text-repr-fallback {display: none;}</style><div id=\"sk-container-id-2\" class=\"sk-top-container\"><div class=\"sk-text-repr-fallback\"><pre>KMeans(n_clusters=10)</pre><b>In a Jupyter environment, please rerun this cell to show the HTML representation or trust the notebook. <br />On GitHub, the HTML representation is unable to render, please try loading this page with nbviewer.org.</b></div><div class=\"sk-container\" hidden><div class=\"sk-item\"><div class=\"sk-estimator sk-toggleable\"><input class=\"sk-toggleable__control sk-hidden--visually\" id=\"sk-estimator-id-2\" type=\"checkbox\" checked><label for=\"sk-estimator-id-2\" class=\"sk-toggleable__label sk-toggleable__label-arrow\">KMeans</label><div class=\"sk-toggleable__content\"><pre>KMeans(n_clusters=10)</pre></div></div></div></div></div>"
      ],
      "text/plain": [
       "KMeans(n_clusters=10)"
      ]
     },
     "execution_count": 78,
     "metadata": {},
     "output_type": "execute_result"
    }
   ],
   "source": [
    "# Scale the data from 0 to 1\n",
    "scaled_data = mnist_data/255.0\n",
    "\n",
    "# Create a kmeans model with 10 clusters\n",
    "kmeans = KMeans(n_clusters=10)\n",
    "\n",
    "# Fit the model to the data\n",
    "kmeans.fit(scaled_data)\n",
    "\n",
    "# KMeans class from the sklearn.cluster module uses it to perform \n",
    "# k-means clustering with k=10 on the MNIST dataset.\n",
    "\n",
    "# It first scales the data by dividing each value by 255,\n",
    "# then creates a KMeans model with k=10 and fits the model to the data."
   ]
  },
  {
   "cell_type": "markdown",
   "id": "018e8551",
   "metadata": {
    "pycharm": {
     "name": "#%% md\n"
    }
   },
   "source": [
    "**(b)** Using visualization techniques analogous to what we have done in the Clustering notebook\n",
    "   for the faces data, can you determine the 'nature' of the 10 constructed clusters?\n",
    "   Do the clusters (roughly) coincide with the 10 different actual digits?"
   ]
  },
  {
   "cell_type": "code",
   "execution_count": 79,
   "id": "7876442d",
   "metadata": {
    "pycharm": {
     "name": "#%%\n"
    }
   },
   "outputs": [
    {
     "data": {
      "image/png": "[encoded data removed]",
      "text/plain": [
       "<Figure size 432x288 with 1 Axes>"
      ]
     },
     "metadata": {
      "needs_background": "light"
     },
     "output_type": "display_data"
    },
    {
     "data": {
      "image/png": "[encoded data removed]",
      "text/plain": [
       "<Figure size 432x288 with 1 Axes>"
      ]
     },
     "metadata": {
      "needs_background": "light"
     },
     "output_type": "display_data"
    },
    {
     "data": {
      "image/png": "[encoded data removed]",
      "text/plain": [
       "<Figure size 432x288 with 1 Axes>"
      ]
     },
     "metadata": {
      "needs_background": "light"
     },
     "output_type": "display_data"
    },
    {
     "data": {
      "image/png": "[encoded data removed]",
      "text/plain": [
       "<Figure size 432x288 with 1 Axes>"
      ]
     },
     "metadata": {
      "needs_background": "light"
     },
     "output_type": "display_data"
    },
    {
     "data": {
      "image/png": "[encoded data removed]",
      "text/plain": [
       "<Figure size 432x288 with 1 Axes>"
      ]
     },
     "metadata": {
      "needs_background": "light"
     },
     "output_type": "display_data"
    },
    {
     "data": {
      "image/png": "[encoded data removed]",
      "text/plain": [
       "<Figure size 432x288 with 1 Axes>"
      ]
     },
     "metadata": {
      "needs_background": "light"
     },
     "output_type": "display_data"
    },
    {
     "data": {
      "image/png": "[encoded data removed]",
      "text/plain": [
       "<Figure size 432x288 with 1 Axes>"
      ]
     },
     "metadata": {
      "needs_background": "light"
     },
     "output_type": "display_data"
    },
    {
     "data": {
      "image/png": "[encoded data removed]",
      "text/plain": [
       "<Figure size 432x288 with 1 Axes>"
      ]
     },
     "metadata": {
      "needs_background": "light"
     },
     "output_type": "display_data"
    },
    {
     "data": {
      "image/png": "[encoded data removed]",
      "text/plain": [
       "<Figure size 432x288 with 1 Axes>"
      ]
     },
     "metadata": {
      "needs_background": "light"
     },
     "output_type": "display_data"
    },
    {
     "data": {
      "image/png": "[encoded data removed]",
      "text/plain": [
       "<Figure size 432x288 with 1 Axes>"
      ]
     },
     "metadata": {
      "needs_background": "light"
     },
     "output_type": "display_data"
    }
   ],
   "source": [
    "# Loop through the 10 clusters\n",
    "for i in range(10):\n",
    "  # Get the cluster center\n",
    "  center = kmeans.cluster_centers_[i]\n",
    "\n",
    "  # Reshape the cluster center into a 28x28 array\n",
    "  image = center.reshape(28, 28)\n",
    "\n",
    "  # Use imshow to display the image\n",
    "  plt.imshow(image, cmap=plt.cm.gray)\n",
    "  plt.tight_layout()\n",
    "  plt.show()\n",
    "    \n",
    "# It loops through each cluster,\n",
    "# gets the cluster center,\n",
    "# reshapes it into a 28x28 array, \n",
    "# and displays the image using the `imshow` function with \n",
    "# the grayscale color map `gray`. \n",
    "\n",
    "# This allows us to visualize the \"nature\" of the 10 constructed \n",
    "# clusters and determine whether they roughly coincide with \n",
    "# the 10 different actual digits."
   ]
  },
  {
   "cell_type": "markdown",
   "id": "78ff73af",
   "metadata": {
    "pycharm": {
     "name": "#%% md\n"
    }
   },
   "source": [
    "**(c)** Perform a supervised clustering evaluation using adjusted rand index.\n",
    "   Are the results stable, when you perform several random restarts of k-means?"
   ]
  },
  {
   "cell_type": "code",
   "execution_count": 82,
   "id": "1438bc5e",
   "metadata": {
    "pycharm": {
     "name": "#%%\n"
    }
   },
   "outputs": [
    {
     "name": "stdout",
     "output_type": "stream",
     "text": [
      "ARI of random restarts: 0.24\n",
      "ARI of random restarts: 0.27\n",
      "ARI of random restarts: 0.26\n",
      "ARI of random restarts: 0.27\n",
      "ARI of random restarts: 0.26\n",
      "ARI of random restarts: 0.22\n",
      "ARI of random restarts: 0.23\n",
      "ARI of random restarts: 0.28\n",
      "ARI of random restarts: 0.23\n",
      "ARI of random restarts: 0.23\n"
     ]
    }
   ],
   "source": [
    "# Resample the data to include 500 samples\n",
    "small_mnist_data, small_mnist_label = resample(mnist_data, mnist_label, n_samples=500, replace=False)\n",
    "\n",
    "# Standardize the data\n",
    "scaler = StandardScaler()\n",
    "scaler.fit(small_mnist_data)\n",
    "X_scaled = scaler.transform(small_mnist_data)\n",
    "\n",
    "# Create a kmeans model with 10 clusters\n",
    "kmeans = KMeans(n_clusters=10)\n",
    "\n",
    "# Perform 10 random restarts of kmeans and calculate the ARI for each\n",
    "for i in range(10):\n",
    "  # Fit the model to the scaled data and predict the labels\n",
    "  labels = kmeans.fit_predict(X_scaled)\n",
    "\n",
    "  # Calculate the adjusted rand index\n",
    "\n",
    "  # This allows us to determine whether the results of the clustering \n",
    "  # are stable when performing multiple random restarts of k-means.\n",
    "  ari = adjusted_rand_score(labels, small_mnist_label)\n",
    "  print(\"ARI of random restarts: {:.2f}\".format(ari))"
   ]
  },
  {
   "cell_type": "code",
   "execution_count": 81,
   "id": "1a4c7bf9",
   "metadata": {
    "pycharm": {
     "name": "#%%\n"
    }
   },
   "outputs": [],
   "source": [
    "# The clusterings generated by the k-means algorithm \n",
    "# are only moderately similar to the original labels. => Moderately stable\n",
    "\n",
    "# This suggests that the k-means algorithm is not performing well \n",
    "# on this dataset."
   ]
  },
  {
   "cell_type": "markdown",
   "id": "19ac7755",
   "metadata": {
    "pycharm": {
     "name": "#%% md\n"
    }
   },
   "source": [
    "**(d)** Now perform hierarchical clustering on the data.\n",
    "   (in order to improve visibility in the constructed dendrograms, you can also use a\n",
    "   much reduced dataset as constructed using sklearn.utils.resample shown below).\n",
    "   Does the visual analysis of the dendrogram indicate a natural number of clusters?"
   ]
  },
  {
   "cell_type": "code",
   "execution_count": 89,
   "id": "5a8020b0",
   "metadata": {
    "pycharm": {
     "name": "#%%\n"
    }
   },
   "outputs": [],
   "source": [
    "# Define a function to plot a dendrogram\n",
    "def plot_dendrogram(model, **kwargs):\n",
    "    # Create linkage matrix and then plot the dendrogram\n",
    "\n",
    "    # Create the counts of samples under each node\n",
    "    counts = np.zeros(model.children_.shape[0])\n",
    "    n_samples = len(model.labels_)\n",
    "    for i, merge in enumerate(model.children_):\n",
    "        current_count = 0\n",
    "        for child_idx in merge:\n",
    "            if child_idx < n_samples:\n",
    "                current_count += 1  # leaf node\n",
    "            else:\n",
    "                current_count += counts[child_idx - n_samples]\n",
    "        counts[i] = current_count\n",
    "\n",
    "    linkage_matrix = np.column_stack(\n",
    "        [model.children_, model.distances_, counts]\n",
    "    ).astype(float)\n",
    "\n",
    "    # Plot the corresponding dendrogram\n",
    "    dendrogram(linkage_matrix, **kwargs)"
   ]
  },
  {
   "cell_type": "code",
   "execution_count": 90,
   "id": "d82c93a1",
   "metadata": {
    "pycharm": {
     "name": "#%%\n"
    }
   },
   "outputs": [
    {
     "data": {
      "image/png": "[encoded data removed]",
      "text/plain": [
       "<Figure size 720x720 with 1 Axes>"
      ]
     },
     "metadata": {
      "needs_background": "light"
     },
     "output_type": "display_data"
    }
   ],
   "source": [
    "# Resample the data to include 500 samples\n",
    "small_mnist_data, small_mnist_label = resample(mnist_data, mnist_label, n_samples=500, replace=False, random_state=69)\n",
    "\n",
    "# Standardize the data\n",
    "scaler = StandardScaler()\n",
    "scaler.fit(small_mnist_data)\n",
    "X_scaled = scaler.transform(small_mnist_data)\n",
    "\n",
    "# Perform hierarchical clustering with 10 clusters\n",
    "model = AgglomerativeClustering(n_clusters=10, compute_distances=True)\n",
    "model.fit(X_scaled)\n",
    "\n",
    "# Plot the dendrogram\n",
    "plt.figure(figsize=(10, 10))\n",
    "plot_dendrogram(model, labels=model.labels_)\n",
    "plt.show()"
   ]
  },
  {
   "cell_type": "markdown",
   "id": "35fe99fd",
   "metadata": {
    "pycharm": {
     "name": "#%% md\n"
    }
   },
   "source": [
    "**(e)** Using different cluster distance metrics (ward,single,average, etc.),\n",
    "   what do the clusterings look like that are produced at the level of k=10 clusters?\n",
    "   See the Clustering notebook for the needed Python code, including the fcluster\n",
    "   method to retrieve 'plain' clusterings from the hierarchical clustering."
   ]
  },
  {
   "cell_type": "markdown",
   "id": "ec2d3368",
   "metadata": {
    "pycharm": {
     "name": "#%% md\n"
    }
   },
   "source": [
    "**Ward's method minimizes the sum of squared differences within all clusters, while maximum or complete linkage minimizes the maximum distance between observations of pairs of clusters. Average linkage minimizes the average distance between all pairs of observations in different clusters, and single linkage minimizes the distance between the closest observations in pairs of clusters. These different distance metrics can produce very different clusterings, as they capture different aspects of the underlying structure of the data.**"
   ]
  },
  {
   "cell_type": "code",
   "execution_count": 95,
   "id": "88c1f900",
   "metadata": {
    "pycharm": {
     "name": "#%%\n"
    }
   },
   "outputs": [
    {
     "data": {
      "image/png": "[encoded data removed]",
      "text/plain": [
       "<Figure size 432x288 with 1 Axes>"
      ]
     },
     "metadata": {
      "needs_background": "light"
     },
     "output_type": "display_data"
    }
   ],
   "source": [
    "# Load the MNIST data\n",
    "mnist = load_digits()\n",
    "\n",
    "# Sample 200 random data points from the MNIST data\n",
    "small_mnist_data, small_mnist_labels = resample(\n",
    "    mnist.data,\n",
    "    mnist.target,\n",
    "    n_samples=200,\n",
    "    replace=False\n",
    ")\n",
    "\n",
    "# Create an AgglomerativeClustering object with n_clusters=10 and linkage='ward'\n",
    "agglomerative = AgglomerativeClustering(\n",
    "    n_clusters=10,\n",
    "    linkage='ward',\n",
    "    compute_distances=True\n",
    ")\n",
    "\n",
    "# Fit the model to the data and generate a dendrogram\n",
    "agg = agglomerative.fit(small_mnist_data)\n",
    "plt.title(\"Hierarchical Clustering Dendrogram (linkage = 'ward')\")\n",
    "plot_dendrogram(agg)"
   ]
  },
  {
   "cell_type": "code",
   "execution_count": 96,
   "id": "73000c04",
   "metadata": {
    "pycharm": {
     "name": "#%%\n"
    }
   },
   "outputs": [
    {
     "data": {
      "image/png": "[encoded data removed]",
      "text/plain": [
       "<Figure size 432x288 with 1 Axes>"
      ]
     },
     "metadata": {
      "needs_background": "light"
     },
     "output_type": "display_data"
    }
   ],
   "source": [
    "# Repeat the process with linkage='single'\n",
    "agglomerative = AgglomerativeClustering(\n",
    "    n_clusters=10,\n",
    "    linkage='single',\n",
    "    compute_distances=True\n",
    ")\n",
    "agglomerative.fit(small_mnist_data)\n",
    "plt.title(\"Hierarchical Clustering Dendrogram (linkage = 'single')\")\n",
    "plot_dendrogram(agg)"
   ]
  },
  {
   "cell_type": "code",
   "execution_count": 97,
   "id": "d85002b5",
   "metadata": {
    "pycharm": {
     "name": "#%%\n"
    }
   },
   "outputs": [
    {
     "data": {
      "image/png": "[encoded data removed]",
      "text/plain": [
       "<Figure size 432x288 with 1 Axes>"
      ]
     },
     "metadata": {
      "needs_background": "light"
     },
     "output_type": "display_data"
    }
   ],
   "source": [
    "# Repeat the process with linkage='average'\n",
    "agglomerative = AgglomerativeClustering(\n",
    "    n_clusters=10,\n",
    "    linkage='average',\n",
    "    compute_distances=True\n",
    ")\n",
    "agglomerative.fit(small_mnist_data)\n",
    "plt.title(\"Hierarchical Clustering Dendrogram (linkage = 'average')\")\n",
    "plot_dendrogram(agg)"
   ]
  },
  {
   "cell_type": "markdown",
   "id": "6d6b0f02",
   "metadata": {
    "pycharm": {
     "name": "#%% md\n"
    }
   },
   "source": [
    "**(f)** Do a DBSCAN clustering of the small dataset. Tweak the different parameters."
   ]
  },
  {
   "cell_type": "code",
   "execution_count": 135,
   "id": "928ae438",
   "metadata": {
    "pycharm": {
     "name": "#%%\n"
    }
   },
   "outputs": [],
   "source": [
    "mnist = scipy.io.loadmat('3 Clustering of Handwritten Digits/mnist-original')\n",
    "mnist_data = mnist[\"data\"].T\n",
    "mnist_labels = mnist[\"label\"][0]"
   ]
  },
  {
   "cell_type": "code",
   "execution_count": 136,
   "id": "31d6bffe",
   "metadata": {
    "pycharm": {
     "name": "#%%\n"
    }
   },
   "outputs": [],
   "source": [
    "# Sample 200 random data points from the MNIST data\n",
    "small_mnist_data, small_mnist_labels = resample(\n",
    "    mnist_data,\n",
    "    mnist_labels,\n",
    "    n_samples=200,\n",
    "    replace=False,\n",
    "    random_state=69\n",
    ")\n",
    "\n",
    "data_scaled = small_mnist_data/255.0"
   ]
  },
  {
   "cell_type": "code",
   "execution_count": 137,
   "id": "d5fb5c27",
   "metadata": {
    "pycharm": {
     "name": "#%%\n"
    }
   },
   "outputs": [
    {
     "name": "stdout",
     "output_type": "stream",
     "text": [
      "eps value: 1\n",
      "Clusters present: [-1]\n",
      "Cluster sizes:, 200\n",
      "eps value: 2\n",
      "Clusters present: [-1]\n",
      "Cluster sizes:, 200\n",
      "eps value: 3\n",
      "Clusters present: [-1]\n",
      "Cluster sizes:, 200\n",
      "eps value: 4\n",
      "Clusters present: [-1]\n",
      "Cluster sizes:, 200\n",
      "eps value: 5\n",
      "Clusters present: [-1]\n",
      "Cluster sizes:, 200\n",
      "eps value: 6\n",
      "Clusters present: [-1  0]\n",
      "Cluster sizes:, 189, 11\n",
      "eps value: 7\n",
      "Clusters present: [-1  0  1]\n",
      "Cluster sizes:, 140, 50, 10\n",
      "eps value: 8\n",
      "Clusters present: [-1  0]\n",
      "Cluster sizes:, 58, 142\n",
      "eps value: 9\n",
      "Clusters present: [-1  0]\n",
      "Cluster sizes:, 6, 194\n",
      "eps value: 10\n",
      "Clusters present: [-1  0]\n",
      "Cluster sizes:, 1, 199\n",
      "eps value: 11\n",
      "Clusters present: [0]\n",
      "Cluster sizes:, 0, 200\n",
      "eps value: 12\n",
      "Clusters present: [0]\n",
      "Cluster sizes:, 0, 200\n",
      "eps value: 13\n",
      "Clusters present: [0]\n",
      "Cluster sizes:, 0, 200\n",
      "eps value: 14\n",
      "Clusters present: [0]\n",
      "Cluster sizes:, 0, 200\n"
     ]
    }
   ],
   "source": [
    "for eps in range(1,15):\n",
    "    # Create an instance of the DBSCAN class with the desired parameters\n",
    "    dbscan = DBSCAN(eps=eps, min_samples=10)\n",
    "\n",
    "    # Fit the DBSCAN model to the data and predict the clusters for each data point\n",
    "    labels = dbscan.fit_predict(data_scaled)\n",
    "\n",
    "    # Print the results\n",
    "    print(\"\\n\".join([\"eps value: \" + str(eps), \"Clusters present: \" + str(np.unique(labels))]))\n",
    "    print(\", \".join([\"Cluster sizes:\"] + [str(x) for x in np.bincount(labels + 1)]))"
   ]
  },
  {
   "cell_type": "markdown",
   "id": "2d80c3b8",
   "metadata": {
    "pycharm": {
     "name": "#%% md\n"
    }
   },
   "source": [
    "**The eps parameter controls the maximum distance between two points in the same cluster, so a smaller eps value will result in fewer points being included in each cluster. This can be seen in the output, where the number of clusters and the sizes of the clusters change as the eps value is varied.**"
   ]
  },
  {
   "cell_type": "markdown",
   "id": "cfdddfa6",
   "metadata": {
    "pycharm": {
     "name": "#%% md\n"
    }
   },
   "source": [
    "**(g)** Try to compare the different clustering methods on the MNIST dataset in the same way\n",
    "   the book does on the faces dataset on pp. 195-206."
   ]
  },
  {
   "cell_type": "code",
   "execution_count": 138,
   "id": "a51c1a22",
   "metadata": {
    "pycharm": {
     "name": "#%%\n"
    }
   },
   "outputs": [],
   "source": [
    "# Sample 200 random data points from the MNIST data\n",
    "small_mnist_data, small_mnist_labels = resample(\n",
    "    mnist_data,\n",
    "    mnist_labels,\n",
    "    n_samples=200,\n",
    "    replace=False,\n",
    "    random_state=69\n",
    ")\n",
    "\n",
    "X_scaled = small_mnist_data/255.0"
   ]
  },
  {
   "cell_type": "code",
   "execution_count": 139,
   "id": "10106bb2",
   "metadata": {
    "pycharm": {
     "name": "#%%\n"
    }
   },
   "outputs": [],
   "source": [
    "# Create a kmeans model with 10 clusters\n",
    "kmeans = KMeans(n_clusters=10)\n",
    "\n",
    "# Perform 10 random restarts of kmeans and calculate the ARI for each\n",
    "for i in range(10):\n",
    "  # Fit the model to the scaled data and predict the labels\n",
    "  kmeans_labels = kmeans.fit_predict(X_scaled)"
   ]
  },
  {
   "cell_type": "code",
   "execution_count": 140,
   "id": "b1deb326",
   "metadata": {
    "pycharm": {
     "name": "#%%\n"
    }
   },
   "outputs": [
    {
     "name": "stdout",
     "output_type": "stream",
     "text": [
      "eps value: 1\n",
      "Clusters present: [-1]\n",
      "Cluster sizes:, 200\n",
      "ARI K-Means vs DBSCAN: 0.00\n",
      "eps value: 2\n",
      "Clusters present: [-1  0]\n",
      "Cluster sizes:, 198, 2\n",
      "ARI K-Means vs DBSCAN: -0.00\n",
      "eps value: 3\n",
      "Clusters present: [-1  0  1]\n",
      "Cluster sizes:, 195, 3, 2\n",
      "ARI K-Means vs DBSCAN: -0.01\n",
      "eps value: 4\n",
      "Clusters present: [-1  0  1  2]\n",
      "Cluster sizes:, 188, 2, 2, 8\n",
      "ARI K-Means vs DBSCAN: -0.01\n",
      "eps value: 5\n",
      "Clusters present: [-1  0  1  2  3  4  5  6]\n",
      "Cluster sizes:, 173, 7, 2, 2, 10, 2, 2, 2\n",
      "ARI K-Means vs DBSCAN: -0.01\n",
      "eps value: 6\n",
      "Clusters present: [-1  0  1  2  3  4  5  6  7  8  9 10 11 12 13]\n",
      "Cluster sizes:, 134, 22, 8, 3, 2, 3, 2, 2, 10, 2, 2, 2, 3, 3, 2\n",
      "ARI K-Means vs DBSCAN: 0.00\n",
      "eps value: 7\n",
      "Clusters present: [-1  0  1  2  3  4  5  6  7  8  9 10 11]\n",
      "Cluster sizes:, 74, 97, 3, 2, 4, 3, 3, 4, 2, 2, 2, 2, 2\n",
      "ARI K-Means vs DBSCAN: 0.08\n",
      "eps value: 8\n",
      "Clusters present: [-1  0  1]\n",
      "Cluster sizes:, 24, 174, 2\n",
      "ARI K-Means vs DBSCAN: 0.02\n",
      "eps value: 9\n",
      "Clusters present: [-1  0  1]\n",
      "Cluster sizes:, 3, 195, 2\n",
      "ARI K-Means vs DBSCAN: 0.00\n",
      "eps value: 10\n",
      "Clusters present: [0]\n",
      "Cluster sizes:, 0, 200\n",
      "ARI K-Means vs DBSCAN: 0.00\n"
     ]
    }
   ],
   "source": [
    "# Set a range of eps values to try\n",
    "eps_range = [1, 2, 3, 4, 5, 6, 7, 8, 9, 10]\n",
    "\n",
    "# Loop over the eps values\n",
    "for eps in eps_range:\n",
    "    # Create the DBSCAN model with the current eps value\n",
    "    dbscan = DBSCAN(eps=eps, min_samples=2)\n",
    "    \n",
    "    # Fit the model to the data and predict the clusters for each data point\n",
    "    dblabels = dbscan.fit_predict(X_scaled)\n",
    "\n",
    "    # Print the results\n",
    "    print(\"\\n\".join([\"eps value: \" + str(eps), \"Clusters present: \" + str(np.unique(dblabels))]))\n",
    "    print(\", \".join([\"Cluster sizes:\"] + [str(x) for x in np.bincount(dblabels + 1)]))\n",
    "    \n",
    "    # Calculate and print the ARI score for the current value of eps\n",
    "    print(\"ARI K-Means vs DBSCAN: {:.2f}\".format(adjusted_rand_score(kmeans_labels,dblabels)))"
   ]
  },
  {
   "cell_type": "code",
   "execution_count": 149,
   "id": "0454d36a",
   "metadata": {
    "pycharm": {
     "name": "#%%\n"
    }
   },
   "outputs": [
    {
     "data": {
      "image/png": "[encoded data removed]",
      "text/plain": [
       "<Figure size 432x288 with 1 Axes>"
      ]
     },
     "metadata": {
      "needs_background": "light"
     },
     "output_type": "display_data"
    }
   ],
   "source": [
    "# Create an AgglomerativeClustering object with n_clusters=10\n",
    "agglomerative = AgglomerativeClustering(\n",
    "    n_clusters=10,\n",
    "    compute_distances=True\n",
    ")\n",
    "\n",
    "# Fit the model to the data\n",
    "agg_labels = agglomerative.fit(X_scaled)\n",
    "plot_dendrogram(agg)"
   ]
  },
  {
   "cell_type": "code",
   "execution_count": 162,
   "id": "f31ae092",
   "metadata": {
    "pycharm": {
     "name": "#%%\n"
    }
   },
   "outputs": [
    {
     "name": "stdout",
     "output_type": "stream",
     "text": [
      "ARI K-Means vs Agglomerative: 0.38\n",
      "ARI K-Means vs DBSCAN: 0.00\n",
      "ARI Agglomerative vs DBSCAN: 0.00\n"
     ]
    }
   ],
   "source": [
    "# Define the different label lists\n",
    "label_lists = [    \n",
    "    {\"K-Means\": kmeans_labels},     \n",
    "    {\"Agglomerative\": agg_labels.labels_},     \n",
    "    {\"DBSCAN\": dblabels}\n",
    "]\n",
    "\n",
    "# Loop through the label lists and compute the ARI score with each other list\n",
    "for i, labels1 in enumerate(label_lists):\n",
    "    for labels2 in label_lists[i+1:]:\n",
    "        score = adjusted_rand_score(list(labels1.values())[0], list(labels2.values())[0])\n",
    "        print(\"ARI {} vs {}: {:.2f}\".format(list(labels1.keys())[0], list(labels2.keys())[0], score))"
   ]
  },
  {
   "cell_type": "markdown",
   "id": "d5a92537",
   "metadata": {
    "pycharm": {
     "name": "#%% md\n"
    }
   },
   "source": [
    "**The scores indicate that the K-Means and Agglomerative clustering algorithms produced clusterings that are 38% similar, while the K-Means and DBSCAN clusterings and the Agglomerative and DBSCAN clusterings are 0% similar. This suggests that the clusterings produced by the different algorithms are quite different from each other.**"
   ]
  },
  {
   "cell_type": "code",
   "execution_count": 153,
   "id": "defe99a2",
   "metadata": {
    "pycharm": {
     "name": "#%%\n"
    }
   },
   "outputs": [
    {
     "name": "stdout",
     "output_type": "stream",
     "text": [
      "ARI small_mnist_labels vs kmeans_labels: 0.25\n"
     ]
    }
   ],
   "source": [
    "# Calculate and print the ARI score for small_mnist_labels vs kmeans_labels\n",
    "score = adjusted_rand_score(small_mnist_labels, kmeans_labels)\n",
    "print(\"ARI small_mnist_labels vs kmeans_labels: {:.2f}\".format(score))"
   ]
  },
  {
   "cell_type": "code",
   "execution_count": 154,
   "id": "80368dc5",
   "metadata": {
    "pycharm": {
     "name": "#%%\n"
    }
   },
   "outputs": [
    {
     "name": "stdout",
     "output_type": "stream",
     "text": [
      "ARI small_mnist_labels vs agg_labels: 0.31\n"
     ]
    }
   ],
   "source": [
    "# Calculate and print the ARI score for small_mnist_labels vs agg_labels\n",
    "score = adjusted_rand_score(small_mnist_labels, agg_labels.labels_)\n",
    "print(\"ARI small_mnist_labels vs agg_labels: {:.2f}\".format(score))"
   ]
  },
  {
   "cell_type": "code",
   "execution_count": 155,
   "id": "ce01a3ef",
   "metadata": {
    "pycharm": {
     "name": "#%%\n"
    }
   },
   "outputs": [
    {
     "name": "stdout",
     "output_type": "stream",
     "text": [
      "ARI small_mnist_labels vs dblabels: 0.00\n"
     ]
    }
   ],
   "source": [
    "# Calculate and print the ARI score for small_mnist_labels vs dblabels\n",
    "score = adjusted_rand_score(small_mnist_labels, dblabels)\n",
    "print(\"ARI small_mnist_labels vs dblabels: {:.2f}\".format(score))"
   ]
  },
  {
   "cell_type": "markdown",
   "id": "82c4e161",
   "metadata": {
    "pycharm": {
     "name": "#%% md\n"
    }
   },
   "source": [
    "## 4. The Local Elections (João)\n",
    "\n",
    "__You should be able to do this exercise after Lecture 6.__\n",
    "\n",
    "In the local elections of 2021, around 100 candidates stood for election for the city council of Horsens. 83 of them represented a national party, had more than one candidate and provided answers to the <a href=\"https://www.dr.dk/nyheder/politik/kandidattest\">DR Candidate Test</a>, a test designed to help voters find out who they should vote for. In this test, the candidates answered 18 questions, which we will use as features in the following. The politicians belong to 9 parties, which will be our classes.\n",
    "\n",
    "The numpy files `X_Horsens.npy` and `Y_Horsens.npy` contains the data. `Y_Horsens.npy` contains a letter representing the party to which each candidate belongs. The following parties are represented:\n",
    "\n",
    "| Party letter | Party name | Party name (English) | Political position | Party color |\n",
    "| :-: | :-: | :-: | :-: | :-: |\n",
    "| A | Socialdemokratiet | Social Democrats | Centre-left | Red |\n",
    "| B | Radikale Venstre | Social Liberal Party | Centre-left | Indigo |\n",
    "| C | Det Konservative Folkeparti | Conservative People's Party | Right-wing | Green |\n",
    "| D | Nye Borgerlige | New Right | Far-right | Black |\n",
    "| F | Socialistisk Folkeparti | Socialist People's Party | Left-wing | Fuchsia |\n",
    "| I | Liberal Alliance | Liberal Alliance | Right-wing | Cyan |\n",
    "| O | Dansk Folkeparti | Danish People's Party | Far-right | Yellow |\n",
    "| V | Venstre | Danish Liberal Party | Centre-right | Blue |\n",
    "| Z* | Enhedslisten | Red-Green Alliance | Far-left | Dark red |\n",
    "\n",
    "*_Note that, although the party letter of Enhedslisten is actually Ø, we will here use Z to avoid any complications with the wonderful Danish letters Æ, Ø and Å. Feel free to change the Z back to an Ø if you find that it does not cause any problems._\n",
    "\n",
    "Meanwhile, `X_Horsens.npy` contains the answers to the test as numbers between -1.5 and 1.5, such that -1.5 is \"Strongly disagree\", -0.5 is \"Disagree\", 0.5 is \"Agree\" and 1.5 is \"Strongly agree\". The 18 questions concern, in order, subdivision, schools, windmills, building permits, tall buildings, housing, child care, culture, nursing homes, taxes, sports, refugees, nursing homes (again), public transportation, meat-free days, welfare, privatization, and religious minorities.\n",
    "\n",
    "Both files can be imported using `numpy.load`."
   ]
  },
  {
   "cell_type": "markdown",
   "id": "086ef9ac",
   "metadata": {
    "pycharm": {
     "name": "#%% md\n"
    }
   },
   "source": [
    "__(a)__ How well do you (intuitively) expect that we can predict the partisan affiliation of a candidate based on their answers to the test?\n",
    "\n",
    "I reckon we would be able to predict at least 50% of the partisan affiliation since we should give some margin for error and some people do not necessarily vote for the party that 100% reelects their point of view for reasons like trust, family and other factors."
   ]
  },
  {
   "cell_type": "markdown",
   "id": "853f9c96",
   "metadata": {
    "pycharm": {
     "name": "#%% md\n"
    }
   },
   "source": [
    "__(b)__ Based on the answers from all 83 candidates for the Horsens city council, perform a Principal Component Analysis with 2 principal components. Plot the results in a figure using these 2 components as the axes. Label the points with the party letter and the appropriate color."
   ]
  },
  {
   "cell_type": "code",
   "execution_count": 33,
   "id": "db3eaf7c",
   "metadata": {
    "pycharm": {
     "name": "#%%\n"
    }
   },
   "outputs": [
    {
     "data": {
      "text/plain": [
       "<matplotlib.legend.Legend at 0x258d0651fc0>"
      ]
     },
     "execution_count": 33,
     "metadata": {},
     "output_type": "execute_result"
    },
    {
     "data": {
      "image/png": "[encoded data removed]",
      "text/plain": [
       "<Figure size 640x480 with 1 Axes>"
      ]
     },
     "metadata": {},
     "output_type": "display_data"
    }
   ],
   "source": [
    "data = np.load(\"4 The Local Elections/X_Horsens.npy\")\n",
    "labels = np.load(\"4 The Local Elections/Y_Horsens.npy\")\n",
    "\n",
    "pca = PCA(n_components=2)\n",
    "principalComponents = pca.fit_transform(data)\n",
    "principalDf = pd.DataFrame(data = principalComponents\n",
    "             , columns = ['PC1', 'PC2'])\n",
    "\n",
    "mglearn.discrete_scatter(principalDf.PC1, principalDf.PC2, labels)\n",
    "plt.legend()"
   ]
  },
  {
   "cell_type": "markdown",
   "id": "7a77aabf",
   "metadata": {
    "pycharm": {
     "name": "#%% md\n"
    }
   },
   "source": [
    "__(c)__ Comment on the results. You may consider the following questions for inspiration: Can the political parties be separated? Can the typical distinction of \"left-wing\" and \"right-wing\" be discerned? Which of the 18 questions (features) are most important?\n",
    "\n",
    "You can clearly see where the left and the right wing are based on how they answer the questions, if you look at the graph above you can see that the right wing parties are on the left and the left wing parties are on the right."
   ]
  },
  {
   "cell_type": "markdown",
   "id": "24993671",
   "metadata": {
    "pycharm": {
     "name": "#%% md\n"
    }
   },
   "source": [
    "The number of candidates (83) is on the (very) low side when we want to do machine learning. Luckily, the neighbouring city of Databorg had no less than 8,300 candidates standing for election, with a political environment similar to that of Horsens. In the following, we will use the data from Databorg. These are stored in the numpy files `X_Databorg.npy` and `Y_Databorg.npy` in same format as the Horsens data.\n",
    "\n",
    "__(d)__ Once again, perform a Principal Component Analysis and visualize the results. Compare the results to those of the Horsens data."
   ]
  },
  {
   "cell_type": "code",
   "execution_count": 34,
   "id": "50aba6f5",
   "metadata": {
    "pycharm": {
     "name": "#%%\n"
    }
   },
   "outputs": [
    {
     "data": {
      "text/plain": [
       "<matplotlib.legend.Legend at 0x258d06503d0>"
      ]
     },
     "execution_count": 34,
     "metadata": {},
     "output_type": "execute_result"
    },
    {
     "data": {
      "image/png": "[encoded data removed]",
      "text/plain": [
       "<Figure size 640x480 with 1 Axes>"
      ]
     },
     "metadata": {},
     "output_type": "display_data"
    }
   ],
   "source": [
    "data = np.load(\"4 The Local Elections/X_Databorg.npy\")\n",
    "labels = np.load(\"4 The Local Elections/Y_Databorg.npy\")\n",
    "\n",
    "pca = PCA(n_components=2)\n",
    "principalComponents = pca.fit_transform(data)\n",
    "principalDf = pd.DataFrame(data = principalComponents\n",
    "             , columns = ['PC1', 'PC2'])\n",
    "\n",
    "mglearn.discrete_scatter(principalDf.PC1, principalDf.PC2, labels)\n",
    "plt.legend()"
   ]
  },
  {
   "cell_type": "markdown",
   "id": "db2860cb",
   "metadata": {
    "pycharm": {
     "name": "#%% md\n"
    }
   },
   "source": [
    "Confident that we can predict the partisan affiliation of a politician reasonably well based on their answers to the test, we want to build a model that will allow us to distinguish between the 9 political parties. For this purpose, we split the data into a training and a validation set.\n",
    "\n",
    "__(e)__ Split the data into a training and a validation set, with appropriate fractions."
   ]
  },
  {
   "cell_type": "code",
   "execution_count": 35,
   "id": "34d60a3f",
   "metadata": {
    "pycharm": {
     "name": "#%%\n"
    }
   },
   "outputs": [],
   "source": [
    "data = np.load(\"4 The Local Elections/X_Databorg.npy\")\n",
    "labels = np.load(\"4 The Local Elections/Y_Databorg.npy\")\n",
    "\n",
    "data_train, data_test, labels_train, labels_test = train_test_split(data, labels, test_size=0.20, random_state=69)"
   ]
  },
  {
   "cell_type": "markdown",
   "id": "5fef013b",
   "metadata": {
    "pycharm": {
     "name": "#%% md\n"
    }
   },
   "source": [
    "First, we assume that a Naive Bayes approach is sufficient for our purposes.\n",
    "\n",
    "__(f)__ Comment on the basic assumption of the Naive Bayes approach. Is this a reasonable assumption for the problem at hand?\n",
    "\n",
    "The basic assumption of the Naive Bayes approach is that all the features in the data are independent of each other. This means that the presence or absence of a particular feature in the data does not affect the presence or absence of any other feature. This assumption is often unrealistic in real-world data, but the Naive Bayes approach can still produce good results in many cases. It is called \"naive\" because it makes such a strong and simplifying assumption about the data."
   ]
  },
  {
   "cell_type": "markdown",
   "id": "4ec1a82c",
   "metadata": {
    "pycharm": {
     "name": "#%% md\n"
    }
   },
   "source": [
    "__(g)__ Classify the instances of the validation set using a Naive Bayes approach. Comment on the results."
   ]
  },
  {
   "cell_type": "code",
   "execution_count": 38,
   "id": "b77a4cb8",
   "metadata": {
    "pycharm": {
     "name": "#%%\n"
    }
   },
   "outputs": [
    {
     "name": "stdout",
     "output_type": "stream",
     "text": [
      "Accuracy: 0.7072289156626506\n"
     ]
    }
   ],
   "source": [
    "gnb = GaussianNB()\n",
    "\n",
    "gnb.fit(data_train, labels_train)\n",
    "results = gnb.predict(data_test)\n",
    "print(\"Accuracy:\", metrics.accuracy_score(labels_test, results))"
   ]
  },
  {
   "cell_type": "markdown",
   "id": "6ad85ea4",
   "metadata": {
    "pycharm": {
     "name": "#%% md\n"
    }
   },
   "source": [
    "Assume instead that a _k_-nearest neighbour approach is sufficient for our  needs.\n",
    "\n",
    "__(h)__ Using default settings of the _k_-NN classifier, classify the instances of the validation set. Comment on the performance."
   ]
  },
  {
   "cell_type": "code",
   "execution_count": 37,
   "id": "94ae7ab2",
   "metadata": {
    "pycharm": {
     "name": "#%%\n"
    }
   },
   "outputs": [
    {
     "name": "stdout",
     "output_type": "stream",
     "text": [
      "Accuracy: 0.8072289156626506\n"
     ]
    }
   ],
   "source": [
    "knn = KNeighborsClassifier()\n",
    "\n",
    "knn.fit(data_train, labels_train)\n",
    "results = knn.predict(data_test)\n",
    "print(\"Accuracy:\", metrics.accuracy_score(labels_test, results))"
   ]
  },
  {
   "cell_type": "markdown",
   "id": "47e07c3e",
   "metadata": {
    "pycharm": {
     "name": "#%% md\n"
    }
   },
   "source": [
    "__(i)__ Play around with different values of _k_. Decide on a \"good\" value of _k_. Comment on the results."
   ]
  },
  {
   "cell_type": "code",
   "execution_count": 40,
   "id": "9a5dfb1e",
   "metadata": {
    "pycharm": {
     "name": "#%%\n"
    }
   },
   "outputs": [
    {
     "name": "stdout",
     "output_type": "stream",
     "text": [
      "1\n",
      "Accuracy: 0.7656626506024097\n",
      "2\n",
      "Accuracy: 0.7578313253012048\n",
      "3\n",
      "Accuracy: 0.7933734939759036\n",
      "4\n",
      "Accuracy: 0.8048192771084337\n",
      "5\n",
      "Accuracy: 0.8072289156626506\n",
      "6\n",
      "Accuracy: 0.8126506024096386\n",
      "7\n",
      "Accuracy: 0.8126506024096386\n",
      "8\n",
      "Accuracy: 0.8126506024096386\n",
      "9\n",
      "Accuracy: 0.810843373493976\n",
      "10\n",
      "Accuracy: 0.805421686746988\n",
      "11\n",
      "Accuracy: 0.8162650602409639\n",
      "12\n",
      "Accuracy: 0.8114457831325301\n",
      "13\n",
      "Accuracy: 0.8234939759036145\n",
      "14\n",
      "Accuracy: 0.8198795180722892\n",
      "15\n",
      "Accuracy: 0.8180722891566266\n",
      "16\n",
      "Accuracy: 0.8210843373493976\n",
      "17\n",
      "Accuracy: 0.8240963855421687\n",
      "18\n",
      "Accuracy: 0.8210843373493976\n",
      "19\n",
      "Accuracy: 0.8216867469879519\n",
      "20\n",
      "Accuracy: 0.8186746987951807\n"
     ]
    }
   ],
   "source": [
    "for i in range(20):\n",
    "    print(i+1)\n",
    "    knn = KNeighborsClassifier(n_neighbors=i+1)\n",
    "    knn.fit(data_train, labels_train)\n",
    "    results = knn.predict(data_test)\n",
    "    print(\"Accuracy:\", metrics.accuracy_score(labels_test, results))\n",
    "\n",
    "# As we increase the numbers the accuracy increases and then decreases from time to time, however the number 7 and 8 have proven to be the ones with the best accuracy under K=10"
   ]
  },
  {
   "cell_type": "markdown",
   "id": "b88f239d",
   "metadata": {
    "pycharm": {
     "name": "#%% md\n"
    }
   },
   "source": [
    "We now try to use a decision tree instead.\n",
    "\n",
    "__(j)__ What is the _minimum_ depth of an appropriate decision tree? Why?\n",
    "\n",
    "The minimum depth should be the same as the number of features so you can evaluate all of the questions."
   ]
  },
  {
   "cell_type": "markdown",
   "id": "afd476f5",
   "metadata": {
    "pycharm": {
     "name": "#%% md\n"
    }
   },
   "source": [
    "__(k)__ Build a decision tree with at least the depth from above. Play around with the tree depth. Include a figure that shows some relevant measure of the performance as a function of the tree depth. Comment on any issues of over-fitting. Decide on a tree which you will keep for later use. Can you do better than the _k_-NN classifier?"
   ]
  },
  {
   "cell_type": "code",
   "execution_count": 41,
   "id": "3cb5b9f1",
   "metadata": {
    "pycharm": {
     "name": "#%%\n"
    }
   },
   "outputs": [
    {
     "name": "stdout",
     "output_type": "stream",
     "text": [
      "18\n",
      "Accuracy: 0.6343373493975903\n"
     ]
    }
   ],
   "source": [
    "print(data_train[0].size)\n",
    "dtc = DecisionTreeClassifier(max_depth=18)\n",
    "\n",
    "dtc.fit(data_train, labels_train)\n",
    "results = dtc.predict(data_test)\n",
    "print(\"Accuracy:\", metrics.accuracy_score(labels_test, results))"
   ]
  },
  {
   "cell_type": "markdown",
   "id": "c47dd7ca",
   "metadata": {
    "pycharm": {
     "name": "#%% md\n"
    }
   },
   "source": [
    "__(l)__ What are the most important features? Visualize this in an appropriate way. Does it match what you would expect? Compare to the results of the PCA analysis. Do we expect them to be the same? Why/why not?"
   ]
  },
  {
   "cell_type": "code",
   "execution_count": 42,
   "id": "c0eb31a4",
   "metadata": {
    "pycharm": {
     "name": "#%%\n"
    }
   },
   "outputs": [
    {
     "name": "stdout",
     "output_type": "stream",
     "text": [
      "Feature ranking:\n",
      "1. Feature 9 (0.10448533526634408)\n",
      "2. Feature 4 (0.08830097054203376)\n",
      "3. Feature 16 (0.07475514834040459)\n",
      "4. Feature 3 (0.06653013311907617)\n",
      "5. Feature 10 (0.06340408386574362)\n",
      "6. Feature 11 (0.05696230235406803)\n",
      "7. Feature 2 (0.052315355536194146)\n",
      "8. Feature 6 (0.05091761431576445)\n",
      "9. Feature 5 (0.050677827091619394)\n",
      "10. Feature 0 (0.04956552674620618)\n",
      "11. Feature 15 (0.04902854269586032)\n",
      "12. Feature 1 (0.04643255481162586)\n",
      "13. Feature 8 (0.045772241911573884)\n",
      "14. Feature 17 (0.045455628947141336)\n",
      "15. Feature 12 (0.04282584038061861)\n",
      "16. Feature 13 (0.03978122224368662)\n",
      "17. Feature 14 (0.03897948136205357)\n",
      "18. Feature 7 (0.03381019046998535)\n"
     ]
    }
   ],
   "source": [
    "importances = dtc.feature_importances_\n",
    "sorted_indices = np.argsort(importances)[::-1]\n",
    "print(\"Feature ranking:\")\n",
    "for f in range(data_train.shape[1]):\n",
    "    print(\"{}. Feature {} ({})\".format(f + 1, sorted_indices[f], importances[sorted_indices[f]]))"
   ]
  },
  {
   "cell_type": "markdown",
   "id": "7d972f1d",
   "metadata": {
    "pycharm": {
     "name": "#%% md\n"
    }
   },
   "source": [
    "We know that decision trees suffer from certain problems that may be solved by using decision forests.\n",
    "\n",
    "__(m)__ Build a decision forest. Play around with the number of trees in the forest. Decide on a forest."
   ]
  },
  {
   "cell_type": "code",
   "execution_count": 43,
   "id": "6d3e4aef",
   "metadata": {
    "pycharm": {
     "name": "#%%\n"
    }
   },
   "outputs": [
    {
     "name": "stdout",
     "output_type": "stream",
     "text": [
      "Accuracy: 0.7975903614457831\n"
     ]
    }
   ],
   "source": [
    "rfc = RandomForestClassifier(20)\n",
    "rfc.fit(data_train, labels_train)\n",
    "results = rfc.predict(data_test)\n",
    "print(\"Accuracy:\", metrics.accuracy_score(labels_test, results))"
   ]
  },
  {
   "cell_type": "markdown",
   "id": "c2a53456",
   "metadata": {
    "pycharm": {
     "name": "#%% md\n"
    }
   },
   "source": [
    "__(n)__ Extract the most important features. Comment and compare with previously obtained results."
   ]
  },
  {
   "cell_type": "code",
   "execution_count": 44,
   "id": "b47b80cc",
   "metadata": {
    "pycharm": {
     "name": "#%%\n"
    }
   },
   "outputs": [
    {
     "name": "stdout",
     "output_type": "stream",
     "text": [
      "1. Feature 9 (0.08753798947170553)\n",
      "2. Feature 4 (0.07057144609972964)\n",
      "3. Feature 16 (0.06892220517670335)\n",
      "4. Feature 15 (0.06392424582219193)\n",
      "5. Feature 10 (0.0583715826534459)\n",
      "6. Feature 5 (0.05837053569412073)\n",
      "7. Feature 11 (0.05653474565217469)\n",
      "8. Feature 3 (0.055868873781874814)\n",
      "9. Feature 17 (0.05440824341158074)\n",
      "10. Feature 0 (0.0523496064549275)\n",
      "11. Feature 1 (0.05230569944218699)\n",
      "12. Feature 6 (0.04981524244514114)\n",
      "13. Feature 13 (0.04942828464101397)\n",
      "14. Feature 2 (0.04685663758702285)\n",
      "15. Feature 12 (0.04673052592292487)\n",
      "16. Feature 8 (0.04551577764846007)\n",
      "17. Feature 14 (0.043095797092971136)\n",
      "18. Feature 7 (0.03939256100182413)\n"
     ]
    }
   ],
   "source": [
    "importances = rfc.feature_importances_\n",
    "sorted_indices = np.argsort(importances)[::-1]\n",
    "for f in range(data_train.shape[1]):\n",
    "    print(\"{}. Feature {} ({})\".format(f + 1, sorted_indices[f], importances[sorted_indices[f]]))"
   ]
  },
  {
   "cell_type": "markdown",
   "id": "4ca5e487",
   "metadata": {
    "pycharm": {
     "name": "#%% md\n"
    }
   },
   "source": [
    "Finally, we want to compare the models we have worked with so far (i.e., Naive Bayes, _k_-NN, decision tree and decision forest).\n",
    "\n",
    "__(o)__ Compare the results of the in terms of confusion matrices, accuracy, precision, recall, and f-score. How well can we predict the partisan affiliation of a candidate based on their answers to a test? How does this compare with your intuition?\n",
    "\n",
    "Naive Bayes 0.7072289156626506\n",
    "K-Nearest Neighbor 0.8240963855421687\n",
    "Decision Tree Classifier 0.6343373493975903\n",
    "Random Forest: 0.805421686746988\n"
   ]
  },
  {
   "cell_type": "markdown",
   "id": "4617a9b9",
   "metadata": {
    "pycharm": {
     "name": "#%% md\n"
    }
   },
   "source": [
    "## 5. Sentiment Analysis (João)\n",
    "\n",
    "__You should be able to do this exercise after Lecture 8.__"
   ]
  },
  {
   "cell_type": "markdown",
   "id": "ac0ecc3c",
   "metadata": {
    "pycharm": {
     "name": "#%% md\n"
    }
   },
   "source": [
    "In this exercise we use the IMDb-dataset, which we will use to perform a sentiment analysis. The code below assumes that the data is placed in the same folder as this notebook. We see that the reviews are loaded as a pandas dataframe, and print the beginning of the first few reviews."
   ]
  },
  {
   "cell_type": "code",
   "execution_count": 45,
   "id": "f5775877",
   "metadata": {
    "pycharm": {
     "name": "#%%\n"
    }
   },
   "outputs": [
    {
     "name": "stdout",
     "output_type": "stream",
     "text": [
      "bromwell high is a cartoon comedy . it ran at the same time as some other programs about school life  such as  teachers  . my   years in the teaching profession lead me to believe that bromwell high  s satire is much closer to reality than is  teachers  . the scramble to survive financially  the insightful students who can see right through their pathetic teachers  pomp  the pettiness of the whole situation  all remind me of the schools i knew and their students . when i saw the episode in which a student repeatedly tried to burn down the school  i immediately recalled . . . . . . . . . at . . . . . . . . . . high . a classic line inspector i  m here to sack one of your teachers . student welcome to bromwell high . i expect that many adults of my age think that bromwell high is far fetched . what a pity that it isn  t   \n",
      "positive\n",
      "<class 'list'>\n"
     ]
    }
   ],
   "source": [
    "data = pd.read_csv('5 Sentiment Analysis/reviews.txt', header=None)\n",
    "labels = pd.read_csv('5 Sentiment Analysis/labels.txt', header=None)\n",
    "Y = (labels=='positive').astype(np.int_)\n",
    "\n",
    "data = data.values.tolist()\n",
    "data= [x[0] for x in data]\n",
    "print(data[0])\n",
    "\n",
    "labels = labels.values.tolist()\n",
    "labels = [x[0] for x in labels]\n",
    "print(labels[0])\n",
    "\n",
    "print(type(data))"
   ]
  },
  {
   "cell_type": "markdown",
   "id": "b26c5424",
   "metadata": {
    "pycharm": {
     "name": "#%% md\n"
    }
   },
   "source": [
    "**(a)** Split the reviews and labels in test, train and validation sets. The train and validation sets will be used to train your model and tune hyperparameters, the test set will be saved for testing."
   ]
  },
  {
   "cell_type": "code",
   "execution_count": 46,
   "id": "a109cd18",
   "metadata": {
    "pycharm": {
     "name": "#%%\n"
    }
   },
   "outputs": [],
   "source": [
    "data_train, data_test, labels_train, labels_test = train_test_split(data,Y,test_size=0.2, random_state = 69)"
   ]
  },
  {
   "cell_type": "markdown",
   "id": "064ade5e",
   "metadata": {
    "pycharm": {
     "name": "#%% md\n"
    }
   },
   "source": [
    "**(b)** Use the `CountVectorizer` from `sklearn.feature_extraction.text` to create a Bag-of-Words representation of the reviews. (See an example of how to do this in chapter 7 of \"Muller and Guido\"). Only use the 10,000 most frequent words (use the `max_features`-parameter of `CountVectorizer`)."
   ]
  },
  {
   "cell_type": "code",
   "execution_count": 47,
   "id": "772f35eb",
   "metadata": {
    "pycharm": {
     "name": "#%%\n"
    }
   },
   "outputs": [],
   "source": [
    "vectorizer = CountVectorizer(max_features=10000)\n",
    "vectorizer = vectorizer.fit(data_train)\n",
    "bag_of_words_train = vectorizer.transform(data_train)\n",
    "\n",
    "bag_of_words_test = vectorizer.transform(data_test)"
   ]
  },
  {
   "cell_type": "markdown",
   "id": "cc3e4bc3",
   "metadata": {
    "pycharm": {
     "name": "#%% md\n"
    }
   },
   "source": [
    "**(c)** Explore the representation of the reviews. How is a single word represented? How about a whole review?"
   ]
  },
  {
   "cell_type": "markdown",
   "id": "4dce16e0",
   "metadata": {
    "pycharm": {
     "name": "#%% md\n"
    }
   },
   "source": [
    "**(d)** Train a neural network with a single hidden layer on the dataset, tuning the relevant hyperparameters to optimize accuracy."
   ]
  },
  {
   "cell_type": "code",
   "execution_count": 50,
   "id": "56c638cf",
   "metadata": {
    "pycharm": {
     "name": "#%%\n"
    }
   },
   "outputs": [
    {
     "name": "stdout",
     "output_type": "stream",
     "text": [
      "Model: \"sequential_3\"\n",
      "_________________________________________________________________\n",
      " Layer (type)                Output Shape              Param #   \n",
      "=================================================================\n",
      " dense_1 (Dense)             (None, 16)                160016    \n",
      "                                                                 \n",
      " dense_2 (Dense)             (None, 1)                 17        \n",
      "                                                                 \n",
      "=================================================================\n",
      "Total params: 160,033\n",
      "Trainable params: 160,033\n",
      "Non-trainable params: 0\n",
      "_________________________________________________________________\n",
      "Epoch 1/5\n",
      "500/500 [==============================] - 29s 44ms/step - loss: 0.3635 - accuracy: 0.8516 - val_loss: 0.2882 - val_accuracy: 0.8892\n",
      "Epoch 2/5\n",
      "500/500 [==============================] - 9s 17ms/step - loss: 0.1936 - accuracy: 0.9318 - val_loss: 0.3077 - val_accuracy: 0.8835\n",
      "Epoch 3/5\n",
      "500/500 [==============================] - 6s 11ms/step - loss: 0.1393 - accuracy: 0.9508 - val_loss: 0.3655 - val_accuracy: 0.8695\n",
      "Epoch 4/5\n",
      "500/500 [==============================] - 6s 12ms/step - loss: 0.1001 - accuracy: 0.9670 - val_loss: 0.4019 - val_accuracy: 0.8742\n",
      "Epoch 5/5\n",
      "500/500 [==============================] - 7s 14ms/step - loss: 0.0746 - accuracy: 0.9780 - val_loss: 0.4420 - val_accuracy: 0.8705\n"
     ]
    }
   ],
   "source": [
    "np.random.seed(69)\n",
    "tf.random.set_seed(69)\n",
    "\n",
    "input_size = 10000\n",
    "model = Sequential()\n",
    "model.add(Dense(units=16, activation='relu', input_dim=input_size))\n",
    "model.add(Dense(1, activation = 'sigmoid')) # Sigmoid with 1 neuron since we have binary prediction\n",
    "model.summary()\n",
    "\n",
    "learning_rate = 0.001\n",
    "model.compile(loss='binary_crossentropy', optimizer=keras.optimizers.Adam(learning_rate=learning_rate), metrics=['accuracy'])\n",
    "\n",
    "epochs = 5\n",
    "batch = 32\n",
    "\n",
    "history = model.fit(bag_of_words_train.toarray(), labels_train,  validation_split = 0.2, epochs=epochs, batch_size=batch)"
   ]
  },
  {
   "cell_type": "markdown",
   "id": "24925fca",
   "metadata": {
    "pycharm": {
     "name": "#%% md\n"
    }
   },
   "source": [
    "**(e)** Test your sentiment-classifier on the test set."
   ]
  },
  {
   "cell_type": "code",
   "execution_count": 12,
   "id": "128a1278",
   "metadata": {
    "pycharm": {
     "name": "#%%\n"
    }
   },
   "outputs": [
    {
     "name": "stdout",
     "output_type": "stream",
     "text": [
      "625/625 [==============================] - 10s 13ms/step - loss: 0.1175 - accuracy: 0.9705\n",
      "Loss + accuracy on train data: [0.11745626479387283, 0.9704999923706055]\n",
      "157/157 [==============================] - 1s 4ms/step - loss: 0.4286 - accuracy: 0.8806\n",
      "Loss + accuracy on test data: [0.4286472201347351, 0.8805999755859375]\n"
     ]
    }
   ],
   "source": [
    "print(\"Loss + accuracy on train data: {}\".format(model.evaluate(bag_of_words_train.toarray(), labels_train)))\n",
    "print(\"Loss + accuracy on test data: {}\".format(model.evaluate(bag_of_words_test.toarray(), labels_test)))"
   ]
  },
  {
   "cell_type": "markdown",
   "id": "b9f685c4",
   "metadata": {
    "pycharm": {
     "name": "#%% md\n"
    }
   },
   "source": [
    "**(h)** Use the classifier to classify a few sentences you write yourselves."
   ]
  },
  {
   "cell_type": "code",
   "execution_count": 77,
   "id": "6853b659",
   "metadata": {
    "pycharm": {
     "name": "#%%\n"
    }
   },
   "outputs": [
    {
     "ename": "AttributeError",
     "evalue": "'int' object has no attribute 'lower'",
     "output_type": "error",
     "traceback": [
      "\u001b[1;31m---------------------------------------------------------------------------\u001b[0m",
      "\u001b[1;31mAttributeError\u001b[0m                            Traceback (most recent call last)",
      "Cell \u001b[1;32mIn [77], line 2\u001b[0m\n\u001b[0;32m      1\u001b[0m new_data \u001b[38;5;241m=\u001b[39m pd\u001b[38;5;241m.\u001b[39mDataFrame([\u001b[38;5;124m\"\u001b[39m\u001b[38;5;124mI went to the supermarket!\u001b[39m\u001b[38;5;124m\"\u001b[39m, \u001b[38;5;124m\"\u001b[39m\u001b[38;5;124mYou are smart!\u001b[39m\u001b[38;5;124m\"\u001b[39m, \u001b[38;5;124m\"\u001b[39m\u001b[38;5;124mDo me a favour!\u001b[39m\u001b[38;5;124m\"\u001b[39m])\n\u001b[1;32m----> 2\u001b[0m new_bag \u001b[38;5;241m=\u001b[39m \u001b[43mvectorizer\u001b[49m\u001b[38;5;241;43m.\u001b[39;49m\u001b[43mtransform\u001b[49m\u001b[43m(\u001b[49m\u001b[43mnew_data\u001b[49m\u001b[43m)\u001b[49m\n\u001b[0;32m      3\u001b[0m new_label \u001b[38;5;241m=\u001b[39m tf\u001b[38;5;241m.\u001b[39mconvert_to_tensor([\u001b[38;5;241m1\u001b[39m, \u001b[38;5;241m0\u001b[39m, \u001b[38;5;241m1\u001b[39m])\n\u001b[0;32m      4\u001b[0m \u001b[38;5;28mprint\u001b[39m(\u001b[38;5;124m\"\u001b[39m\u001b[38;5;124mLoss + accuracy on new data: \u001b[39m\u001b[38;5;132;01m{}\u001b[39;00m\u001b[38;5;124m\"\u001b[39m\u001b[38;5;241m.\u001b[39mformat(model\u001b[38;5;241m.\u001b[39mevaluate(new_bag\u001b[38;5;241m.\u001b[39mtoarray(), new_label)))\n",
      "File \u001b[1;32m~\\AppData\\Local\\Programs\\Python\\Python310\\lib\\site-packages\\sklearn\\feature_extraction\\text.py:1387\u001b[0m, in \u001b[0;36mCountVectorizer.transform\u001b[1;34m(self, raw_documents)\u001b[0m\n\u001b[0;32m   1384\u001b[0m \u001b[38;5;28mself\u001b[39m\u001b[38;5;241m.\u001b[39m_check_vocabulary()\n\u001b[0;32m   1386\u001b[0m \u001b[38;5;66;03m# use the same matrix-building strategy as fit_transform\u001b[39;00m\n\u001b[1;32m-> 1387\u001b[0m _, X \u001b[38;5;241m=\u001b[39m \u001b[38;5;28;43mself\u001b[39;49m\u001b[38;5;241;43m.\u001b[39;49m\u001b[43m_count_vocab\u001b[49m\u001b[43m(\u001b[49m\u001b[43mraw_documents\u001b[49m\u001b[43m,\u001b[49m\u001b[43m \u001b[49m\u001b[43mfixed_vocab\u001b[49m\u001b[38;5;241;43m=\u001b[39;49m\u001b[38;5;28;43;01mTrue\u001b[39;49;00m\u001b[43m)\u001b[49m\n\u001b[0;32m   1388\u001b[0m \u001b[38;5;28;01mif\u001b[39;00m \u001b[38;5;28mself\u001b[39m\u001b[38;5;241m.\u001b[39mbinary:\n\u001b[0;32m   1389\u001b[0m     X\u001b[38;5;241m.\u001b[39mdata\u001b[38;5;241m.\u001b[39mfill(\u001b[38;5;241m1\u001b[39m)\n",
      "File \u001b[1;32m~\\AppData\\Local\\Programs\\Python\\Python310\\lib\\site-packages\\sklearn\\feature_extraction\\text.py:1209\u001b[0m, in \u001b[0;36mCountVectorizer._count_vocab\u001b[1;34m(self, raw_documents, fixed_vocab)\u001b[0m\n\u001b[0;32m   1207\u001b[0m \u001b[38;5;28;01mfor\u001b[39;00m doc \u001b[38;5;129;01min\u001b[39;00m raw_documents:\n\u001b[0;32m   1208\u001b[0m     feature_counter \u001b[38;5;241m=\u001b[39m {}\n\u001b[1;32m-> 1209\u001b[0m     \u001b[38;5;28;01mfor\u001b[39;00m feature \u001b[38;5;129;01min\u001b[39;00m \u001b[43manalyze\u001b[49m\u001b[43m(\u001b[49m\u001b[43mdoc\u001b[49m\u001b[43m)\u001b[49m:\n\u001b[0;32m   1210\u001b[0m         \u001b[38;5;28;01mtry\u001b[39;00m:\n\u001b[0;32m   1211\u001b[0m             feature_idx \u001b[38;5;241m=\u001b[39m vocabulary[feature]\n",
      "File \u001b[1;32m~\\AppData\\Local\\Programs\\Python\\Python310\\lib\\site-packages\\sklearn\\feature_extraction\\text.py:111\u001b[0m, in \u001b[0;36m_analyze\u001b[1;34m(doc, analyzer, tokenizer, ngrams, preprocessor, decoder, stop_words)\u001b[0m\n\u001b[0;32m    109\u001b[0m \u001b[38;5;28;01melse\u001b[39;00m:\n\u001b[0;32m    110\u001b[0m     \u001b[38;5;28;01mif\u001b[39;00m preprocessor \u001b[38;5;129;01mis\u001b[39;00m \u001b[38;5;129;01mnot\u001b[39;00m \u001b[38;5;28;01mNone\u001b[39;00m:\n\u001b[1;32m--> 111\u001b[0m         doc \u001b[38;5;241m=\u001b[39m \u001b[43mpreprocessor\u001b[49m\u001b[43m(\u001b[49m\u001b[43mdoc\u001b[49m\u001b[43m)\u001b[49m\n\u001b[0;32m    112\u001b[0m     \u001b[38;5;28;01mif\u001b[39;00m tokenizer \u001b[38;5;129;01mis\u001b[39;00m \u001b[38;5;129;01mnot\u001b[39;00m \u001b[38;5;28;01mNone\u001b[39;00m:\n\u001b[0;32m    113\u001b[0m         doc \u001b[38;5;241m=\u001b[39m tokenizer(doc)\n",
      "File \u001b[1;32m~\\AppData\\Local\\Programs\\Python\\Python310\\lib\\site-packages\\sklearn\\feature_extraction\\text.py:69\u001b[0m, in \u001b[0;36m_preprocess\u001b[1;34m(doc, accent_function, lower)\u001b[0m\n\u001b[0;32m     50\u001b[0m \u001b[38;5;124;03m\"\"\"Chain together an optional series of text preprocessing steps to\u001b[39;00m\n\u001b[0;32m     51\u001b[0m \u001b[38;5;124;03mapply to a document.\u001b[39;00m\n\u001b[0;32m     52\u001b[0m \n\u001b[1;32m   (...)\u001b[0m\n\u001b[0;32m     66\u001b[0m \u001b[38;5;124;03m    preprocessed string\u001b[39;00m\n\u001b[0;32m     67\u001b[0m \u001b[38;5;124;03m\"\"\"\u001b[39;00m\n\u001b[0;32m     68\u001b[0m \u001b[38;5;28;01mif\u001b[39;00m lower:\n\u001b[1;32m---> 69\u001b[0m     doc \u001b[38;5;241m=\u001b[39m \u001b[43mdoc\u001b[49m\u001b[38;5;241;43m.\u001b[39;49m\u001b[43mlower\u001b[49m()\n\u001b[0;32m     70\u001b[0m \u001b[38;5;28;01mif\u001b[39;00m accent_function \u001b[38;5;129;01mis\u001b[39;00m \u001b[38;5;129;01mnot\u001b[39;00m \u001b[38;5;28;01mNone\u001b[39;00m:\n\u001b[0;32m     71\u001b[0m     doc \u001b[38;5;241m=\u001b[39m accent_function(doc)\n",
      "\u001b[1;31mAttributeError\u001b[0m: 'int' object has no attribute 'lower'"
     ]
    }
   ],
   "source": [
    "new_data = pd.DataFrame([\"I went to the supermarket!\", \"You are smart!\", \"Do me a favour!\"])\n",
    "new_bag = vectorizer.transform(new_data)\n",
    "new_label = tf.convert_to_tensor([1, 0, 1])\n",
    "print(\"Loss + accuracy on new data: {}\".format(model.evaluate(new_bag.toarray(), new_label)))"
   ]
  },
  {
   "cell_type": "markdown",
   "id": "bf69ef63",
   "metadata": {
    "pycharm": {
     "name": "#%% md\n"
    }
   },
   "source": [
    "## 6. Speech Recognition (João)\n",
    "\n",
    "__You should be able to do this exercise after Lecture 9.__"
   ]
  },
  {
   "cell_type": "markdown",
   "id": "4dfd0dbf",
   "metadata": {
    "pycharm": {
     "name": "#%% md\n"
    }
   },
   "source": [
    "In this exercise, we will work with the <a href=\"https://arxiv.org/pdf/1804.03209.pdf\">Google Speech Command Dataset</a>, which can be downloaded from <a href=\"http://download.tensorflow.org/data/speech_commands_v0.02.tar.gz\">here</a> (note: you do not need to download the full dataset, but it will allow you to play around with the raw audiofiles). This dataset contains 105,829 one-second long audio files with utterances of 35 common words.\n",
    "\n",
    "We will use a subset of this dataset as indicated in the table below.\n",
    "\n",
    "| Word | How many? | Class # |\n",
    "| :-: | :-: | :-: |\n",
    "| Yes | 4,044 | 3 |\n",
    "| No | 3,941 | 1 |\n",
    "| Stop | 3,872 | 2 |\n",
    "| Go | 3,880 | 0 |\n",
    "\n",
    "The data is given in the files `XSound.npy` and `YSound.npy`, both of which can be imported using `numpy.load`. `XSound.npy` contains spectrograms (_e.g._, matrices with a time-axis and a frequency-axis of size 62 (time) x 65 (frequency)). `YSound.npy` contains the class number, as indicated in the table above."
   ]
  },
  {
   "cell_type": "markdown",
   "id": "7de7cbbb",
   "metadata": {
    "pycharm": {
     "name": "#%% md\n"
    }
   },
   "source": [
    "__(a)__ Explore and prepare the data, including splitting the data in training, validation and testing data, handling outliers, perhaps taking logarithms, etc. Data preparation is - as always - quite important. Document what you do."
   ]
  },
  {
   "cell_type": "code",
   "execution_count": 2,
   "id": "118d3ced",
   "metadata": {
    "pycharm": {
     "name": "#%%\n"
    }
   },
   "outputs": [
    {
     "name": "stdout",
     "output_type": "stream",
     "text": [
      "1.0\n"
     ]
    }
   ],
   "source": [
    "data = np.load(\"6 Speech Recognition/XSound.npy\")\n",
    "labels_basic = np.load(\"6 Speech Recognition/YSound.npy\")\n",
    "labels = to_categorical(labels_basic, 4)\n",
    "print(labels[0][0])\n",
    "data_train, data_test, labels_train, labels_test = train_test_split(data,labels,test_size=0.2, random_state = 69)"
   ]
  },
  {
   "cell_type": "markdown",
   "id": "2a15bd8a",
   "metadata": {
    "pycharm": {
     "name": "#%% md\n"
    }
   },
   "source": [
    "__(b)__ Visualize a few examples of yes's, no's, stop's and go's, so that you have a reasonable intuitive understanding of the difference between the words."
   ]
  },
  {
   "cell_type": "code",
   "execution_count": 3,
   "id": "28b9c14b",
   "metadata": {
    "pycharm": {
     "name": "#%%\n"
    }
   },
   "outputs": [
    {
     "name": "stdout",
     "output_type": "stream",
     "text": [
      "(12589, 62, 65, 1)\n"
     ]
    },
    {
     "data": {
      "image/png": "[encoded data removed]",
      "text/plain": [
       "<Figure size 640x480 with 1 Axes>"
      ]
     },
     "metadata": {},
     "output_type": "display_data"
    },
    {
     "data": {
      "image/png": "[encoded data removed]",
      "text/plain": [
       "<Figure size 640x480 with 1 Axes>"
      ]
     },
     "metadata": {},
     "output_type": "display_data"
    },
    {
     "data": {
      "image/png": "[encoded data removed]",
      "text/plain": [
       "<Figure size 640x480 with 1 Axes>"
      ]
     },
     "metadata": {},
     "output_type": "display_data"
    },
    {
     "data": {
      "image/png": "[encoded data removed]",
      "text/plain": [
       "<Figure size 640x480 with 1 Axes>"
      ]
     },
     "metadata": {},
     "output_type": "display_data"
    }
   ],
   "source": [
    "def to_string(l):\n",
    "    if l[0] == 1.0:\n",
    "        return \"Go\"\n",
    "    elif l[1] == 1.0:\n",
    "        return \"No\"\n",
    "    elif l[2] == 1.0:\n",
    "        return \"Stop\"\n",
    "    elif l[3] == 1.0:\n",
    "        return \"Yes\"\n",
    "\n",
    "print(data_train.shape)\n",
    "indexes = []\n",
    "nums = []\n",
    "num = 0\n",
    "\n",
    "for i in labels:\n",
    "    if to_string(i) not in nums:\n",
    "        indexes.append(num)\n",
    "        nums.append(to_string(i))\n",
    "    num += 1\n",
    "\n",
    "for n in indexes:\n",
    "    plot.title(to_string(labels[n]))\n",
    "    plot.plot(data[n][0])\n",
    "    plot.show()"
   ]
  },
  {
   "cell_type": "markdown",
   "id": "db128db0",
   "metadata": {
    "pycharm": {
     "name": "#%% md\n"
    }
   },
   "source": [
    "__(c)__ Train a neural network and at least one other algorithm on the data. Find a good set of hyperparameters for each model. Do you think a neural network is suitable for this kind of problem? Why/why not?\n",
    "\n",
    "I think a neural network is the most suitable solution for this problem since it deals with sound which is really hard for other machine learning algorithms to understand and work with."
   ]
  },
  {
   "cell_type": "code",
   "execution_count": 4,
   "id": "85c3c6b2",
   "metadata": {
    "pycharm": {
     "name": "#%%\n"
    }
   },
   "outputs": [
    {
     "name": "stdout",
     "output_type": "stream",
     "text": [
      "Epoch 1/10\n",
      "177/177 [==============================] - 46s 211ms/step - loss: 0.8147 - accuracy: 0.6782 - val_loss: 0.6505 - val_accuracy: 0.7466\n",
      "Epoch 2/10\n",
      "177/177 [==============================] - 25s 140ms/step - loss: 0.5500 - accuracy: 0.7899 - val_loss: 0.5478 - val_accuracy: 0.7908\n",
      "Epoch 3/10\n",
      "177/177 [==============================] - 25s 143ms/step - loss: 0.4542 - accuracy: 0.8284 - val_loss: 0.7402 - val_accuracy: 0.7427\n",
      "Epoch 4/10\n",
      "177/177 [==============================] - 33s 187ms/step - loss: 0.3967 - accuracy: 0.8505 - val_loss: 0.4717 - val_accuracy: 0.8261\n",
      "Epoch 5/10\n",
      "177/177 [==============================] - 31s 174ms/step - loss: 0.3404 - accuracy: 0.8746 - val_loss: 0.4966 - val_accuracy: 0.8141\n",
      "Epoch 6/10\n",
      "177/177 [==============================] - 31s 177ms/step - loss: 0.3057 - accuracy: 0.8874 - val_loss: 0.5354 - val_accuracy: 0.8022\n",
      "Epoch 7/10\n",
      "177/177 [==============================] - 22s 126ms/step - loss: 0.2684 - accuracy: 0.9039 - val_loss: 0.5389 - val_accuracy: 0.8067\n",
      "Epoch 8/10\n",
      "177/177 [==============================] - 31s 173ms/step - loss: 0.2382 - accuracy: 0.9132 - val_loss: 0.4429 - val_accuracy: 0.8388\n",
      "Epoch 9/10\n",
      "177/177 [==============================] - 29s 165ms/step - loss: 0.2124 - accuracy: 0.9281 - val_loss: 0.4477 - val_accuracy: 0.8343\n",
      "Epoch 10/10\n",
      "177/177 [==============================] - 28s 158ms/step - loss: 0.1909 - accuracy: 0.9365 - val_loss: 0.5156 - val_accuracy: 0.8197\n"
     ]
    }
   ],
   "source": [
    "seed(69)\n",
    "tf.random.set_seed(69)\n",
    "\n",
    "model = Sequential()\n",
    "\n",
    "model.add(Conv2D(32, (3,3), activation='tanh', input_shape=data_train[0].shape))\n",
    "model.add(MaxPooling2D(pool_size=(2,2)))\n",
    "model.add(Flatten())\n",
    "model.add(Dense(units = 4, activation = 'softmax'))\n",
    "\n",
    "sgd = optimizers.SGD(learning_rate = 0.1)\n",
    "model.compile(loss = 'categorical_crossentropy', optimizer = sgd, metrics = ['accuracy'])\n",
    "\n",
    "history = model.fit(data_train, labels_train, epochs = 10, batch_size = 50, verbose = 1, validation_split = 0.3)"
   ]
  },
  {
   "cell_type": "markdown",
   "id": "18816c71",
   "metadata": {
    "pycharm": {
     "name": "#%% md\n"
    }
   },
   "source": [
    "Here we run the random forest classifier, but first we have to reshape the data to work with it."
   ]
  },
  {
   "cell_type": "code",
   "execution_count": 5,
   "id": "8bd3ad8d",
   "metadata": {
    "pycharm": {
     "name": "#%%\n"
    }
   },
   "outputs": [],
   "source": [
    "dtra, dtrb, dtrc, _ = data_train.shape\n",
    "dtea, dteb, dtec, _ = data_test.shape\n",
    "\n",
    "reg = RandomForestClassifier().fit(data_train.reshape((dtra,dtrb*dtrc)), labels_train)"
   ]
  },
  {
   "cell_type": "markdown",
   "id": "719b2ee7",
   "metadata": {
    "pycharm": {
     "name": "#%% md\n"
    }
   },
   "source": [
    "__(d)__ Classify instances of the validation set using your models. Comment on the results in terms of metrics you have learned in the course."
   ]
  },
  {
   "cell_type": "code",
   "execution_count": 6,
   "id": "27139f07",
   "metadata": {
    "pycharm": {
     "name": "#%%\n"
    }
   },
   "outputs": [
    {
     "name": "stdout",
     "output_type": "stream",
     "text": [
      "394/394 [==============================] - 8s 21ms/step - loss: 0.3114 - accuracy: 0.8890\n",
      "Accuracy on training data: [0.31142759323120117, 0.8889506459236145]\n",
      "99/99 [==============================] - 2s 19ms/step - loss: 0.5617 - accuracy: 0.8132\n",
      "Accuracy on test data: [0.5617004036903381, 0.8132147192955017]\n"
     ]
    }
   ],
   "source": [
    "print(\"Accuracy on training data: {}\".format(model.evaluate(data_train, labels_train)))\n",
    "print(\"Accuracy on test data: {}\".format(model.evaluate(data_test, labels_test)))"
   ]
  },
  {
   "cell_type": "code",
   "execution_count": 7,
   "id": "47473614",
   "metadata": {
    "pycharm": {
     "name": "#%%\n"
    }
   },
   "outputs": [
    {
     "name": "stdout",
     "output_type": "stream",
     "text": [
      "Accuracy on training data: 1.0\n",
      "Accuracy on test data: 0.6556543837357052\n"
     ]
    }
   ],
   "source": [
    "print(\"Accuracy on training data: {}\".format(reg.score(data_train.reshape((dtra,dtrb*dtrc)), labels_train)))\n",
    "print(\"Accuracy on test data: {}\".format(reg.score(data_test.reshape((dtea,dteb*dtec)), labels_test)))"
   ]
  },
  {
   "cell_type": "markdown",
   "id": "3c40fdde",
   "metadata": {
    "pycharm": {
     "name": "#%% md\n"
    }
   },
   "source": [
    "__(e)__ Identify (a few) misclassified words, including what they are misclassified as. Visualize them as before, and compare with your intuitive understanding of how the words look. Do you find the misclassified examples surprising?"
   ]
  },
  {
   "cell_type": "code",
   "execution_count": 32,
   "id": "89579831",
   "metadata": {
    "pycharm": {
     "name": "#%%\n"
    }
   },
   "outputs": [
    {
     "name": "stdout",
     "output_type": "stream",
     "text": [
      "99/99 [==============================] - 3s 34ms/step\n",
      "Go: 278\n",
      "No: 243\n",
      "Stop: 22\n",
      "Yes: 45\n"
     ]
    }
   ],
   "source": [
    "true_val = np.argmax(labels_test, axis=1)\n",
    "pred_val = model.predict(data_test)\n",
    "pred_val = np.argmax(pred_val, axis=1)\n",
    "zeros, ones, twos, threes = 0, 0, 0, 0\n",
    "\n",
    "misclassified = (pred_val != true_val)\n",
    "for i, m in enumerate(misclassified.data):\n",
    "    if m is True:\n",
    "        if true_val[i] == 0:\n",
    "            zeros+=1\n",
    "        elif true_val[i] == 1:\n",
    "            ones+=1\n",
    "        elif true_val[i] == 2:\n",
    "            twos+=1\n",
    "        else:\n",
    "            threes+=1\n",
    "print(\"Go: {}\\nNo: {}\\nStop: {}\\nYes: {}\".format(zeros, ones, twos, threes))"
   ]
  },
  {
   "cell_type": "markdown",
   "id": "b860293e",
   "metadata": {
    "pycharm": {
     "name": "#%% md\n"
    }
   },
   "source": [
    "The groups that are misclassified the most are the \"Go\" and \"No\" groups this is probably due to how similar both words sound."
   ]
  },
  {
   "cell_type": "markdown",
   "id": "d54e3ae4",
   "metadata": {
    "pycharm": {
     "name": "#%% md\n"
    }
   },
   "source": [
    "## 7. Group Assignment & Presentation"
   ]
  },
  {
   "cell_type": "markdown",
   "id": "d4e0fa91",
   "metadata": {
    "pycharm": {
     "name": "#%% md\n"
    }
   },
   "source": [
    "\n",
    "\n",
    "__You should be able to start up on this exercise after Lecture 1.__\n",
    "\n",
    "*This exercise must be a group effort. That means everyone must participate in the assignment.*\n",
    "\n",
    "In this assignment you will solve a data science problem end-to-end, pretending to be recently hired data scientists in a company. To help you get started, we've prepared a checklist to guide you through the project. Here are the main steps that you will go through:\n",
    "\n",
    "1. Frame the problem and look at the big picture\n",
    "2. Get the data\n",
    "3. Explore and visualise the data to gain insights\n",
    "4. Prepare the data to better expose the underlying data patterns to machine learning algorithms\n",
    "5. Explore many different models and short-list the best ones\n",
    "6. Fine-tune your models\n",
    "7. Present your solution \n",
    "\n",
    "In each step we list a set of questions that one should have in mind when undertaking a data science project. The list is not meant to be exhaustive, but does contain a selection of the most important questions to ask. We will be available to provide assistance with each of the steps, and will allocate some part of each lesson towards working on the projects.\n",
    "\n",
    "Your group must submit a _**single**_ Jupyter notebook, structured in terms of the first 6 sections listed above (the seventh will be a video uploaded to some streaming platform, e.g. YouTube, Vimeo, etc.)."
   ]
  },
  {
   "cell_type": "markdown",
   "id": "5674b386",
   "metadata": {
    "pycharm": {
     "name": "#%% md\n"
    }
   },
   "source": [
    "### 1. Analysis: Frame the problem and look at the big picture\n",
    "1. Find a problem/task that everyone in the group finds interesting\n",
    "2. Define the objective in business terms\n",
    "3. How should you frame the problem (supervised/unsupervised etc.)?\n",
    "4. How should performance be measured?"
   ]
  },
  {
   "cell_type": "markdown",
   "id": "e0b9a7a5",
   "metadata": {
    "pycharm": {
     "name": "#%% md\n"
    }
   },
   "source": [
    "### 2. Get the data\n",
    "1. Find and document where you can get the data from\n",
    "2. Get the data\n",
    "3. Check the size and type of data (time series, geographical etc)"
   ]
  },
  {
   "cell_type": "markdown",
   "id": "0f3b2442",
   "metadata": {
    "pycharm": {
     "name": "#%% md\n"
    }
   },
   "source": [
    "### 3. Explore the data\n",
    "1. Create a copy of the data for explorations (sampling it down to a manageable size if necessary)\n",
    "2. Create a Jupyter notebook to keep a record of your data exploration\n",
    "3. Study each feature and its characteristics:\n",
    "    * Name\n",
    "    * Type (categorical, int/float, bounded/unbounded, text, structured, etc)\n",
    "    * Percentage of missing values\n",
    "    * Check for outliers, rounding errors etc\n",
    "4. For supervised learning tasks, identify the target(s)\n",
    "5. Visualise the data\n",
    "6. Study the correlations between features\n",
    "7. Identify the promising transformations you may want to apply (e.g. convert skewed targets to normal via a log transformation)\n",
    "8. Document what you have learned"
   ]
  },
  {
   "cell_type": "markdown",
   "id": "82ded366",
   "metadata": {
    "pycharm": {
     "name": "#%% md\n"
    }
   },
   "source": [
    "### 4. Prepare the data\n",
    "Notes:\n",
    "* Work on copies of the data (keep the original dataset intact).\n",
    "* Write functions for all data transformations you apply, for three reasons:\n",
    "    * So you can easily prepare the data the next time you run your code\n",
    "    * So you can apply these transformations in future projects\n",
    "    * To clean and prepare the test set\n",
    "    \n",
    "    \n",
    "1. Data cleaning:\n",
    "    * Fix or remove outliers (or keep them)\n",
    "    * Fill in missing values (e.g. with zero, mean, median, regression ...) or drop their rows (or columns)\n",
    "2. Feature selection (optional):\n",
    "    * Drop the features that provide no useful information for the task (e.g. a customer ID is usually useless for modelling).\n",
    "3. Feature engineering, where appropriate:\n",
    "    * Discretize continuous features\n",
    "    * Use one-hot encoding if/when relevant\n",
    "    * Add promising transformations of features (e.g. $\\log(x)$, $\\sqrt{x}$, $x^2$, etc)\n",
    "    * Aggregate features into promising new features\n",
    "4. Feature scaling: standardise or normalise features"
   ]
  },
  {
   "cell_type": "markdown",
   "id": "a03e2967",
   "metadata": {
    "pycharm": {
     "name": "#%% md\n"
    }
   },
   "source": [
    "### 5. Short-list promising models\n",
    "We expect you to do some additional research and train at **least one model per team member**.\n",
    "\n",
    "1. Train mainly quick and dirty models from different categories (e.g. linear, SVM, Random Forests etc) using default parameters\n",
    "2. Measure and compare their performance\n",
    "3. Analyse the most significant variables for each algorithm\n",
    "4. Analyse the types of errors the models make\n",
    "5. Have a quick round of feature selection and engineering if necessary\n",
    "6. Have one or two more quick iterations of the five previous steps\n",
    "7. Short-list the top three to five most promising models, preferring models that make different types of errors"
   ]
  },
  {
   "cell_type": "markdown",
   "id": "da561e1d",
   "metadata": {
    "pycharm": {
     "name": "#%% md\n"
    }
   },
   "source": [
    "### 6. Fine-tune the system\n",
    "1. Fine-tune the hyperparameters\n",
    "2. Once you are confident about your final model, measure its performance on the test set to estimate the generalisation error"
   ]
  },
  {
   "cell_type": "markdown",
   "id": "c3a9e4b6",
   "metadata": {
    "pycharm": {
     "name": "#%% md\n"
    }
   },
   "source": [
    "### 7. Present your solution\n",
    "1. Document what you have done\n",
    "2. Create a nice 15 minute video presentation with slides\n",
    "    * Make sure you highlight the big picture first\n",
    "3. Explain why your solution achieves the business objective\n",
    "4. Don't forget to present interesting points you noticed along the way:\n",
    "    * Describe what worked and what did not\n",
    "    * List your assumptions and you model's limitations\n",
    "5. Ensure your key findings are communicated through nice visualisations or easy-to-remember statements (e.g. \"the median income is the number-one predictor of housing prices\")\n",
    "6. Upload the presentation to some online platform, e.g. YouTube or Vimeo, and supply a link to the video in the notebook."
   ]
  },
  {
   "cell_type": "markdown",
   "id": "beb3d1f3",
   "metadata": {
    "pycharm": {
     "name": "#%% md\n"
    }
   },
   "source": [
    "## References"
   ]
  },
  {
   "cell_type": "markdown",
   "id": "74354481",
   "metadata": {
    "pycharm": {
     "name": "#%% md\n"
    }
   },
   "source": [
    "Géron, A. 2017, *Hands-On Machine Learning with Scikit-Learn and Tensorflow*, Appendix B, O'Reilly Media, Inc., Sebastopol."
   ]
  }
 ],
 "metadata": {
  "kernelspec": {
   "display_name": "Python 3 (ipykernel)",
   "language": "python",
   "name": "python3"
  },
  "language_info": {
   "codemirror_mode": {
    "name": "ipython",
    "version": 3
   },
   "file_extension": ".py",
   "mimetype": "text/x-python",
   "name": "python",
   "nbconvert_exporter": "python",
   "pygments_lexer": "ipython3",
   "version": "3.8.10"
  }
 },
 "nbformat": 4,
 "nbformat_minor": 5
}
